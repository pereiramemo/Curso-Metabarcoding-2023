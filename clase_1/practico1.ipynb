{
 "cells": [
  {
   "cell_type": "markdown",
   "id": "dea3bea7-0544-4d53-9493-d35c2ca50c31",
   "metadata": {},
   "source": [
    "***\n",
    "# **Práctico 1**\n",
    "***"
   ]
  },
  {
   "cell_type": "markdown",
   "id": "0b26e49c-b65f-43ec-a4a3-dec79f68591f",
   "metadata": {},
   "source": [
    "<img src=\"../figures/bash.jpeg\" width=\"500\" height=\"500\" />"
   ]
  },
  {
   "cell_type": "markdown",
   "id": "7ab7ee54-37a4-4c48-bdea-38cbc8f556ac",
   "metadata": {},
   "source": [
    "Bash es un shell de Unix y un lenguaje de comandos escrito por Brian Fox para el Proyecto GNU como un reemplazo de software gratuito para el shell Bourne. Lanzado por primera vez en 1989, se ha utilizado como shell de inicio de sesión predeterminado para la mayoría de las distribuciones de Linux."
   ]
  },
  {
   "cell_type": "markdown",
   "id": "900191eb-4fa1-445f-ba91-014ddf8c3b23",
   "metadata": {},
   "source": [
    "Este práctico pretende hacer una introducción al manejo de la línea de comando en BASH en Linux, particularmente, con la finalidad de trabajar con archivos de textos relacionados a datos de secuenciación.  "
   ]
  },
  {
   "cell_type": "markdown",
   "id": "2a0bea06-c00f-46d0-a709-aa4f0fda8a6e",
   "metadata": {
    "tags": []
   },
   "source": [
    "- **Aclaración:** el contenido de este práctico está muy muy lejos de cubrir comprehensivamente el manejo de la línea de comandos en BASH, es sólo una primera aproximación para que los estudiantes tengan una idea de qué es posible hacer con la línea de comando, y puedan empezar a trabajar y aprender más fácilmente de forma autodidacta.  \n",
    "- **Aclaración2:** la terminología en inglés se vuelve muy práctica en esta temática y será usada en cuando sea pertinente (no debe tener ninguna connotación ideológica).\n",
    "- **Aclaración3**: Las secciones algo más avanzadas aparecen marcadas con la imagen: <img src=\"../figures/uphill.png\" width=\"50\" height=\"50\" />  Estas secciones pueden resultar algo compleja para quienes son nuevos en el área. No pretendemos que entiendan finamente cómo funcionan los comandos, la intención es que tengan una comprensión general y código disponible para tareas potencialmente útiles."
   ]
  },
  {
   "cell_type": "markdown",
   "id": "f900be7d-0cb8-4d21-bbb6-1c0e5c13a42f",
   "metadata": {
    "tags": []
   },
   "source": [
    "---\n",
    "**Las secciones de este tutorial son las siguientes**:\n",
    "1. Estructura de archivos  \n",
    "2. Comandos y operadores esenciales  \n",
    "3. sed y awk  \n",
    "4. Variables y bucles  \n",
    "5. Manejo de datos de secuencias  \n",
    "5.1. Obtención de datos  \n",
    "5.2. Exploración de datos  \n",
    "5.3. Otras líneas de comandos interesantes  \n",
    "---"
   ]
  },
  {
   "cell_type": "markdown",
   "id": "7e642bdb-6edc-4483-85d1-56ecd31b490b",
   "metadata": {
    "tags": []
   },
   "source": [
    "---\n",
    "#### **1. Estructura de archivos**\n",
    "---"
   ]
  },
  {
   "cell_type": "markdown",
   "id": "ae3243e3-c8c7-4e0b-9f88-474b0af6ee4a",
   "metadata": {
    "tags": []
   },
   "source": [
    "Linux tiene una estructura jerárquica de archivos. El directorio más basal en esta jerarquía es la raíz, representada como `/`.  \n",
    "Nuestro directorio de trabajo lo vamos a encontrar en `/home/<nombre_de_usuario>`. Por ejemplo `/home/epereira`. "
   ]
  },
  {
   "cell_type": "markdown",
   "id": "aff7d2d2-346e-422b-9ea3-750aea17b676",
   "metadata": {
    "tags": []
   },
   "source": [
    "Para saber dónde estamos actualmente \"parados\" en la línea de comando podemos ejecutar el comando: `pwd` (abreviación de _print working directory_).  \n",
    "Esto nos va a devolver la ruta, partiendo desde la raíz, hasta hasta dónde estamos \"parados\"."
   ]
  },
  {
   "cell_type": "markdown",
   "id": "3880d6fb-ff46-40d7-bc62-69c8dbc916cc",
   "metadata": {},
   "source": [
    "**Nota**: con el comando `man` podemos ver el manual de cada función. Por ejemplo, `man pwd`."
   ]
  },
  {
   "cell_type": "markdown",
   "id": "87688bcd-18ca-454b-b4d8-5b5c1f067c52",
   "metadata": {},
   "source": [
    "Existen dos tipos de rutas: relativa y absoluta.  \n",
    "Relativa, es en relación a dónde estamos parados en el sistema de archivos.  \n",
    "Absoluta, es toda la ruta comenzando siempre desde la raíz.  \n",
    "Al correr el comando `pwd`, lo que obtenemos es la ruta absoluta."
   ]
  },
  {
   "cell_type": "markdown",
   "id": "47fb51e1-407b-47ca-a86c-d48bede934d4",
   "metadata": {
    "tags": []
   },
   "source": [
    "Para poder especificar una ruta relativa necesitamos utilizar el `.` y el `..`. El primero hace referencia a dónde estamos “parados” y el segundo al directorio superior.  \n",
    "Por ejemplo, la ruta relativa desde nuestro directorio al directorio `home` es `ls ../../home`."
   ]
  },
  {
   "cell_type": "markdown",
   "id": "0308168d-e353-437c-95e6-3525ce458ca7",
   "metadata": {},
   "source": [
    "En este momento, es importante introducir dos comandos muy claves: `cd` (_change directory_) y `ls` (_list_).  \n",
    "Al hacer:"
   ]
  },
  {
   "cell_type": "code",
   "execution_count": 8,
   "id": "9d4fd1cc-93e5-4390-850c-a35c42c8f75b",
   "metadata": {
    "tags": []
   },
   "outputs": [
    {
     "name": "stdout",
     "output_type": "stream",
     "text": [
      "\u001b[0m\u001b[01;34macardoso\u001b[0m  \u001b[01;34mbgonzal\u001b[0m  \u001b[01;34mcalonso\u001b[0m    \u001b[01;34mepereira\u001b[0m  \u001b[01;34mjzanetti\u001b[0m  \u001b[01;34mlost+found\u001b[0m  \u001b[01;34mnfsuser\u001b[0m  \u001b[01;34msistemas\u001b[0m\n",
      "\u001b[01;34macardozo\u001b[0m  \u001b[01;34mbioinf\u001b[0m   \u001b[01;34mdcalliari\u001b[0m  \u001b[01;34mimachado\u001b[0m  \u001b[01;34mlgriff\u001b[0m    \u001b[01;34mmillarze\u001b[0m    \u001b[01;34mpgarcia\u001b[0m  \u001b[01;34mvpinelli\u001b[0m\n"
     ]
    }
   ],
   "source": [
    "ls ../../home"
   ]
  },
  {
   "cell_type": "markdown",
   "id": "5cf65f69-1f4d-4224-b703-f78f9bca7ec9",
   "metadata": {
    "tags": []
   },
   "source": [
    "Con este comando estamos listando todo lo que hay en el directorio `/home/`. Como pueden ver, en esta computadora tenemos varios usuarios."
   ]
  },
  {
   "cell_type": "markdown",
   "id": "5ba4a11b-286e-454e-9167-85d281d16f7b",
   "metadata": {
    "tags": []
   },
   "source": [
    "Con `cd` vamos movernos a un directorio dentro de nuestro home llamado `/home/epereira/metabarcoding_workspace/`, que es dónde estaremos realizando este práctico."
   ]
  },
  {
   "cell_type": "markdown",
   "id": "006a930d-1e1e-41b8-8dd1-d4a4d15f9d7b",
   "metadata": {},
   "source": [
    "Pero antes, vamos a crear el directorio con el comando `mkdir`!"
   ]
  },
  {
   "cell_type": "code",
   "execution_count": 9,
   "id": "527470d7-de36-4ecf-92cb-2facad304233",
   "metadata": {
    "tags": []
   },
   "outputs": [],
   "source": [
    "mkdir -p /home/epereira/metabarcoding_workspace/"
   ]
  },
  {
   "cell_type": "code",
   "execution_count": 12,
   "id": "75ba5711-9a09-48f0-9b5b-77102a5b611f",
   "metadata": {
    "tags": []
   },
   "outputs": [],
   "source": [
    "cd /home/epereira/metabarcoding_workspace/"
   ]
  },
  {
   "cell_type": "code",
   "execution_count": 13,
   "id": "def676b9-e8fd-415b-a82f-892598e24fb5",
   "metadata": {
    "tags": []
   },
   "outputs": [
    {
     "name": "stdout",
     "output_type": "stream",
     "text": [
      "/home/epereira/metabarcoding_workspace\n"
     ]
    }
   ],
   "source": [
    "pwd"
   ]
  },
  {
   "cell_type": "markdown",
   "id": "09375927-1d4b-43e2-9231-ae4894c5cb8a",
   "metadata": {
    "tags": []
   },
   "source": [
    "***\n",
    "#### **2. Comandos y operadores esenciales**\n",
    "***"
   ]
  },
  {
   "cell_type": "markdown",
   "id": "46075938-41f6-4e67-a5e6-01d4c7a72808",
   "metadata": {},
   "source": [
    "Además de los comandos `pwd`, `cd`, `ls`, y `mkdir`, abajo aparecen algunos otros esenciales para hacer todas las tareas comúnmente realizadas en una computadora."
   ]
  },
  {
   "cell_type": "markdown",
   "id": "c128393d-fe73-4ce9-ab58-a8d07c26d15e",
   "metadata": {},
   "source": [
    "`cp` copiar un archivo o directorio.  \n",
    "`mv` mover un archivo o directorio.  \n",
    "`rm` remover un archivo o directorio.  \n",
    "`cat` imprimir un archivo en la terminal (salida estándar sería el término adecuado).  \n",
    "`less` ver el contenido de un archivo.  \n",
    "`echo` imprime en la salida texto.   \n",
    "`egrep` busca patrones en un texto."
   ]
  },
  {
   "cell_type": "markdown",
   "id": "78e9dea3-c8ad-4f2e-9056-dc2eaa2c046a",
   "metadata": {
    "tags": []
   },
   "source": [
    "[Acá puedes encontrar una lista más exhaustiva de comandos](https://www.digitalocean.com/community/tutorials/linux-commands)."
   ]
  },
  {
   "cell_type": "markdown",
   "id": "faff3477-de86-4e62-812c-efbfda063bd6",
   "metadata": {
    "tags": []
   },
   "source": [
    "Especialmente, hay dos operadores que es pertinente introducir:"
   ]
  },
  {
   "cell_type": "markdown",
   "id": "30f965f2-edd6-4c2f-ac02-7e2f2259614a",
   "metadata": {
    "tags": []
   },
   "source": [
    "`>` operador de redireccionamiento, permite guardar la salida de un comando en un archivo.  \n",
    "`|` operador de tubería, permite crear un _pipeline_ entre comandos."
   ]
  },
  {
   "cell_type": "markdown",
   "id": "0011d668-ff62-4f1c-b557-b6b9d7771488",
   "metadata": {
    "tags": []
   },
   "source": [
    "Veamos un ejemplo muy sencillo:"
   ]
  },
  {
   "cell_type": "code",
   "execution_count": 14,
   "id": "dea2702e-836f-4b84-9480-734b6f769c7f",
   "metadata": {
    "tags": []
   },
   "outputs": [
    {
     "name": "stdout",
     "output_type": "stream",
     "text": [
      "Este texto es una prueba muy sencilla\n"
     ]
    }
   ],
   "source": [
    "echo \"Este texto es una prueba muy sencilla\""
   ]
  },
  {
   "cell_type": "code",
   "execution_count": 15,
   "id": "27d03bd2-ee46-472b-8d9c-8960eec2a144",
   "metadata": {
    "tags": []
   },
   "outputs": [],
   "source": [
    "echo \"Este texto es una prueba muy sencilla\" > out.txt"
   ]
  },
  {
   "cell_type": "code",
   "execution_count": 16,
   "id": "0590f48a-d538-4345-84ad-e0d1e6bbe3c3",
   "metadata": {
    "tags": []
   },
   "outputs": [
    {
     "name": "stdout",
     "output_type": "stream",
     "text": [
      "Este texto es una prueba muy sencilla\n"
     ]
    }
   ],
   "source": [
    "cat out.txt"
   ]
  },
  {
   "cell_type": "code",
   "execution_count": 17,
   "id": "b5bbb744-b94a-404c-8859-e86d50bbfa98",
   "metadata": {
    "tags": []
   },
   "outputs": [
    {
     "name": "stdout",
     "output_type": "stream",
     "text": [
      "Este texto es una prueba muy \u001b[01;31m\u001b[Ksencilla\u001b[m\u001b[K\n"
     ]
    }
   ],
   "source": [
    "cat out.txt | egrep \"sencilla\""
   ]
  },
  {
   "cell_type": "markdown",
   "id": "9287b141-455d-47d0-8b4c-523d2e7068f1",
   "metadata": {
    "tags": []
   },
   "source": [
    "***\n",
    "#### **3. sed y awk**\n",
    "***"
   ]
  },
  {
   "cell_type": "markdown",
   "id": "dafe31f4-bce0-4efd-aaa4-008ab8aa2dd1",
   "metadata": {
    "tags": []
   },
   "source": [
    "Estos dos comandos son tan importantes que merecen al menos una sección aparte (en realidad merecerían un curso entero).  \n",
    "`sed` viene de _stream editor_ y tiene la finalidad de realizar tareas de búsquedas de palabras o patrones, sustituciones, deleciones, inserciones en archivos de texto.  \n",
    "`awk` es en realidad un lenguaje de programación, y su nombre viene de sus creadores – Aho, Weinberger, and Kernighan. Este lenguaje es especialmente conveniente para manipular y parsear archivos de textos."
   ]
  },
  {
   "cell_type": "markdown",
   "id": "9b95fa08-9c57-4a88-9dfc-19c49cb26611",
   "metadata": {
    "tags": []
   },
   "source": [
    "* **Primeramente veamos cómo podemos utilizar `sed`**"
   ]
  },
  {
   "cell_type": "markdown",
   "id": "d01452d5-7890-4f01-b51f-c9e8d4494fa0",
   "metadata": {
    "tags": []
   },
   "source": [
    "El uso de este comando tiene la siguiente forma `sed [opciones] acciones [archivo a editar]`. "
   ]
  },
  {
   "cell_type": "markdown",
   "id": "f67c065d-743d-43e1-8a10-7ab9d23d7481",
   "metadata": {
    "tags": []
   },
   "source": [
    "`sed` es ampliamente utilizado para buscar y sustituir una palabra (o patrón) por otra en un archivo de texto (aunque también es muy útil para eliminar o insertar líneas).  \n",
    "Como primer ejemplo, vamos a retomar el ejemplo muy sencillo de arriba y sustituir las palabras `muy sencilla` por `un poquito menos sencilla`."
   ]
  },
  {
   "cell_type": "code",
   "execution_count": 18,
   "id": "ddf48461-f4dd-4d4f-81d4-0e1cafdf60e0",
   "metadata": {
    "tags": []
   },
   "outputs": [
    {
     "name": "stdout",
     "output_type": "stream",
     "text": [
      "Este texto es una prueba un poquito menos sencilla\n"
     ]
    }
   ],
   "source": [
    "sed \"s/muy sencilla/un poquito menos sencilla/\" out.txt"
   ]
  },
  {
   "cell_type": "markdown",
   "id": "4fc4dc3b-8a2e-4d02-82e7-c0fe1766e204",
   "metadata": {},
   "source": [
    "Es importante notar que la salida queda impresa en la pantalla y el archivo `out.txt` no fue modificado, como podemos ver con `cat`."
   ]
  },
  {
   "cell_type": "code",
   "execution_count": 19,
   "id": "7790654f-a788-45d5-a6ba-b6ec04890e80",
   "metadata": {
    "tags": []
   },
   "outputs": [
    {
     "name": "stdout",
     "output_type": "stream",
     "text": [
      "Este texto es una prueba muy sencilla\n"
     ]
    }
   ],
   "source": [
    "cat out.txt"
   ]
  },
  {
   "cell_type": "markdown",
   "id": "ee222693-1cbe-4cf0-ae99-bf2818f6a824",
   "metadata": {
    "tags": []
   },
   "source": [
    "Para modificarlo podemos correr `sed` con la opción `-i` (i.e., _edit files in place_)."
   ]
  },
  {
   "cell_type": "code",
   "execution_count": 20,
   "id": "5d8b6326-b72e-4c26-b609-d792f9808202",
   "metadata": {
    "tags": []
   },
   "outputs": [],
   "source": [
    "sed -i \"s/muy sencilla/un poquito menos sencilla/\" out.txt"
   ]
  },
  {
   "cell_type": "code",
   "execution_count": 21,
   "id": "d37d8e4c-4ca9-4d47-93fd-ec307aeeeb65",
   "metadata": {
    "tags": []
   },
   "outputs": [
    {
     "name": "stdout",
     "output_type": "stream",
     "text": [
      "Este texto es una prueba un poquito menos sencilla\n"
     ]
    }
   ],
   "source": [
    "cat out.txt"
   ]
  },
  {
   "cell_type": "markdown",
   "id": "9fc2e24c-e713-4c52-a91e-e6b0a4c7215f",
   "metadata": {
    "tags": []
   },
   "source": [
    "Veamos un ejemplo más con `sed`, esta vez para eliminar líneas. Para esto vamos a crear una secuencia de números del 1 al 10 con el comando `seq`."
   ]
  },
  {
   "cell_type": "code",
   "execution_count": 22,
   "id": "a9e2ed0d-514d-4dc4-985e-287592c70305",
   "metadata": {
    "tags": []
   },
   "outputs": [
    {
     "name": "stdout",
     "output_type": "stream",
     "text": [
      "1\n",
      "2\n",
      "3\n",
      "4\n",
      "5\n",
      "6\n",
      "7\n",
      "8\n",
      "9\n",
      "10\n"
     ]
    }
   ],
   "source": [
    "seq 1 10"
   ]
  },
  {
   "cell_type": "markdown",
   "id": "a43f43bd-8a10-4348-8e2e-3cdf64240a59",
   "metadata": {
    "tags": []
   },
   "source": [
    "Esta salida la pasamos por un _pipe_ `|` para dárselo como entrada a `sed`, que lo vamos a estar utilizando para eliminar todos las líneas (y números) impares."
   ]
  },
  {
   "cell_type": "code",
   "execution_count": 23,
   "id": "662c0822-60c4-4356-a571-9938285c864a",
   "metadata": {
    "tags": []
   },
   "outputs": [
    {
     "name": "stdout",
     "output_type": "stream",
     "text": [
      "1\n",
      "3\n",
      "5\n",
      "7\n",
      "9\n"
     ]
    }
   ],
   "source": [
    "seq 1 10 | sed -n 'p;n'"
   ]
  },
  {
   "cell_type": "markdown",
   "id": "3b18994c-7dd7-427f-a42b-067206ceb9f3",
   "metadata": {
    "tags": []
   },
   "source": [
    "Existe mucha información sobre `sed` en internet para seguir aprendiendo, por ejemplo [acá](https://www.geeksforgeeks.org/sed-command-in-linux-unix-with-examples/)."
   ]
  },
  {
   "cell_type": "markdown",
   "id": "9eb22a16-386c-4084-8faf-cfbbf5ffec0f",
   "metadata": {
    "tags": []
   },
   "source": [
    "¿Te das cuenta cómo podemos modificar este comando para imprimir los números pares?"
   ]
  },
  {
   "cell_type": "markdown",
   "id": "0e6fd50e-b7ca-4c30-be1d-94fb19654ddd",
   "metadata": {
    "tags": []
   },
   "source": [
    "* **En segundo lugar, pasamos a ver el uso básico de `awk`.**"
   ]
  },
  {
   "cell_type": "markdown",
   "id": "31a8a937-4c07-4344-9ba3-1793fdd2eb25",
   "metadata": {
    "tags": []
   },
   "source": [
    "El uso de este comando tiene la siguiente forma `awk opciones 'selección {acción}'[archivo de entrada]`."
   ]
  },
  {
   "cell_type": "markdown",
   "id": "83e7bf14-d8c5-4ffd-b96b-e89c36732969",
   "metadata": {
    "tags": []
   },
   "source": [
    "Una de las principales aplicaciones de `awk` es para trabajar con tablas donde podemos seleccionar fácilmente columnas en base a un delimitador\n",
    "(por defecto, `awk` utiliza secuencias de espacios en blanco para delimitar las columnas). Veamos esto con un ejemplo."
   ]
  },
  {
   "cell_type": "code",
   "execution_count": 40,
   "id": "83fbe87b-0d40-4eb1-906b-5463d1864e4b",
   "metadata": {
    "tags": []
   },
   "outputs": [],
   "source": [
    "paste <(seq 1 26) <(printf '%s\\n' {a..z}) > file.txt"
   ]
  },
  {
   "cell_type": "markdown",
   "id": "825d9fe5-bf99-46b0-8c45-4ea6d4c075ec",
   "metadata": {},
   "source": [
    "Como verán, este comando ya es un poco más complejo. Intenta descifrar cómo funciona buscando en internet documentación sobre el operador (redireccionador) `>` y los comandos `seq`, `paste` y `printf`."
   ]
  },
  {
   "cell_type": "markdown",
   "id": "567cc77b-e791-44be-84da-d81e95cf9c07",
   "metadata": {},
   "source": [
    "Con el comando `cat` podemos ver cómo es nuestro archivo.  \n",
    "También puedes probar ver el archivo con el comando `head`."
   ]
  },
  {
   "cell_type": "code",
   "execution_count": 25,
   "id": "70074ad6-c29d-4b7f-93f5-50fbfad07250",
   "metadata": {
    "tags": []
   },
   "outputs": [
    {
     "name": "stdout",
     "output_type": "stream",
     "text": [
      "1\ta\n",
      "2\tb\n",
      "3\tc\n",
      "4\td\n",
      "5\te\n",
      "6\tf\n",
      "7\tg\n",
      "8\th\n",
      "9\ti\n",
      "10\tj\n",
      "11\tk\n",
      "12\tl\n",
      "13\tm\n",
      "14\tn\n",
      "15\to\n",
      "16\tp\n",
      "17\tq\n",
      "18\tr\n",
      "19\ts\n",
      "20\tt\n",
      "21\tu\n",
      "22\tv\n",
      "23\tw\n",
      "24\tx\n",
      "25\ty\n",
      "26\tz\n"
     ]
    }
   ],
   "source": [
    "cat  file.txt"
   ]
  },
  {
   "cell_type": "markdown",
   "id": "b0833741-adb4-4794-a556-3ae0ab689a6b",
   "metadata": {},
   "source": [
    "En este archivo tenemos dos columnas, lo que hace que sea un buen caso para ejemplificar un comando con `awk`."
   ]
  },
  {
   "cell_type": "markdown",
   "id": "644f0996-1032-41ce-86bb-a5ba4814709c",
   "metadata": {
    "tags": []
   },
   "source": [
    "Por ejemplo, vamos a sumar todas los números de la columna 1."
   ]
  },
  {
   "cell_type": "code",
   "execution_count": 26,
   "id": "dfe8d9d2-4cfa-4386-8870-f5af7fbbf0bb",
   "metadata": {
    "tags": []
   },
   "outputs": [
    {
     "name": "stdout",
     "output_type": "stream",
     "text": [
      "351\n"
     ]
    }
   ],
   "source": [
    "awk '{total = $1 + total} END {print total}' file.txt"
   ]
  },
  {
   "cell_type": "markdown",
   "id": "f226bd21-0732-433f-9c04-33cfb3166fe3",
   "metadata": {},
   "source": [
    "O seleccionar los números de las columna 1 para las cuales hay una vocal en la columna 2 (modificando la salida)."
   ]
  },
  {
   "cell_type": "code",
   "execution_count": 27,
   "id": "98c5c1f1-7b00-4879-bba0-ece61a64e747",
   "metadata": {
    "tags": []
   },
   "outputs": [
    {
     "name": "stdout",
     "output_type": "stream",
     "text": [
      "1 la vocal es a\n",
      "5 la vocal es e\n",
      "9 la vocal es i\n",
      "15 la vocal es o\n",
      "21 la vocal es u\n"
     ]
    }
   ],
   "source": [
    "awk '$2 ~ /[aeiou]/ {print $1,\"la vocal es\",$2}' file.txt"
   ]
  },
  {
   "cell_type": "markdown",
   "id": "6ac3a56e-a0b8-442d-a126-8ffffb31ab57",
   "metadata": {
    "tags": []
   },
   "source": [
    "Estos ejercicios con `sed` y `awk` sólo pretenden mostrar su potencial y uso básico, podríamos estar todo este curso aprendiendo sobre estos comandos (incluidos los docentes).\n",
    "De todas formas, si hemos logrado convencerte sobre el potencial de `sed` y `awk` acá puedes aprender más: [link de tutorial para awk](https://www.tutorialspoint.com/awk/) y [otro para sed](https://www.tutorialspoint.com/sed/)."
   ]
  },
  {
   "cell_type": "markdown",
   "id": "d54f7a02-3f95-4909-b552-9ba1464758ff",
   "metadata": {
    "tags": []
   },
   "source": [
    "Una de las fortalezs de `sed` y `awk` (también de `egrep` que es un comando muy útil que puedes ver [acá](https://www.tutorialspoint.com/unix_commands/egrep.htm), es que permiten trabajar con **expresiones regulares** (lo que he venido llamando patrones en la búsqueda de palabras). Las expresiones regulares son conjuntos de caracteres o metacaracteres que definen un patrón.  \n",
    "Nota: los metacaracteres son caracteres que tienen una interpretación más allá de su significado literal."
   ]
  },
  {
   "cell_type": "markdown",
   "id": "c39dde14-3154-486a-825e-3cbd915f2c12",
   "metadata": {
    "tags": []
   },
   "source": [
    "Veamos esto con un ejemplo en `sed`. De nuestra lista `file.txt`, vamos a imprimir todos las líneas que comienzan con un 2 seguido de otro número (ósea, sin incluir el número 2 únicamente)."
   ]
  },
  {
   "cell_type": "code",
   "execution_count": 28,
   "id": "67996190-458c-4a48-8452-6a9c5e2aa40f",
   "metadata": {
    "tags": []
   },
   "outputs": [
    {
     "name": "stdout",
     "output_type": "stream",
     "text": [
      "20\tt\n",
      "21\tu\n",
      "22\tv\n",
      "23\tw\n",
      "24\tx\n",
      "25\ty\n",
      "26\tz\n"
     ]
    }
   ],
   "source": [
    "sed -n \"/^2[0-9]/p\" file.txt"
   ]
  },
  {
   "cell_type": "markdown",
   "id": "0b3e76e2-1ef5-498b-9089-e6fb4be261e6",
   "metadata": {},
   "source": [
    "Lo que estamos haciendo acá es utilizar el metacaracter `^` que significa al comienzo de la línea, seguido por el número 2 (este no es un metacaracter) y seguido de la expresión utilizando paréntesis rectos `[0-9]`, que significa cualquier número entre 0 y 9.\n",
    "[Acá](https://tldp.org/LDP/Bash-Beginners-Guide/html/sect_04_01.html) puedes aprender más sobre expresiones regulares."
   ]
  },
  {
   "cell_type": "markdown",
   "id": "a5408829-609c-40b7-abf5-b70149af4943",
   "metadata": {},
   "source": [
    "Antes de terminar esta introducción a la línea de comando vamos a eliminar los archivos que utilizamos para los ejemplos. "
   ]
  },
  {
   "cell_type": "markdown",
   "id": "cdf95b72-2f49-43d6-930e-5c92e3455764",
   "metadata": {
    "tags": []
   },
   "source": [
    "Corremos `ls` para ver los archivos."
   ]
  },
  {
   "cell_type": "code",
   "execution_count": 16,
   "id": "3efe2b8f-75ad-4bba-865f-1468d2e75cc8",
   "metadata": {
    "tags": []
   },
   "outputs": [
    {
     "name": "stdout",
     "output_type": "stream",
     "text": [
      "file.txt\n"
     ]
    }
   ],
   "source": [
    "ls *.txt"
   ]
  },
  {
   "cell_type": "markdown",
   "id": "5ddea20d-3af3-4957-a7b1-841fdaf4b62a",
   "metadata": {
    "tags": []
   },
   "source": [
    "¿Sabes qué significa la expresión regular `*`?"
   ]
  },
  {
   "cell_type": "markdown",
   "id": "b35eb6fa-0821-46d8-8cb4-384ebdd744cb",
   "metadata": {
    "tags": []
   },
   "source": [
    "***\n",
    "#### **4. Variables y bucles**\n",
    "***"
   ]
  },
  {
   "cell_type": "markdown",
   "id": "c7e9b964-890d-48cc-98ab-a2f5114b1b2a",
   "metadata": {},
   "source": [
    "Una variable es un lugar donde podemos guardar cualquier tipo de información, ya sean números, letras, palabras, o todo un archivo.\n",
    "Esta información la podemos reescribir nuevamente o utilizar posteriormente.  \n",
    "En BASH para definir una variable utilizamos la siguiente sintaxis."
   ]
  },
  {
   "cell_type": "code",
   "execution_count": 33,
   "id": "623046f4-ad4f-4acf-9c84-ab0fb0492c0f",
   "metadata": {
    "tags": []
   },
   "outputs": [],
   "source": [
    "var=\"123 y uno dos tres escrito\""
   ]
  },
  {
   "cell_type": "markdown",
   "id": "213f0b2f-aa36-4d9a-910a-e02410771901",
   "metadata": {},
   "source": [
    "Luego, podemos ver el valor de la variable con el comando `echo`, utilizando el signo de pesos `$`."
   ]
  },
  {
   "cell_type": "code",
   "execution_count": 34,
   "id": "3e28b5ed-e8e2-433d-8f68-5b231d0bf6bc",
   "metadata": {
    "tags": []
   },
   "outputs": [
    {
     "name": "stdout",
     "output_type": "stream",
     "text": [
      "123 y uno dos tres escrito\n"
     ]
    }
   ],
   "source": [
    "echo \"$var\""
   ]
  },
  {
   "cell_type": "markdown",
   "id": "898181ea-336e-472c-a639-b45a818f9edd",
   "metadata": {},
   "source": [
    "Es buena práctica utilizar comillas al trabajar con una variable, de esta forma estamos considerando todo el contenido como una sola unidad en el caso de que existan espacios en blanco."
   ]
  },
  {
   "cell_type": "markdown",
   "id": "cd04779c-d47e-41f5-8eb8-cf0d71ff0b94",
   "metadata": {},
   "source": [
    "Notar que `\"$var\"` no es lo mismo que `\"$VAR\"`."
   ]
  },
  {
   "cell_type": "markdown",
   "id": "63ede045-5bbc-4bbd-9ad6-7ed9d29a5166",
   "metadata": {},
   "source": [
    "Existe la convención de usar mayúsculas para las variables que definen nuestro ambiente de trabajo o serán exportadas a otros ambientes, y minúscula para las variables utilizadas en un único script o en alguna tarea concreta.   "
   ]
  },
  {
   "cell_type": "markdown",
   "id": "23f6ca9e-361a-4df1-a8bc-426aa4f064c2",
   "metadata": {
    "tags": []
   },
   "source": [
    "En linux tenemos varias variables que nos dan información sobre nuestro ambiente de trabajo y el sistema. Estas variables y su valor las puedes ver con el siguiente comando: `printenv`"
   ]
  },
  {
   "cell_type": "markdown",
   "id": "abacbb49-5c39-4976-98e8-bb550f4d090a",
   "metadata": {
    "tags": []
   },
   "source": [
    "Algunos ejemplos relevantes son la variable `\"$HOME\"`, que nos dice cuál es y dónde está nuestro home."
   ]
  },
  {
   "cell_type": "code",
   "execution_count": 41,
   "id": "a1ad6d8b-ea5f-4612-b8c0-c1c226d7f5f6",
   "metadata": {
    "tags": []
   },
   "outputs": [
    {
     "name": "stdout",
     "output_type": "stream",
     "text": [
      "/home/epereira\n"
     ]
    }
   ],
   "source": [
    "echo \"$HOME\""
   ]
  },
  {
   "cell_type": "markdown",
   "id": "5201e697-82c4-4ecc-8dca-2992051a122a",
   "metadata": {
    "tags": []
   },
   "source": [
    "La variable `\"$PATH\"` nos dice en qué directorios podemos encontrar los comandos que son reconocidos para su ejecución."
   ]
  },
  {
   "cell_type": "code",
   "execution_count": 42,
   "id": "0b95314c-32d8-4433-9ab8-95426391edea",
   "metadata": {
    "tags": []
   },
   "outputs": [
    {
     "name": "stdout",
     "output_type": "stream",
     "text": [
      "/home/epereira/.local/bin:/home/epereira/bin:/home/epereira/anaconda3/bin:/home/epereira/anaconda3/condabin:/home/epereira/.cargo/bin:/usr/local/sbin:/usr/local/bin:/usr/sbin:/usr/bin:/sbin:/bin:/usr/games:/usr/local/games:/snap/bin:/snap/bin:/snap/bin:/snap/bin\n"
     ]
    }
   ],
   "source": [
    "echo \"$PATH\""
   ]
  },
  {
   "cell_type": "markdown",
   "id": "b670dbfd-3405-4a20-b4ac-5f3caba23fd4",
   "metadata": {},
   "source": [
    "O la variable `$USER` nos dice cuál es nuestro usuario."
   ]
  },
  {
   "cell_type": "code",
   "execution_count": 37,
   "id": "883a6e22-e5f9-45b4-88e9-87586ea85b7f",
   "metadata": {
    "tags": []
   },
   "outputs": [
    {
     "name": "stdout",
     "output_type": "stream",
     "text": [
      "epereira\n"
     ]
    }
   ],
   "source": [
    "echo \"$USER\""
   ]
  },
  {
   "cell_type": "markdown",
   "id": "fa577186-a26c-4ea5-977b-c61db9a3daa4",
   "metadata": {
    "tags": []
   },
   "source": [
    "Las variables son esenciales para poder trabajar con bucles, los que a su vez son esenciales para trabajar en cualquier tipo de tarea."
   ]
  },
  {
   "cell_type": "markdown",
   "id": "fe34d06b-0890-4e4c-b89e-3c46cad04506",
   "metadata": {
    "tags": []
   },
   "source": [
    "En BASH existen tres tipos bucles básicos, estos son `for`, `while`, y `until`. Veamos cada uno de estos con un poco de detalle."
   ]
  },
  {
   "cell_type": "markdown",
   "id": "8b467888-30a4-4606-8811-70a671563b3f",
   "metadata": {
    "tags": []
   },
   "source": [
    "**Bucles `while`**"
   ]
  },
  {
   "cell_type": "markdown",
   "id": "ce6458b6-af5b-40ec-90c4-0f3d25886223",
   "metadata": {
    "tags": []
   },
   "source": [
    "Este bucle lo que hace es evaluar una expresión en cada iteración y mientras esta expresión sea verdadera, el bucle seguirá ejecutándose.  \n",
    "Su formato en BASH es el siguiente:"
   ]
  },
  {
   "cell_type": "markdown",
   "id": "e84e146d-a46e-481f-881c-b633cdafe55e",
   "metadata": {
    "tags": []
   },
   "source": [
    "```\n",
    "while <expresion>; do\n",
    "  <commands>;\n",
    "done\n",
    "```"
   ]
  },
  {
   "cell_type": "markdown",
   "id": "b0c0f5d0-a9fc-45ed-9eb7-98578d414448",
   "metadata": {},
   "source": [
    "El clásico ejemplo de un bucle `while` es:"
   ]
  },
  {
   "cell_type": "code",
   "execution_count": 43,
   "id": "419b5fdb-cf37-4935-8863-63d9c3b3d82e",
   "metadata": {
    "tags": []
   },
   "outputs": [
    {
     "name": "stdout",
     "output_type": "stream",
     "text": [
      "1\n",
      "2\n",
      "3\n",
      "4\n",
      "5\n",
      "6\n",
      "7\n",
      "8\n",
      "9\n",
      "10\n"
     ]
    }
   ],
   "source": [
    "i=1\n",
    "while [ $i -le 10 ]; do\n",
    "  echo $i\n",
    "  i=$((i+1))\n",
    "done"
   ]
  },
  {
   "cell_type": "markdown",
   "id": "c21f69df-dc25-4d48-86ef-9c6246142896",
   "metadata": {
    "tags": []
   },
   "source": [
    "Lo que estamos haciendo acá es iniciar nuestra variable `i` con el valor de 1.  \n",
    "Luego definimos nuestra expresión a evaluar, la cual lo que afirma es que la variable `$i` es menor o igual (i.e., `-le`) que 10.  \n",
    "Los comandos dentro del bucle lo que hacen es imprimir el valor de la variable `$i` con el comando `echo` y luego incrementar en 1 esta variable.  \n",
    "Como resultado, la variable se incrementa hasta que la expresión a evaluar deja de ser verdadera, momento en el que termina el bucle."
   ]
  },
  {
   "cell_type": "markdown",
   "id": "cff6a257-6fbf-4da5-b138-dc7fcac58d3e",
   "metadata": {},
   "source": [
    "Una aplicación más real del bucle `while` es cuando recorremos un archivo o lista de algún tipo generada en por otro comando, línea a línea utilizando `while read`. Por ejemplo:"
   ]
  },
  {
   "cell_type": "code",
   "execution_count": 44,
   "id": "67b6913b-f50e-4aea-b61e-d63a5a782c72",
   "metadata": {
    "tags": []
   },
   "outputs": [
    {
     "name": "stdout",
     "output_type": "stream",
     "text": [
      "1\ta\n",
      "2\tb\n",
      "3\tc\n",
      "4\td\n",
      "5\te\n",
      "6\tf\n",
      "7\tg\n",
      "8\th\n",
      "9\ti\n",
      "10\tj\n",
      "11\tk\n",
      "12\tl\n",
      "13\tm\n",
      "14\tn\n",
      "15\to\n",
      "16\tp\n",
      "17\tq\n",
      "18\tr\n",
      "19\ts\n",
      "20\tt\n",
      "21\tu\n",
      "22\tv\n",
      "23\tw\n",
      "24\tx\n",
      "25\ty\n",
      "26\tz\n"
     ]
    }
   ],
   "source": [
    "cat file.txt | \\\n",
    "while read line; do \n",
    "  echo \"$line\"\n",
    "done"
   ]
  },
  {
   "cell_type": "markdown",
   "id": "013e4995-6ef1-4531-8cc9-adc09cf648d1",
   "metadata": {
    "tags": []
   },
   "source": [
    "**Bucles `until`**"
   ]
  },
  {
   "cell_type": "markdown",
   "id": "080108a3-6efa-43c6-b3b0-00d0228f6f07",
   "metadata": {
    "tags": []
   },
   "source": [
    "Este tipo de bucles es menos utilizado, es muy similar a `while` y tiene el mismo formato. Lo que hace es evaluar una expresión e iterar mientras que la expresión es verdadera (en lugar de falsa como sería el caso de `while`).    \n",
    "¿Te das cuenta cómo podemos adaptar el código del bucle `while` que itera de 1 a 10 a un bucle `until`?  \n",
    "Nota: para resolver esto, es importante tener claro cómo son los operadores para comparar números, lo que puedes encontrar [aca](https://www.tutorialspoint.com/unix/unix-basic-operators.htm)."
   ]
  },
  {
   "cell_type": "markdown",
   "id": "eb7a3f15-b833-4221-b627-a4b519aaa997",
   "metadata": {
    "tags": []
   },
   "source": [
    "**Bucles `for`**"
   ]
  },
  {
   "cell_type": "markdown",
   "id": "e236ba17-06d2-447b-b1a2-27ff2fe7bcae",
   "metadata": {
    "tags": []
   },
   "source": [
    "Este bucle es algo distintos a los otros. Acá lo que hacemos es, dado una lista de elementos, iterar tomando cada valor de esta lista. \n",
    "El formato de los bucles `for` es el siguiente:"
   ]
  },
  {
   "cell_type": "markdown",
   "id": "728c0db7-c8af-4c57-9374-3803036650e9",
   "metadata": {
    "tags": []
   },
   "source": [
    "```\n",
    "for i in <list>; do\n",
    "  <commands>\n",
    "done\n",
    "```"
   ]
  },
  {
   "cell_type": "markdown",
   "id": "77bd1e19-2acb-46e5-aebb-eb567554a609",
   "metadata": {
    "tags": []
   },
   "source": [
    "La mejor forma de verlo es con un ejemplo."
   ]
  },
  {
   "cell_type": "markdown",
   "id": "9ec75384-92aa-4220-a4cd-4b2b70484084",
   "metadata": {
    "tags": []
   },
   "source": [
    "Primero creamos una lista."
   ]
  },
  {
   "cell_type": "code",
   "execution_count": 45,
   "id": "0296eff1-e14a-430c-935d-fc2487fb0569",
   "metadata": {
    "tags": []
   },
   "outputs": [],
   "source": [
    "NUMBERS=$(seq 1 10)"
   ]
  },
  {
   "cell_type": "code",
   "execution_count": 46,
   "id": "6bc51f5a-3620-4e4f-ba51-f7af3db109c2",
   "metadata": {
    "tags": []
   },
   "outputs": [
    {
     "name": "stdout",
     "output_type": "stream",
     "text": [
      "1\n",
      "2\n",
      "3\n",
      "4\n",
      "5\n",
      "6\n",
      "7\n",
      "8\n",
      "9\n",
      "10\n"
     ]
    }
   ],
   "source": [
    "for i in $NUMBERS; do\n",
    "  echo \"$i\"\n",
    "done  "
   ]
  },
  {
   "cell_type": "markdown",
   "id": "3c82e9d7-cd54-4e54-95c5-bdc3e51f1a51",
   "metadata": {
    "tags": []
   },
   "source": [
    "Una vez que terminamos con estos ejercicios, vamos a eliminar los archivos generados para dejar nuestro directorio `metabarcoding_workspace` limpio."
   ]
  },
  {
   "cell_type": "code",
   "execution_count": null,
   "id": "dc14778e-edf9-4df0-b1d9-c0467a032708",
   "metadata": {
    "tags": []
   },
   "outputs": [],
   "source": [
    "rm file.txt out.txt"
   ]
  },
  {
   "cell_type": "markdown",
   "id": "23e2d58b-1ded-4f15-95cc-2a9a05fa9a78",
   "metadata": {
    "tags": []
   },
   "source": [
    "***\n",
    "#### **5. Manejo de datos de secuencias**\n",
    "***"
   ]
  },
  {
   "cell_type": "markdown",
   "id": "4a6d1ca9-71d0-4698-859e-965fab169481",
   "metadata": {
    "tags": []
   },
   "source": [
    "#### **5.1. Obtención de datos**"
   ]
  },
  {
   "cell_type": "markdown",
   "id": "ae6b935e-40de-4b43-8e32-711dc251e734",
   "metadata": {
    "tags": []
   },
   "source": [
    "Como primer paso antes de empezar a trabajar vamos a crear los directorios necesarios para tener nuestros datos, código y resultados organizados."
   ]
  },
  {
   "cell_type": "markdown",
   "id": "594588ef-2e81-4b57-ac26-88e4df248f1c",
   "metadata": {},
   "source": [
    "Por las dudas vamos a chequear que estamos en el directorio correcto."
   ]
  },
  {
   "cell_type": "code",
   "execution_count": 48,
   "id": "64ae32cc-8854-49ed-9c88-8320b7a5e768",
   "metadata": {
    "tags": []
   },
   "outputs": [
    {
     "name": "stdout",
     "output_type": "stream",
     "text": [
      "/home/epereira/metabarcoding_workspace\n"
     ]
    }
   ],
   "source": [
    "pwd"
   ]
  },
  {
   "cell_type": "markdown",
   "id": "bd73b7a3-0f37-4af1-9f11-287d60730713",
   "metadata": {},
   "source": [
    "y vamos a correr los siguiente comandos:"
   ]
  },
  {
   "cell_type": "code",
   "execution_count": 53,
   "id": "a004abf9-413a-45bd-bb0e-1551ac74a251",
   "metadata": {
    "tags": []
   },
   "outputs": [],
   "source": [
    "mkdir -p data\n",
    "mkdir scripts\n",
    "mkdir results\n",
    "mkdir tables\n",
    "mkdir plots"
   ]
  },
  {
   "cell_type": "markdown",
   "id": "93085ed2-2383-48ad-9587-e4dded82020c",
   "metadata": {
    "tags": []
   },
   "source": [
    "Corremos `ls` nuevamente para ver que esté todo bien."
   ]
  },
  {
   "cell_type": "code",
   "execution_count": 61,
   "id": "73a23051-e984-4526-8fbc-6dc325bb14be",
   "metadata": {
    "tags": []
   },
   "outputs": [
    {
     "name": "stdout",
     "output_type": "stream",
     "text": [
      "\u001b[0m\u001b[01;34mdata\u001b[0m  \u001b[01;34mplots\u001b[0m  practico1.ipynb  \u001b[01;34mresults\u001b[0m  \u001b[01;34mscripts\u001b[0m\n"
     ]
    }
   ],
   "source": [
    "ls "
   ]
  },
  {
   "cell_type": "markdown",
   "id": "8faf1d11-f6f1-4890-a63e-533f1675f0dd",
   "metadata": {},
   "source": [
    "Corremos `ls` nuevamente para ver que esté todo bien.\n",
    "La siguiente tarea es conseguir los datos. Para este curso estaremos analizando un set de datos de amplicones de genes 16S de ARNr generados por Griffero et al. (manuscrito en preparación).   \n",
    "Estos datos fueron obtenidos de los arroyos afluentes de la Laguna de Rocha y la laguna de Rocha en Uruguay (https://maps.app.goo.gl/UE9kEwKJPfokc8N28), con la finalidad de estudiar la comunidad de procariotas y su respuesta a los contaminantes emergentes.\n",
    "Los datos que estamos utilizando son datos crudos, separados por muestra (_demultiplexed_ ), los cuales fueron submuestras aleatoriamente para reducir su tamaño y hacerlos fácilmente manipulables."
   ]
  },
  {
   "cell_type": "markdown",
   "id": "39df9676-a8b6-48d1-9b18-284c732decba",
   "metadata": {
    "tags": []
   },
   "source": [
    "Con el siguiente comando vamos a descargar los datos:"
   ]
  },
  {
   "cell_type": "code",
   "execution_count": 50,
   "id": "6e9d8d07-91d6-4714-b537-81424da2ac7e",
   "metadata": {
    "tags": []
   },
   "outputs": [
    {
     "name": "stdout",
     "output_type": "stream",
     "text": [
      "--2023-12-04 14:12:59--  https://media.githubusercontent.com/media/pereiramemo/Curso-Metabarcoding-2023/main/data/raw.tar.cpt\n",
      "Resolving media.githubusercontent.com (media.githubusercontent.com)... 2606:50c0:8000::154, 2606:50c0:8003::154, 2606:50c0:8002::154, ...\n",
      "Connecting to media.githubusercontent.com (media.githubusercontent.com)|2606:50c0:8000::154|:443... connected.\n",
      "HTTP request sent, awaiting response... 200 OK\n",
      "Length: 19394592 (18M) [application/octet-stream]\n",
      "Saving to: ‘./data/raw.tar.cpt’\n",
      "\n",
      "raw.tar.cpt         100%[===================>]  18.50M  2.28MB/s    in 18s     \n",
      "\n",
      "2023-12-04 14:13:18 (1.02 MB/s) - ‘./data/raw.tar.cpt’ saved [19394592/19394592]\n",
      "\n"
     ]
    }
   ],
   "source": [
    "wget --directory-prefix ./data/ https://media.githubusercontent.com/media/pereiramemo/Curso-Metabarcoding-2023/main/data/raw.tar.cpt"
   ]
  },
  {
   "cell_type": "markdown",
   "id": "88471c47-5314-40af-a0fc-4a72bf355837",
   "metadata": {
    "tags": []
   },
   "source": [
    "Como se puede observar, este archivo tiene varias terminaciones (i.e., `.tar.cpt`).  \n",
    "`tar` es porque este es un archivo `tarball`, es decir, un archivo donde se pueden incluir varios otros archivos y directorios.  \n",
    "`cpt` es porque este archivo ha sido encriptado con la herramienta `ccrypt`."
   ]
  },
  {
   "cell_type": "markdown",
   "id": "189d9963-870a-40a0-a13b-3f3bc64a3efa",
   "metadata": {
    "tags": []
   },
   "source": [
    "Como primera medida vamos a desencriptar el archivo con el siguiente comando. Para esto vamos a necesitar una palabra clave que les será entregada."
   ]
  },
  {
   "cell_type": "markdown",
   "id": "57b93067-9d75-4f87-b1fb-76f6bfbc1d52",
   "metadata": {
    "tags": []
   },
   "source": [
    "Si no tienes instalada la herramienta `ccrypt`, la puedes instalar con `sudo apt install ccrypt`."
   ]
  },
  {
   "cell_type": "code",
   "execution_count": null,
   "id": "479cfffe-f191-46a6-8def-a3fa31938b2e",
   "metadata": {
    "tags": []
   },
   "outputs": [],
   "source": [
    "ccrypt -d ./data/raw.tar.gz.cpt"
   ]
  },
  {
   "cell_type": "markdown",
   "id": "675a9895-6653-4a94-bb8c-40775d61aee3",
   "metadata": {},
   "source": [
    "Hacemos `ls` para ver cómo quedó el archivo. "
   ]
  },
  {
   "cell_type": "code",
   "execution_count": 1,
   "id": "0ea25553-9ae3-4ccc-bb23-86ba75b07614",
   "metadata": {
    "tags": []
   },
   "outputs": [
    {
     "name": "stdout",
     "output_type": "stream",
     "text": [
      "\u001b[0m\u001b[01;31mraw.tar\u001b[0m\n"
     ]
    }
   ],
   "source": [
    "ls ./data"
   ]
  },
  {
   "cell_type": "code",
   "execution_count": null,
   "id": "59c79342-468f-405a-9809-1d6740da76bb",
   "metadata": {},
   "outputs": [],
   "source": [
    "Ahora podemos descomprimirlo. "
   ]
  },
  {
   "cell_type": "code",
   "execution_count": 4,
   "id": "20cbedca-a9b1-4bb9-bddd-dd9c1b2c5e7e",
   "metadata": {
    "tags": []
   },
   "outputs": [],
   "source": [
    "tar  xf ./data/raw.tar --directory ./data"
   ]
  },
  {
   "cell_type": "markdown",
   "id": "1e6bd464-d7f0-4e63-b149-3329c599b743",
   "metadata": {},
   "source": [
    "Veamos qué tenemos en `./data/raw`."
   ]
  },
  {
   "cell_type": "code",
   "execution_count": null,
   "id": "5a7b9aaa-6807-4c16-b6b6-dac7045ab4f5",
   "metadata": {
    "tags": []
   },
   "outputs": [],
   "source": [
    "ls ./data/raw"
   ]
  },
  {
   "cell_type": "markdown",
   "id": "b11512b9-474f-4b53-9ab0-fb4135eb206e",
   "metadata": {},
   "source": [
    "---\n",
    "#### **5.2. Exploración de datos**\n",
    "---"
   ]
  },
  {
   "cell_type": "markdown",
   "id": "215337d2-62ff-4ded-a0f0-b44f937d9712",
   "metadata": {},
   "source": [
    "Como podemos observar, estos datos son en formato fastq. [Acá](https://en.wikipedia.org/wiki/FASTQ_format) puede leer sobre este formato.  \n",
    "Esencialmente, este es un formato de datos de secuenciación, donde por cada secuencia tenemos **cuatro** líenas:\n",
    "1) El identificador de la secuencia (comienza con @).  \n",
    "2) La secuencia.   \n",
    "3) Descripción opcional de la secuencia (comienza con +).  \n",
    "4) Código representando la calidad de la secuencia.  "
   ]
  },
  {
   "cell_type": "markdown",
   "id": "631755d6-397b-4995-8dc7-b5682c77ad1e",
   "metadata": {
    "tags": []
   },
   "source": [
    "Pero primero, vamos a descomprimir todas las secuencias."
   ]
  },
  {
   "cell_type": "code",
   "execution_count": 6,
   "id": "56a7ba1d-c740-45d4-9115-356c0dc7b0fe",
   "metadata": {},
   "outputs": [],
   "source": [
    "unpigz --processes 4 data/raw/*.gz "
   ]
  },
  {
   "cell_type": "markdown",
   "id": "1a46dcc3-5be0-47bf-a4fa-be7cd197da14",
   "metadata": {},
   "source": [
    "Ahora que están descomprimidas, vemos un ejemplo:"
   ]
  },
  {
   "cell_type": "code",
   "execution_count": 23,
   "id": "5246b0da-1b15-4e57-834e-feb1e9703ab6",
   "metadata": {
    "tags": []
   },
   "outputs": [
    {
     "name": "stdout",
     "output_type": "stream",
     "text": [
      "@M04487:61:000000000-CWK5N:1:2106:13644:2052 1:N:0:TAAGGCGA+TATCCTCT\n",
      "GTGCCAGCCGCCGCGGTAATACGAAGGGAGCTAGCGTTGTTCGGAATTACTGGGCTTAACGGGCGCGTAGGCGGTCTTTTAAGTTTTTTGTTAAATCCCTCGGCTTAACCTAGGAACTGCATTTAATCCTTTAAGACTTGAGACCTAGTGAGGGAAATGGAATTTCTAGTTTAGAGGTTACATTCGTAGATATTCGCAAGAACACCAGTTTCGAAGGCGATTTCCTGTCTCTTTACTTACGCTAATTCCCGCCCGCTTTGGTATCAACCAGTATTATCTCCCCTTTTATTCCCCGCTTTAT\n",
      "+\n",
      "8B<@B-CFFFFFBFC@@:;C6ED8<;+--6@F9<C@CC+BCF@@,,:C,9C66,9,C6,,6+,++76@++,,4+@+8?,<,,,C9?,+84B,,,,,<:5=,+3BBC,,:8B,5,,,8,,:,>@,,,<,C>,@,,,,:>@,,3,38,,,,<,,,**,,8,,,,8@,8,,8@,8,3,,,8,,,,7@<,?,**7,@C;,***4,,2,2=**7,,71*+**4**3<<2?C,,+03++3+3<+3<8A;;8A+++3/)**):*;*+,***2++*0*2+1.<)*)1+32;0*+2)02::+*0/**0**\n",
      "@M04487:61:000000000-CWK5N:1:2106:20569:2132 1:N:0:TAAGGCGA+TATCCTCT\n",
      "GTGCCAGCAGCCGCGGTAATACGAAGGTTGCAAGCGTTGTTCGGATTCACTGGGCTTACAGGGTGCGTAGGCGGTTTTTTAAGCCCTCCGTGAAATCTCCGGGCCTAACCCGGAAACTGCAGTTGGGACTGCTCGGCTAGAGGTTGGGAGAGGAGCGCGGAATTCCCGGTGTAGCGGTGAAATGCGTAGATATCGTGTGGAATGCCGGTGTCGAAGGCGGCTCTCTGCTTCTTTTCTGACGCTGATGCTCGCAAGCTTTGGGATCAAACCTGATTAGATCCCCTTTTATTCCCCGCCTTAA\n",
      "+\n",
      "CCC9B@EFFGGFFGFFFF;CEFGCDGCF--FDFFDCFG@CCEFC:@C<,;CCFF,,CCF,C<,,,88F,:,9+8CC,,,8,<E,94B,4+B+++,CE55<++8C:?8,E<A+=>++,:?D<,,,,,+BFD,,33=+B>+3:@8,3,+3,@<7C,3<****1<<E3=3*=F7=<?FE>F:*8??,,*=8C:,2>:4,**/;C6,3<C*2:**388*/*;8:>*/+<C3,++2+33:2@+3<C?EC/++03<>)**7@+<++,*.*12++<***).A2*-1+2;A2*+2-+2:<+;)::9>**\n",
      "@M04487:61:000000000-CWK5N:1:2106:17579:2137 1:N:0:TAAGGCGA+TATCCTCT\n",
      "GTGTCAGCGCCGCGGTAATACGAAGGTGGCAAGCGTTGTTCGGATTCACTGGGCGTACAGGGATCGTAGGCGGTTTTTTAAGCCCTCCGTGAAATCTCCGTGCCTAACCCGGAAAGTGCAGATTGGACTTCTCGGCTTGAGGATGTGAGAGGAGCGCTGAATTCCCGGTGTTGCGGTTAAATGCGTAGAGATCGGGAGGAAGCCCGGTTGCGACGGCGGCGCTCTGGACCATTTCTTACGCTGAGTCTCGACAGCGTTGTGTGTCAACAGGTCTTGATTCCCCTTTTGTTCCCGCCTTTAC\n"
     ]
    }
   ],
   "source": [
    "head ./data/raw/13_S13_L001_R1_001.fastq "
   ]
  },
  {
   "cell_type": "markdown",
   "id": "0ded1cb0-3bd4-48d4-a4c7-825648d94549",
   "metadata": {},
   "source": [
    "En la [página de Illumina](https://knowledge.illumina.com/software/general/software-general-reference_material-list/000002211) podemos encontrar más información sobre el formato y el identificador de cada secuencia."
   ]
  },
  {
   "cell_type": "markdown",
   "id": "d59ce309-dfcb-4ac3-a5df-2d3dcf6136d5",
   "metadata": {},
   "source": [
    "Una de las primeras preguntas que surgen al descargar un set datos es ¿cuántas muestras tenemos?\n",
    "Con el siguiente comando vamos respondernos:"
   ]
  },
  {
   "cell_type": "code",
   "execution_count": 7,
   "id": "a810b5f0-e669-40cb-a329-be5b71aaec17",
   "metadata": {
    "tags": []
   },
   "outputs": [
    {
     "name": "stdout",
     "output_type": "stream",
     "text": [
      "30\n"
     ]
    }
   ],
   "source": [
    "ls ./data/raw/*R1*.fastq | wc -l"
   ]
  },
  {
   "cell_type": "markdown",
   "id": "395d3c36-2ed8-4a1a-92f3-a613fa48a7d2",
   "metadata": {},
   "source": [
    "Notar que por cada muestra tenemos 2 archivos, el R1 y el R2. Por este motivo, para contar el número de muestras debemos contar uno sólo de estos, en esta caso fue el R1."
   ]
  },
  {
   "cell_type": "markdown",
   "id": "8e83481e-666c-4e69-a6fe-b90678291664",
   "metadata": {
    "tags": []
   },
   "source": [
    "Otra pregunta relevante que nos podemos hacer es ¿cuántas secuencias tenemos por muestra, en total y en promedio?.\n",
    "Para respondernos esta otra pregunta, ese necesario correr un comando un poquito más sofisticado:"
   ]
  },
  {
   "cell_type": "code",
   "execution_count": 8,
   "id": "0eab002f-c2d5-46c5-b0ad-1e64dbddc9fb",
   "metadata": {
    "tags": []
   },
   "outputs": [],
   "source": [
    "SAMPLES=$(ls ./data/raw/*R1*.fastq)\n",
    "for i in $SAMPLES; do \n",
    "  NSEQ=$(echo $(cat \"$i\" | wc -l)/4 | bc -l)\n",
    "  echo -e \"$i\\t$NSEQ\"\n",
    "done > ./tables/raw_seq_counts.tsv"
   ]
  },
  {
   "cell_type": "markdown",
   "id": "6c2c38e5-aef7-45b8-8da2-d154e3b887f9",
   "metadata": {},
   "source": [
    "Puedes descifrar qué estamos haciendo en esta línea `NSEQ=$(echo $(cat \"$i\" | wc -l)/4 | bc -l)`?"
   ]
  },
  {
   "cell_type": "code",
   "execution_count": 9,
   "id": "3572af30-e4c4-4547-aab4-0198d438cf39",
   "metadata": {
    "tags": []
   },
   "outputs": [
    {
     "name": "stdout",
     "output_type": "stream",
     "text": [
      "./data/raw/13_S13_L001_R1_001_redu.fastq\t2617.00000000000000000000\n",
      "./data/raw/14_S14_L001_R1_001_redu.fastq\t2547.00000000000000000000\n",
      "./data/raw/15_S15_L001_R1_001_redu.fastq\t2445.00000000000000000000\n",
      "./data/raw/16_S16_L001_R1_001_redu.fastq\t2309.00000000000000000000\n",
      "./data/raw/17_S17_L001_R1_001_redu.fastq\t2291.00000000000000000000\n",
      "./data/raw/18_S18_L001_R1_001_redu.fastq\t2907.00000000000000000000\n",
      "./data/raw/1_S1_L001_R1_001_redu.fastq\t2632.00000000000000000000\n",
      "./data/raw/21_S21_L001_R1_001_redu.fastq\t3737.00000000000000000000\n",
      "./data/raw/2_S2_L001_R1_001_redu.fastq\t3072.00000000000000000000\n",
      "./data/raw/34_S33_L001_R1_001_redu.fastq\t2800.00000000000000000000\n"
     ]
    }
   ],
   "source": [
    "head ./tables/raw_seq_counts.tsv"
   ]
  },
  {
   "cell_type": "code",
   "execution_count": null,
   "id": "f8287a4c-9899-46ea-a802-2245494f1ee3",
   "metadata": {},
   "outputs": [],
   "source": [
    "Ahora con un simple comando de `awk` podemos saber cuántas secuencias tenemos en total y cuántas en promedio."
   ]
  },
  {
   "cell_type": "code",
   "execution_count": 10,
   "id": "21206b71-ae9e-47e8-9bcb-60e6ff309157",
   "metadata": {
    "tags": []
   },
   "outputs": [
    {
     "name": "stdout",
     "output_type": "stream",
     "text": [
      "total = 69966; mean = 2332.2\n"
     ]
    }
   ],
   "source": [
    "awk '{total = $2 + total} END {print \"total = \"total\";\", \"mean = \"total/NR}' ./tables/raw_seq_counts.tsv"
   ]
  },
  {
   "cell_type": "markdown",
   "id": "3e6edc6e-381c-4bc1-b71f-2f5d8e9b2458",
   "metadata": {
    "tags": []
   },
   "source": [
    "Veamos ahora qué largo tiene las secuencias. Dado que todas las secuencias tienen el mismo largo, vamos correr esto para unas pocas secuencias de un único archivo."
   ]
  },
  {
   "cell_type": "code",
   "execution_count": 12,
   "id": "59241ca8-d5f0-4f5a-97c6-b9e8caa39891",
   "metadata": {
    "tags": []
   },
   "outputs": [
    {
     "name": "stdout",
     "output_type": "stream",
     "text": [
      "301\n",
      "301\n",
      "301\n"
     ]
    }
   ],
   "source": [
    "awk 'NR%4==2 {print length($0)}' <(head ./data/raw/13_S13_L001_R1_001_redu.fastq)"
   ]
  },
  {
   "cell_type": "markdown",
   "id": "3bc0b596-1b8a-4e37-a6a6-88808fab38c0",
   "metadata": {
    "tags": []
   },
   "source": [
    "¿Por qué no es necesario incluir más secuencias para ver su largo?"
   ]
  },
  {
   "cell_type": "markdown",
   "id": "f1cd0c6f-72d7-45e6-8702-4e071dd804bd",
   "metadata": {
    "tags": []
   },
   "source": [
    "---\n",
    "#### **5.3. Otras líneas de comandos interesantes**\n",
    "---"
   ]
  },
  {
   "cell_type": "markdown",
   "id": "80a214b5-62b7-43ef-bb2f-633ebd327271",
   "metadata": {},
   "source": [
    "---\n",
    "### Comienza sección <img src=\"../figures/uphill.png\" width=\"50\" height=\"50\" />\n",
    "---"
   ]
  },
  {
   "cell_type": "markdown",
   "id": "1b724a9c-5dee-4534-b371-789477e7f294",
   "metadata": {},
   "source": [
    "Vamos convertir de formato fastq a fasta con `awk`."
   ]
  },
  {
   "cell_type": "code",
   "execution_count": 32,
   "id": "3251ff87-2f42-44b8-89fd-51b0268e2f2d",
   "metadata": {
    "tags": []
   },
   "outputs": [],
   "source": [
    "SAMPLES_R1=$(ls ./data/raw/*R1*.fastq)\n",
    "SAMPLES_R2=$(ls ./data/raw/*R2*.fastq)"
   ]
  },
  {
   "cell_type": "code",
   "execution_count": 33,
   "id": "9f894e7d-6c3c-4949-8003-44681408e2e5",
   "metadata": {
    "tags": []
   },
   "outputs": [],
   "source": [
    "for fastq in $SAMPLES_R1; do\n",
    " fasta=$(echo \"$fastq\" | sed \"s/.fastq/.fasta/\")\n",
    " awk 'NR%4==1 {sub(\"@\",\">\",$0); print $0}; NR%4==2 {print $0}' \"$fastq\" > \"$fasta\"\n",
    "done"
   ]
  },
  {
   "cell_type": "code",
   "execution_count": 34,
   "id": "70b32189-7dfa-4e8e-9c5d-d96d1e777896",
   "metadata": {
    "tags": []
   },
   "outputs": [],
   "source": [
    "for fastq in $SAMPLES_R2; do\n",
    " fasta=$(echo \"$fastq\" | sed \"s/.fastq/.fasta/\")\n",
    " awk 'NR%4==1 {sub(\"@\",\">\",$0); print $0}; NR%4==2 {print $0}' \"$fastq\" > \"$fasta\"\n",
    "done"
   ]
  },
  {
   "cell_type": "markdown",
   "id": "de79e37d-c8b8-4456-8034-a6f7d504a9d8",
   "metadata": {
    "tags": []
   },
   "source": [
    "¿Te das cuenta cómo funciona el comando de `awk`?   \n",
    "¿Qué está haciendo la función `sub`?"
   ]
  },
  {
   "cell_type": "markdown",
   "id": "4c5cb4a0-14d5-42dc-bf08-8481b751e25d",
   "metadata": {
    "tags": []
   },
   "source": [
    "Veamos los (primeros 10) archivos fasta creados:"
   ]
  },
  {
   "cell_type": "code",
   "execution_count": 35,
   "id": "d5ab4165-429c-4195-9ee0-fd38c078c850",
   "metadata": {
    "tags": []
   },
   "outputs": [
    {
     "name": "stdout",
     "output_type": "stream",
     "text": [
      "./data/raw/13_S13_L001_R1_001_redu.fasta\n",
      "./data/raw/13_S13_L001_R2_001_redu.fasta\n",
      "./data/raw/14_S14_L001_R1_001_redu.fasta\n",
      "./data/raw/14_S14_L001_R2_001_redu.fasta\n",
      "./data/raw/15_S15_L001_R1_001_redu.fasta\n",
      "./data/raw/15_S15_L001_R2_001_redu.fasta\n",
      "./data/raw/16_S16_L001_R1_001_redu.fasta\n",
      "./data/raw/16_S16_L001_R2_001_redu.fasta\n",
      "./data/raw/17_S17_L001_R1_001_redu.fasta\n",
      "./data/raw/17_S17_L001_R2_001_redu.fasta\n"
     ]
    }
   ],
   "source": [
    "ls ./data/raw/*.fasta | head "
   ]
  },
  {
   "cell_type": "markdown",
   "id": "f7434277-383f-42d4-b7f9-5a977fed781f",
   "metadata": {},
   "source": [
    "Y el contenido (primeras 10 líneas) del uno de estos:"
   ]
  },
  {
   "cell_type": "code",
   "execution_count": 36,
   "id": "b7b84f7f-9fcf-47fa-ad85-081d513dd931",
   "metadata": {
    "tags": []
   },
   "outputs": [
    {
     "name": "stdout",
     "output_type": "stream",
     "text": [
      ">M04487:61:000000000-CWK5N:1:2102:3572:19652 1:N:0:TAAGGCGA+TATCCTCT\n",
      "GTGCCAGCCGCCGCGGTAAGACGAAGGGGGCAAGCGTTGTTCGGAATTACTGGGCGTAAAGCGCGTGTAGGTGGTTGTCATAGTCAGGCGTGAAAGCCTTGAGCTCAACTCAAGAAATGCGCTTGATACTGGGCAGCTAGAGGACCGGAGAGGATAGTGGAATTCCCAGTGTAGTGGTGAAATACGTAGAGATTGGGAAGAACACCAGTGGCGAAGGCGGCTATCTGGACGGTTTCTGACACTAAGAGGCGAAAGCGTGGGGAGCAAACAGGATTAGATACCCTGGTAGTCCACGCCGTAA\n",
      ">M04487:61:000000000-CWK5N:1:1104:17669:17054 1:N:0:TAAGGCGA+TATCCTCT\n",
      "GTGTCAGCAGCCGCGGTAATACGAAGGTGGCAAGCGTTGTTCGGATTCACTGGGCGTACAGGGAGCGTAGGCGGTTGGGTAAGCCCTCCGTGAAATCTCCGGGCCTAACCCGGAAAGTGCAGAGGGGACTGCTCGGCTAGAGGATGGGAGAGGAGCGCGGAATTCCCGGTGTAGCGGTGAAATGCGTAGAGATCGGGAGGAAGGCCGGTGGCGAAGGCGGCGCTCTGGAACATTTCTGACGCTGAGGCTCGAAAGCGTGGGGAGCAAACAGGATTAGATACCCTGGTAGTCCACGCCTTAA\n",
      ">M04487:61:000000000-CWK5N:1:1110:24666:23391 1:N:0:TAAGGCGA+TATCCTCT\n",
      "GTGCCAGCCGCCGCGGTAAGACGAAGGGGGCAAGCGTTGTTCGGAATTACTGGGCGTAAAGCGCGTGTAGGTGGTTGTCATAGTCAGGCGTGAAAGCCTTGAGCTCAACTCAAGAAATGCGCTTGATACTGGGCAGCTAGAGGACCGGAGAGGATAGTGGAATTCCCAGTGTAGTGGTGAAATACGTAGAGATTGGGAAGAACACCAGTGGCGAAGGCGGCTATCTGGACGGTTTCTGACACTAAGACGCGAAAGCGTGGGGAGCAAACAGGATTAGATACCCTGGTAGTCCACGCCGTAA\n",
      ">M04487:61:000000000-CWK5N:1:1117:20199:9713 1:N:0:TAAGGCGA+TATCCTCT\n",
      "GTGTCAGCAGCCGCGGTAATACGGAGGATCCAAGCGTTATCCGGAATCATTGGGTTTAAAGGGTCCGTAGGCGGTTTAATAAGTCAGTGGTGAAAGCCCATCGCTCAACGGTGGAACGGCCATTGATACTGTTAAACTTGAATTATTAGGAAGTAACTAGAATATGTAGTGTAGCGGTGAAATGCTTAGAGATTACATGGAATACCAATTGCGAAGGCAGGTTACTACTAATGGATTGACGCTGATGGACGAAAGCGTGGGTAGCGAACAGGATTAGATACCCTGGTAGTCCACGCCGTAA\n",
      ">M04487:61:000000000-CWK5N:1:1106:14754:11282 1:N:0:TAAGGCGA+TATCCTCT\n",
      "GTGCCAGCAGCCGCGGTAATACGAAGGGGGCGAGCGTTGTTCGGAATTACTGGGCGTAAAGGGCGCGCAGGCGGTTCTTCAAGTCAGATGTGAAAGCCCCGGGCTCAACCTGGGAATAGCATTTGGGACTGGAGAACTAGAGTTCGGGAGAGGTGGGTGGAATTCCCAGTGTAGAGGTGAAATTCGTAGATATTGGGAAGAACACCGGTGGCGAAGGCGGCTCACTGGACCGATACTGACGCTGAGGCGCGAAAGCGTGGGGAGCAAACAGGATTAGATACCCTGGTAGTCCACGCCGTAA\n"
     ]
    }
   ],
   "source": [
    "head ./data/raw/13_S13_L001_R1_001_redu.fasta"
   ]
  },
  {
   "cell_type": "markdown",
   "id": "2f663429-dfdd-4104-86c8-49f8f2235ee8",
   "metadata": {},
   "source": [
    "Como siguiente ejercicio, vamos a crear unos encabezados que sean más útiles, donde vamos a incluir el nombre de la muestra y un número identificador de cada secuencia."
   ]
  },
  {
   "cell_type": "code",
   "execution_count": 37,
   "id": "584b6dd2-bbba-433a-a837-1bc77dd5a47d",
   "metadata": {
    "tags": []
   },
   "outputs": [],
   "source": [
    "SAMPLES_FASTA=$(ls ./data/raw/*.fasta)"
   ]
  },
  {
   "cell_type": "code",
   "execution_count": 38,
   "id": "29778a91-1694-4955-95fe-778bbaaf97c1",
   "metadata": {
    "tags": []
   },
   "outputs": [
    {
     "name": "stdout",
     "output_type": "stream",
     "text": [
      "./data/raw/13_S13_L001_R1_001_redu.fasta\n",
      "./data/raw/13_S13_L001_R2_001_redu.fasta\n",
      "./data/raw/14_S14_L001_R1_001_redu.fasta\n",
      "./data/raw/14_S14_L001_R2_001_redu.fasta\n",
      "./data/raw/15_S15_L001_R1_001_redu.fasta\n",
      "./data/raw/15_S15_L001_R2_001_redu.fasta\n",
      "./data/raw/16_S16_L001_R1_001_redu.fasta\n",
      "./data/raw/16_S16_L001_R2_001_redu.fasta\n",
      "./data/raw/17_S17_L001_R1_001_redu.fasta\n",
      "./data/raw/17_S17_L001_R2_001_redu.fasta\n"
     ]
    }
   ],
   "source": [
    "echo \"$SAMPLES_FASTA\"  | head "
   ]
  },
  {
   "cell_type": "code",
   "execution_count": 39,
   "id": "c21e2242-4e1f-495e-82cf-f04a125415e9",
   "metadata": {
    "tags": []
   },
   "outputs": [],
   "source": [
    "for fasta in $SAMPLES_FASTA; do\n",
    " sample_name=$(echo \"$fasta\" | sed \"s/.*\\/\\(.*\\)_L001_R[1,2]_001_redu.fasta/\\\\1/\")\n",
    " read=$(echo \"$fasta\" | sed \"s/.*\\_L001_\\(R[1,2]\\)_001_redu.fasta/\\\\1/\")\n",
    " awk -v sample_name=\"$sample_name\" '$0 ~ /^>/ {n++; print \">\"sample_name\"|\"n}; \n",
    "                                    $0 !~ /^>/ {print $0}' \"$fasta\" > ./data/raw/\"${sample_name}\"_\"${read}\"_formatted.fasta\n",
    "done"
   ]
  },
  {
   "cell_type": "markdown",
   "id": "f63633bd-574c-4427-972b-81431ab9eb93",
   "metadata": {
    "tags": []
   },
   "source": [
    "En este comando lo que estamos haciendo primeramente es crear la variable `sample_name`, donde utilizamos `sed`.  \n",
    "La expresión regular que se lee de la siguiente manera: toda secuencia de caracteres hasta encontrar la barra oblicua `/` (osea, todo la ruta hasta el archivo fasta), y luego toda secuencia de caracteres hasta encontrar la cadena de caracteres `_L001_R`, luego con la expresión `[1,2]`, estamos especificando que luego de la cadena `_L001_R` puede estar tando el número 1 o el 2. Por último, simplemente especificamos cómo termina el nombre del archivo (i.e., `_001.fasta`).  \n",
    "La sustitución que hacemos en este caso, es con el `\\\\1`, que lo que hace es devolvernos todo que lo queda entre paréntesis curvos en la expresión regular, osea en este caso, lo que realmente estamos buscando que es el nombre \"limpio\" de la muestra."
   ]
  },
  {
   "cell_type": "markdown",
   "id": "41295540-d719-4031-96cd-2aed731402fb",
   "metadata": {
    "tags": []
   },
   "source": [
    "Seguidamente, definimos la variable `read`, que especifica si la muestra es R1 o R2. El comando de `sed` utilizado en este caso se lee de forma muy similar al anterior, la principal diferencia es que ahora en lugar del nombre \"limpio\" de la muestra, nos quedamos con la especificación diciendo si es R1 o R2."
   ]
  },
  {
   "cell_type": "markdown",
   "id": "25fe2ca6-b2f4-4fc4-a09e-2d125703a8a6",
   "metadata": {},
   "source": [
    "Por último, corremos el comando `awk` para sustituir el encabezado de cada secuencia por el nombre de la muestra y un identificador numérico (i.e., contador de secuencias).  \n",
    "Notar que al correr `awk` utilizamos el parámetro `-v` que nos permite pasarle la variable `sample_name` para ser utilizada dentro de `awk`. Luego de esto, el comando lo que hace es encontrar todas las líneas que comienzan con el carácter `>` (i.e., `$0 ~ /^>/`), osea, los encabezados de los fasta. Una vez encarnado una línea cumpliendo con este requisito, lo que sigue es incrementar la variable `n` en uno (i.e., `n++`), y luego imprimimos nuestro encabezado totalmente formateado a gusto, poniendo primero el carácter `>`, luego el nombre de la muestra, luego el separador `|` y por último el contador o identificador de secuencias que es la variable `n`.  \n",
    "Una vez identificado y modificado el encabezado lo que hace el comando es imprimir todas las líneas en el archivo que no comienzan con el carácter `>` (i.e., `$0 !~ /^>/`)."
   ]
  },
  {
   "cell_type": "markdown",
   "id": "37dc915b-3fd1-4000-bed2-3fcd0cd416a1",
   "metadata": {
    "tags": []
   },
   "source": [
    "Vamos a ver cómo quedaron nuestras secuencias formateadas:"
   ]
  },
  {
   "cell_type": "code",
   "execution_count": 40,
   "id": "1090100f-5853-406e-806c-342accfb6c65",
   "metadata": {
    "tags": []
   },
   "outputs": [
    {
     "name": "stdout",
     "output_type": "stream",
     "text": [
      "./data/raw/13_S13_R1_formatted.fasta\n",
      "./data/raw/13_S13_R2_formatted.fasta\n",
      "./data/raw/14_S14_R1_formatted.fasta\n",
      "./data/raw/14_S14_R2_formatted.fasta\n",
      "./data/raw/15_S15_R1_formatted.fasta\n",
      "./data/raw/15_S15_R2_formatted.fasta\n",
      "./data/raw/16_S16_R1_formatted.fasta\n",
      "./data/raw/16_S16_R2_formatted.fasta\n",
      "./data/raw/17_S17_R1_formatted.fasta\n",
      "./data/raw/17_S17_R2_formatted.fasta\n"
     ]
    }
   ],
   "source": [
    "ls ./data/raw/*formatted.fasta | head "
   ]
  },
  {
   "cell_type": "code",
   "execution_count": 41,
   "id": "d33fadb5-6819-4998-9a3e-df2132223bc8",
   "metadata": {
    "tags": []
   },
   "outputs": [
    {
     "name": "stdout",
     "output_type": "stream",
     "text": [
      ">13_S13|1\n",
      "GTGCCAGCCGCCGCGGTAAGACGAAGGGGGCAAGCGTTGTTCGGAATTACTGGGCGTAAAGCGCGTGTAGGTGGTTGTCATAGTCAGGCGTGAAAGCCTTGAGCTCAACTCAAGAAATGCGCTTGATACTGGGCAGCTAGAGGACCGGAGAGGATAGTGGAATTCCCAGTGTAGTGGTGAAATACGTAGAGATTGGGAAGAACACCAGTGGCGAAGGCGGCTATCTGGACGGTTTCTGACACTAAGAGGCGAAAGCGTGGGGAGCAAACAGGATTAGATACCCTGGTAGTCCACGCCGTAA\n",
      ">13_S13|2\n",
      "GTGTCAGCAGCCGCGGTAATACGAAGGTGGCAAGCGTTGTTCGGATTCACTGGGCGTACAGGGAGCGTAGGCGGTTGGGTAAGCCCTCCGTGAAATCTCCGGGCCTAACCCGGAAAGTGCAGAGGGGACTGCTCGGCTAGAGGATGGGAGAGGAGCGCGGAATTCCCGGTGTAGCGGTGAAATGCGTAGAGATCGGGAGGAAGGCCGGTGGCGAAGGCGGCGCTCTGGAACATTTCTGACGCTGAGGCTCGAAAGCGTGGGGAGCAAACAGGATTAGATACCCTGGTAGTCCACGCCTTAA\n",
      ">13_S13|3\n",
      "GTGCCAGCCGCCGCGGTAAGACGAAGGGGGCAAGCGTTGTTCGGAATTACTGGGCGTAAAGCGCGTGTAGGTGGTTGTCATAGTCAGGCGTGAAAGCCTTGAGCTCAACTCAAGAAATGCGCTTGATACTGGGCAGCTAGAGGACCGGAGAGGATAGTGGAATTCCCAGTGTAGTGGTGAAATACGTAGAGATTGGGAAGAACACCAGTGGCGAAGGCGGCTATCTGGACGGTTTCTGACACTAAGACGCGAAAGCGTGGGGAGCAAACAGGATTAGATACCCTGGTAGTCCACGCCGTAA\n",
      ">13_S13|4\n",
      "GTGTCAGCAGCCGCGGTAATACGGAGGATCCAAGCGTTATCCGGAATCATTGGGTTTAAAGGGTCCGTAGGCGGTTTAATAAGTCAGTGGTGAAAGCCCATCGCTCAACGGTGGAACGGCCATTGATACTGTTAAACTTGAATTATTAGGAAGTAACTAGAATATGTAGTGTAGCGGTGAAATGCTTAGAGATTACATGGAATACCAATTGCGAAGGCAGGTTACTACTAATGGATTGACGCTGATGGACGAAAGCGTGGGTAGCGAACAGGATTAGATACCCTGGTAGTCCACGCCGTAA\n",
      ">13_S13|5\n",
      "GTGCCAGCAGCCGCGGTAATACGAAGGGGGCGAGCGTTGTTCGGAATTACTGGGCGTAAAGGGCGCGCAGGCGGTTCTTCAAGTCAGATGTGAAAGCCCCGGGCTCAACCTGGGAATAGCATTTGGGACTGGAGAACTAGAGTTCGGGAGAGGTGGGTGGAATTCCCAGTGTAGAGGTGAAATTCGTAGATATTGGGAAGAACACCGGTGGCGAAGGCGGCTCACTGGACCGATACTGACGCTGAGGCGCGAAAGCGTGGGGAGCAAACAGGATTAGATACCCTGGTAGTCCACGCCGTAA\n"
     ]
    }
   ],
   "source": [
    "head ./data/raw/13_S13_R1_formatted.fasta"
   ]
  },
  {
   "cell_type": "markdown",
   "id": "f7ad01b5-7341-46f4-8c6e-ceba30441f3b",
   "metadata": {
    "tags": []
   },
   "source": [
    "Notar que ahora que las secuencias están en formato fasta, es muy fácil contar el número de secuencias por muestras. ¿Te das cuenta cómo podemos hacer esto con el comando `egrep`?"
   ]
  },
  {
   "cell_type": "markdown",
   "id": "e2645bb8-99ee-4bcc-82b3-0d4e30554ca4",
   "metadata": {},
   "source": [
    "Como último ejercicio, vamos a eliminar todas las secuencias que tengan más de tres Ns seguidas (i.e., nucleótidos que no han sido determinados en la secuenciación), para lo que vamos a utilizar el comando `awk`."
   ]
  },
  {
   "cell_type": "code",
   "execution_count": 42,
   "id": "2d245143-7849-40c6-a403-4f5932d1502a",
   "metadata": {
    "tags": []
   },
   "outputs": [],
   "source": [
    "SAMPLES_FASTA=$(ls ./data/raw/*_formatted.fasta)"
   ]
  },
  {
   "cell_type": "code",
   "execution_count": 30,
   "id": "97c193b0-a204-47a8-8689-70c9a6183005",
   "metadata": {
    "tags": []
   },
   "outputs": [
    {
     "name": "stdout",
     "output_type": "stream",
     "text": [
      "./data/raw/13_S13_R1_formatted.fasta\n",
      "./data/raw/13_S13_R2_formatted.fasta\n",
      "./data/raw/14_S14_R1_formatted.fasta\n",
      "./data/raw/14_S14_R2_formatted.fasta\n",
      "./data/raw/15_S15_R1_formatted.fasta\n",
      "./data/raw/15_S15_R2_formatted.fasta\n",
      "./data/raw/16_S16_R1_formatted.fasta\n",
      "./data/raw/16_S16_R2_formatted.fasta\n",
      "./data/raw/17_S17_R1_formatted.fasta\n",
      "./data/raw/17_S17_R2_formatted.fasta\n"
     ]
    }
   ],
   "source": [
    "ls ./data/raw/*_formatted.fasta  | head "
   ]
  },
  {
   "cell_type": "code",
   "execution_count": 43,
   "id": "28b7a58b-1cc4-4661-8d56-bd889e2c7184",
   "metadata": {
    "tags": []
   },
   "outputs": [],
   "source": [
    "for fasta in $SAMPLES_FASTA; do\n",
    "  sample_name=$(echo \"$fasta\" | sed \"s/.*\\/\\(.*\\)_R[1,2]_formatted.fasta/\\\\1/\")\n",
    "  read=$(echo \"$fasta\" | sed \"s/.*\\(R[1,2]\\)_formatted.fasta/\\\\1/\")\n",
    "  awk ' $0 ~ />/ {header=$0}; \n",
    "        $0 !~ />/ && $0 !~ /NNN/ {printf \"%s\\n%s\\n\", header, $0}' $fasta > ./data/raw/\"${sample_name}\"_\"${read}\"_formatted_filt.fasta\n",
    "done  "
   ]
  },
  {
   "cell_type": "markdown",
   "id": "561fd9dd-6ef2-4ad3-ad4d-8efb5a957d42",
   "metadata": {
    "tags": []
   },
   "source": [
    "---\n",
    "### Fin de sección <img src=\"../figures/uphill.png\" width=\"50\" height=\"50\" />\n",
    "---"
   ]
  }
 ],
 "metadata": {
  "kernelspec": {
   "display_name": "Bash",
   "language": "bash",
   "name": "bash"
  },
  "language_info": {
   "codemirror_mode": "shell",
   "file_extension": ".sh",
   "mimetype": "text/x-sh",
   "name": "bash"
  }
 },
 "nbformat": 4,
 "nbformat_minor": 5
}
