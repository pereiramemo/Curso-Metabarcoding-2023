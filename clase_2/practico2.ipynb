{
 "cells": [
  {
   "cell_type": "markdown",
   "id": "7a510380-2cd7-4dd7-9885-798ff34a2c6c",
   "metadata": {
    "tags": []
   },
   "source": [
    "***\n",
    "# **Práctico 2**\n",
    "***"
   ]
  },
  {
   "cell_type": "markdown",
   "id": "0dbabdd8-baee-4ad9-af22-38bc706c0602",
   "metadata": {
    "tags": []
   },
   "source": [
    "<img src=\"../figures/Rlogo.png\" width=\"500\" height=\"500\" />"
   ]
  },
  {
   "cell_type": "markdown",
   "id": "ff1102ac-2f94-4fd4-a23d-144db4abef50",
   "metadata": {
    "tags": []
   },
   "source": [
    "R es un lenguaje y ambiente especialmente diseñado para la computación estadística y creación de gráficos.  \n",
    "R se utiliza entre ingenieros de datos, bioinformáticos y estadísticos para el análisis de datos y desarrollo de software estadístico.  \n",
    "R es libre, de código abierto, lanzado como parte del Proyecto GNU y disponible bajo la Licencia Pública General GNU. "
   ]
  },
  {
   "cell_type": "markdown",
   "id": "b6328d26-e2e4-473e-92e5-d02dea3aecfe",
   "metadata": {
    "tags": []
   },
   "source": [
    "En este práctico vamos a hacer una introducción a la programación en R."
   ]
  },
  {
   "cell_type": "markdown",
   "id": "95621728-86e6-4015-ada6-d7ce3cc2f7c4",
   "metadata": {},
   "source": [
    "- **Aclaración:** el contenido de este práctico está muy muy lejos de cubrir comprehensivamente el manejo y la programación en R, es sólo una primera aproximación para que los estudiantes tengan una idea de qué es posible hacer, y puedan empezar a trabajar y aprender más por su cuenta.  \n",
    "- **Aclaración2:** la terminología en inglés se vuelve muy práctica en esta temática y será usada en cuando sea pertinente (no debe tener ninguna connotación ideológica).\n",
    "- **Aclaración3**: Las secciones algo más avanzadas aparecen marcadas con la imagen: <img src=\"../figures/uphill.png\" width=\"50\" height=\"50\" />  Estas secciones pueden resultar algo compleja para quienes son nuevos en el área. No pretendemos que entiendan finamente cómo funcionan los comandos, la intención es que tengan una comprensión general y código disponible para tareas potencialmente útiles."
   ]
  },
  {
   "cell_type": "markdown",
   "id": "a182b7f9-75e6-4f06-b2f1-547055e582c7",
   "metadata": {
    "tags": []
   },
   "source": [
    "---\n",
    "**Las secciones de este tutorial son las siguientes**:\n",
    "1. Tipos de datos  \n",
    "2. Estructuras de datos\n",
    "3. Operadores  \n",
    "4. Bucles\n",
    "5. Instalación de paquetes\n",
    "6. Funciones\n",
    "7. Tidyverse\n",
    "---"
   ]
  },
  {
   "cell_type": "markdown",
   "id": "a068fb23-475b-4511-bac6-8fdc20a90446",
   "metadata": {
    "tags": []
   },
   "source": [
    "---\n",
    "#### **1. Tipos de datos**\n",
    "---"
   ]
  },
  {
   "cell_type": "markdown",
   "id": "23291d38-6ec1-430e-918b-3995020ee454",
   "metadata": {
    "tags": []
   },
   "source": [
    "En R existen cinco tipos básicos de tipos de datos más utilizados son:\n",
    "\n",
    " - character\n",
    " - numeric (real or decimal)\n",
    " - integer\n",
    " - logical\n",
    " - complex"
   ]
  },
  {
   "cell_type": "markdown",
   "id": "cc7d2ef3-99ba-4e34-bc6a-406005143cbe",
   "metadata": {},
   "source": [
    "Elementos de estos tipos de datos pueden ser combinados para formar estructuras de datos. La estructura de datos más simple es lo que se conoce como ___atomic vectors___. Estos son vectores con un único elemento y es lo que utilizaremos a continuación para mostrar ejemplos de estos tipos de datos. "
   ]
  },
  {
   "cell_type": "code",
   "execution_count": 1,
   "id": "f4f6e304-b1b0-4746-a704-dd4ca31c0669",
   "metadata": {
    "tags": []
   },
   "outputs": [],
   "source": [
    "# character\n",
    "c <- \"abc\"\n",
    "# numeric\n",
    "n <- 123.4\n",
    "# intiger\n",
    "i <- 123\n",
    "# logical\n",
    "l <- TRUE\n",
    "# complex\n",
    "co <- 1 + 2i"
   ]
  },
  {
   "cell_type": "markdown",
   "id": "77e5dd54-aaf3-490b-9cd0-cc15f8179293",
   "metadata": {
    "tags": []
   },
   "source": [
    "Notar:  \n",
    "Todo lo que quede después de`#` quedará comentado, es decir, esto será ignorado por R, sirviendo únicamente como comentario para ser interpretado por humanos.  \n",
    "`<-` es un operador de asignación y es utilizado para asignarle un valor a una variable. También es posible utilizar `=` en lugar de `<-`, pero como buena práctica se prefiere utilizar este último para definir variables."
   ]
  },
  {
   "cell_type": "markdown",
   "id": "973dde17-474f-4888-94b5-1cdbc02e5023",
   "metadata": {},
   "source": [
    "Para saber el tipo de datos de un objeto podemos utilizar la función `class()`."
   ]
  },
  {
   "cell_type": "code",
   "execution_count": 2,
   "id": "7e1e616e-5e53-493d-a873-e17c2930ad05",
   "metadata": {
    "tags": []
   },
   "outputs": [
    {
     "data": {
      "text/html": [
       "'character'"
      ],
      "text/latex": [
       "'character'"
      ],
      "text/markdown": [
       "'character'"
      ],
      "text/plain": [
       "[1] \"character\""
      ]
     },
     "metadata": {},
     "output_type": "display_data"
    }
   ],
   "source": [
    "class(c)"
   ]
  },
  {
   "cell_type": "code",
   "execution_count": 3,
   "id": "b814df74-dd82-448d-bc94-69d463f762a4",
   "metadata": {
    "tags": []
   },
   "outputs": [
    {
     "data": {
      "text/html": [
       "'logical'"
      ],
      "text/latex": [
       "'logical'"
      ],
      "text/markdown": [
       "'logical'"
      ],
      "text/plain": [
       "[1] \"logical\""
      ]
     },
     "metadata": {},
     "output_type": "display_data"
    }
   ],
   "source": [
    "class(l)"
   ]
  },
  {
   "cell_type": "markdown",
   "id": "3fa7c366-8a08-4b77-bf7b-c93d4a45957e",
   "metadata": {
    "tags": []
   },
   "source": [
    "---\n",
    "#### **2. Estructuras de datos**\n",
    "---"
   ]
  },
  {
   "cell_type": "markdown",
   "id": "9a44c7d2-742b-442a-b69d-4a48c2bd190d",
   "metadata": {},
   "source": [
    "Las estructuras de datos nos permiten guardar distintos tipos de información (o a veces la misma información) de distinta forma y son los objetos manipuladas en R (todo en R es un objeto)."
   ]
  },
  {
   "cell_type": "markdown",
   "id": "1f74e04f-2a6a-429d-82be-ce897f9370b0",
   "metadata": {
    "tags": []
   },
   "source": [
    "Los principales tipos de estructuras de datos son los siguientes:"
   ]
  },
  {
   "cell_type": "markdown",
   "id": "ac729307-2708-45e6-9103-d3ae780ec95d",
   "metadata": {},
   "source": [
    " - Vectors\n",
    " - Lists\n",
    " - Dataframes\n",
    " - Matrices\n",
    " - Arrays\n",
    " - Factors"
   ]
  },
  {
   "cell_type": "markdown",
   "id": "dd68c49b-2ed1-43ab-ae38-42c47f03126f",
   "metadata": {
    "tags": []
   },
   "source": [
    "- **Vectors**"
   ]
  },
  {
   "cell_type": "markdown",
   "id": "4e006bb2-b7ca-40c5-9495-d0281c3220de",
   "metadata": {},
   "source": [
    "Un vector es una colección ordenada de un tipo de datos básico de una longitud determinada. Todos los elementos de un vector deben ser del mismo tipo de datos. Los vectores son estructuras de datos homogéneas y unidimensionales.  \n",
    "Por ejemplo:"
   ]
  },
  {
   "cell_type": "code",
   "execution_count": 4,
   "id": "c3749ea7-ef0e-4117-b978-8eec7bf20af6",
   "metadata": {
    "tags": []
   },
   "outputs": [],
   "source": [
    "x <- c(1,2,3)"
   ]
  },
  {
   "cell_type": "markdown",
   "id": "46721597-44c5-4f54-b5b1-815d2816a9e4",
   "metadata": {
    "tags": []
   },
   "source": [
    "En este ejemplo lo que estamos haciendo es asignar el vector `(1, 2, 3)` a la variables `x`.  \n",
    "Nota:  \n",
    "`c` es una función que combina todos los elementos de entrada para formar (por defecto) un vector).  \n",
    "Siempre que llamamos a una función en R lo hacemos con la siguiente sintaxis: `function_name(input_data, parameters)`"
   ]
  },
  {
   "cell_type": "markdown",
   "id": "8b9110be-bf77-47b5-9c74-3c37a490e572",
   "metadata": {
    "tags": []
   },
   "source": [
    "Nuestra variable `x` la podemos imprimir con la función `print()`."
   ]
  },
  {
   "cell_type": "code",
   "execution_count": 5,
   "id": "6f4236cc-cb53-44a1-aaf9-309885a6b88e",
   "metadata": {
    "tags": []
   },
   "outputs": [
    {
     "name": "stdout",
     "output_type": "stream",
     "text": [
      "[1] 1 2 3\n"
     ]
    }
   ],
   "source": [
    "print(x)"
   ]
  },
  {
   "cell_type": "markdown",
   "id": "75cf7305-e654-4cc9-ac16-9f33305d0a3d",
   "metadata": {
    "tags": []
   },
   "source": [
    "- **Lists**"
   ]
  },
  {
   "cell_type": "markdown",
   "id": "dc41540f-6674-419c-a236-80d96df834a0",
   "metadata": {},
   "source": [
    "Una lista es un objeto compuesto de una colección ordenada de otros objetos. Las listas son estructuras de datos heterogéneas y unidimensionales. Los objetos que componen una lista pueden ser cualquier tipo de objetos, ej., otras listas, vectores, funciones, etc.  \n",
    "Por ejemplo:"
   ]
  },
  {
   "cell_type": "code",
   "execution_count": 6,
   "id": "082dd6f5-7179-4e07-8bda-7f8632634b73",
   "metadata": {
    "tags": []
   },
   "outputs": [],
   "source": [
    "y <- list(x, \"this is a string of characters\", TRUE, 1:100)"
   ]
  },
  {
   "cell_type": "markdown",
   "id": "1a3fad3a-98c8-4688-bbc9-78fa066707c6",
   "metadata": {
    "tags": []
   },
   "source": [
    "Al hacer `print(y)` podemos ver qué hay en cada posición de la lista `y`."
   ]
  },
  {
   "cell_type": "code",
   "execution_count": 7,
   "id": "62b00fac-18a3-457c-aa7a-fed083d11e1f",
   "metadata": {
    "tags": []
   },
   "outputs": [
    {
     "name": "stdout",
     "output_type": "stream",
     "text": [
      "[[1]]\n",
      "[1] 1 2 3\n",
      "\n",
      "[[2]]\n",
      "[1] \"this is a string of characters\"\n",
      "\n",
      "[[3]]\n",
      "[1] TRUE\n",
      "\n",
      "[[4]]\n",
      "  [1]   1   2   3   4   5   6   7   8   9  10  11  12  13  14  15  16  17  18\n",
      " [19]  19  20  21  22  23  24  25  26  27  28  29  30  31  32  33  34  35  36\n",
      " [37]  37  38  39  40  41  42  43  44  45  46  47  48  49  50  51  52  53  54\n",
      " [55]  55  56  57  58  59  60  61  62  63  64  65  66  67  68  69  70  71  72\n",
      " [73]  73  74  75  76  77  78  79  80  81  82  83  84  85  86  87  88  89  90\n",
      " [91]  91  92  93  94  95  96  97  98  99 100\n",
      "\n"
     ]
    }
   ],
   "source": [
    "print(y)"
   ]
  },
  {
   "cell_type": "markdown",
   "id": "27d43c49-bf95-4fc2-a575-a8cedf7ca310",
   "metadata": {},
   "source": [
    "También podríamos hacer:"
   ]
  },
  {
   "cell_type": "code",
   "execution_count": 8,
   "id": "ab73467d-ceba-49b3-92e7-d6deefee8279",
   "metadata": {
    "tags": []
   },
   "outputs": [
    {
     "name": "stdout",
     "output_type": "stream",
     "text": [
      "[[1]]\n",
      "[1] 1 2 3\n",
      "\n"
     ]
    }
   ],
   "source": [
    "print(y[1])"
   ]
  },
  {
   "cell_type": "markdown",
   "id": "ca8a1616-df94-4782-9a90-de3e07badf36",
   "metadata": {},
   "source": [
    "de forma de extraer e imprimir sólo el primer elemento de la lista. "
   ]
  },
  {
   "cell_type": "markdown",
   "id": "b4dfb607-a799-4c6e-9bfc-d4f73ac9f50b",
   "metadata": {
    "tags": []
   },
   "source": [
    "Notar:\n",
    "1. Todas las cadenas de caracteres debemos ponerlas entre paréntesis, de otro modo R intentará encontrar algún objeto llamado como nuestra cadena (o la primera palabra si hay espacios).\n",
    "2. El operador `:` nos permite crear una secuencia numérica, en este caso de 1 a 100.\n",
    "3. El valor `TRUE` es un tipo de datos lógico que veremos más abajo."
   ]
  },
  {
   "cell_type": "markdown",
   "id": "af2f0c44-d359-4cc9-a6f7-3948e466518b",
   "metadata": {
    "tags": []
   },
   "source": [
    "- **Dataframes**"
   ]
  },
  {
   "cell_type": "markdown",
   "id": "effaf423-1d40-4805-8d5f-16a584bf5fa1",
   "metadata": {},
   "source": [
    "Los `dataframes` son objetos de R que se utilizan para almacenar datos tabulares y son especialmente populares. Son estructuras de datos bidimensionales y heterogéneas.  \n",
    "Estas estructuras de datos tienen las siguientes restricciones:  \n",
    "\n",
    "1. Deben tener nombres de columnas y cada fila debe tener un nombre único.\n",
    "2. Cada columna debe tener el mismo número de elementos.\n",
    "3. Cada elemento de una sola columna debe ser del mismo tipo de datos.\n",
    "4. Diferentes columnas pueden tener diferentes tipos de datos.\n",
    "\n",
    "Esencialmente, los `dataframes` son listas de vectores de iguales longitudes.\n",
    "\n",
    "Por ejemplo:\n"
   ]
  },
  {
   "cell_type": "code",
   "execution_count": 9,
   "id": "4ac10e2d-06d3-4c6b-b64c-eadd0bba4a23",
   "metadata": {
    "tags": []
   },
   "outputs": [],
   "source": [
    "x1 <- 1:5\n",
    "x2 <- c(\"a\", \"b\", \"c\", \"d\", \"e\")\n",
    "x_df <- data.frame(column1 = x1, column2 = x2)"
   ]
  },
  {
   "cell_type": "code",
   "execution_count": 10,
   "id": "2792b83d-923c-4e8a-b82b-9ef6c80a4916",
   "metadata": {
    "tags": []
   },
   "outputs": [
    {
     "name": "stdout",
     "output_type": "stream",
     "text": [
      "  column1 column2\n",
      "1       1       a\n",
      "2       2       b\n",
      "3       3       c\n",
      "4       4       d\n",
      "5       5       e\n"
     ]
    }
   ],
   "source": [
    "print(x_df)"
   ]
  },
  {
   "cell_type": "code",
   "execution_count": 11,
   "id": "939945bb-338c-4428-871f-9ab434837408",
   "metadata": {
    "tags": []
   },
   "outputs": [
    {
     "data": {
      "text/html": [
       "<style>\n",
       ".list-inline {list-style: none; margin:0; padding: 0}\n",
       ".list-inline>li {display: inline-block}\n",
       ".list-inline>li:not(:last-child)::after {content: \"\\00b7\"; padding: 0 .5ex}\n",
       "</style>\n",
       "<ol class=list-inline><li>'column1'</li><li>'column2'</li></ol>\n"
      ],
      "text/latex": [
       "\\begin{enumerate*}\n",
       "\\item 'column1'\n",
       "\\item 'column2'\n",
       "\\end{enumerate*}\n"
      ],
      "text/markdown": [
       "1. 'column1'\n",
       "2. 'column2'\n",
       "\n",
       "\n"
      ],
      "text/plain": [
       "[1] \"column1\" \"column2\""
      ]
     },
     "metadata": {},
     "output_type": "display_data"
    }
   ],
   "source": [
    "colnames(x_df)"
   ]
  },
  {
   "cell_type": "code",
   "execution_count": 12,
   "id": "32af1372-706a-4bf8-8f19-b5165f90048f",
   "metadata": {
    "tags": []
   },
   "outputs": [
    {
     "data": {
      "text/html": [
       "<style>\n",
       ".list-inline {list-style: none; margin:0; padding: 0}\n",
       ".list-inline>li {display: inline-block}\n",
       ".list-inline>li:not(:last-child)::after {content: \"\\00b7\"; padding: 0 .5ex}\n",
       "</style>\n",
       "<ol class=list-inline><li>'1'</li><li>'2'</li><li>'3'</li><li>'4'</li><li>'5'</li></ol>\n"
      ],
      "text/latex": [
       "\\begin{enumerate*}\n",
       "\\item '1'\n",
       "\\item '2'\n",
       "\\item '3'\n",
       "\\item '4'\n",
       "\\item '5'\n",
       "\\end{enumerate*}\n"
      ],
      "text/markdown": [
       "1. '1'\n",
       "2. '2'\n",
       "3. '3'\n",
       "4. '4'\n",
       "5. '5'\n",
       "\n",
       "\n"
      ],
      "text/plain": [
       "[1] \"1\" \"2\" \"3\" \"4\" \"5\""
      ]
     },
     "metadata": {},
     "output_type": "display_data"
    }
   ],
   "source": [
    "rownames(x_df)"
   ]
  },
  {
   "cell_type": "markdown",
   "id": "71de9a5a-a6f1-446e-936b-71e6ed805fb1",
   "metadata": {},
   "source": [
    "Notar: Las funciones `colnames()` y `rownames()` nos permiten extraer (y también definir) los nombres de las columnas y las filas, respectivamente. "
   ]
  },
  {
   "cell_type": "markdown",
   "id": "686d053c-c1dd-47bc-8f47-ee3e24623905",
   "metadata": {},
   "source": [
    "Para extraer una columna de un `dataframe` podemos utilizar el nombres de las columnas con el operador `$`."
   ]
  },
  {
   "cell_type": "code",
   "execution_count": 13,
   "id": "d25f3045-d9e3-4858-a29c-05d3535dc334",
   "metadata": {
    "tags": []
   },
   "outputs": [
    {
     "data": {
      "text/html": [
       "<style>\n",
       ".list-inline {list-style: none; margin:0; padding: 0}\n",
       ".list-inline>li {display: inline-block}\n",
       ".list-inline>li:not(:last-child)::after {content: \"\\00b7\"; padding: 0 .5ex}\n",
       "</style>\n",
       "<ol class=list-inline><li>'a'</li><li>'b'</li><li>'c'</li><li>'d'</li><li>'e'</li></ol>\n"
      ],
      "text/latex": [
       "\\begin{enumerate*}\n",
       "\\item 'a'\n",
       "\\item 'b'\n",
       "\\item 'c'\n",
       "\\item 'd'\n",
       "\\item 'e'\n",
       "\\end{enumerate*}\n"
      ],
      "text/markdown": [
       "1. 'a'\n",
       "2. 'b'\n",
       "3. 'c'\n",
       "4. 'd'\n",
       "5. 'e'\n",
       "\n",
       "\n"
      ],
      "text/plain": [
       "[1] \"a\" \"b\" \"c\" \"d\" \"e\""
      ]
     },
     "metadata": {},
     "output_type": "display_data"
    }
   ],
   "source": [
    "x_df$column2"
   ]
  },
  {
   "cell_type": "markdown",
   "id": "365c66bb-44a0-4b90-8271-cf8d7ecad5d0",
   "metadata": {
    "tags": []
   },
   "source": [
    "- **Matrices**"
   ]
  },
  {
   "cell_type": "markdown",
   "id": "3317e1e2-ab15-4e5e-9f03-7914ea8a6b24",
   "metadata": {
    "tags": []
   },
   "source": [
    "Una matriz es una estructura de datos compuesta por un arreglo rectangular de números (o algún otro tipo de datos), que se organizan en filas y columnas. Estas son bidimensionales y homogéneas.  \n",
    "Las matrices son similares a los `dataframes`, en el sentido que son representaciones rectangulares de los datos, no obstante tiene diferencias importantes, principalmente esto es: en las matrices todos los datos deben de ser del mismo tipo y no es necesario que las filas y las columnas tengan nombres asignados.\n",
    "Vemos el ejemplo:"
   ]
  },
  {
   "cell_type": "code",
   "execution_count": 14,
   "id": "f1bb28bf-7c39-4139-8991-b5194a1b0ed3",
   "metadata": {
    "tags": []
   },
   "outputs": [],
   "source": [
    "x <- matrix(nrow = 3, ncol = 3, data = 1:9)"
   ]
  },
  {
   "cell_type": "markdown",
   "id": "4b00b9b4-53ea-4ce0-ad2f-de4a781ef1b1",
   "metadata": {
    "tags": []
   },
   "source": [
    "Con `?` puedes ver la ayuda la función `matrix()` (o cualquier otra función). Para esto debes escribir `?matrix`."
   ]
  },
  {
   "cell_type": "markdown",
   "id": "1e559446-acf2-4491-92eb-f1711d0fc69c",
   "metadata": {
    "tags": []
   },
   "source": [
    "Para extraer elementos de una matriz debemos utilizar el operador `[]` (este operador también puede ser utilizado en `dataframes`, `vectors` y `lists`).  \n",
    "En particular, al trabajar con matrices debemos utilizar una coma en el medio (i.e., `[,]`). La primera y segunda posición (antes y después de la coma) representan el índice de la fila y columna, respectivamente.\n",
    "Como regla general, el número de índices que estaremos utilizando en este operador (siempre separados por una coma) será el mismo que la dimensión de nuestro objeto."
   ]
  },
  {
   "cell_type": "code",
   "execution_count": 15,
   "id": "9f029476-0cf2-4d62-8d49-ff1a9c523c58",
   "metadata": {
    "tags": []
   },
   "outputs": [
    {
     "name": "stdout",
     "output_type": "stream",
     "text": [
      "     [,1] [,2] [,3]\n",
      "[1,]    1    4    7\n",
      "[2,]    2    5    8\n",
      "[3,]    3    6    9\n"
     ]
    }
   ],
   "source": [
    "print(x)"
   ]
  },
  {
   "cell_type": "code",
   "execution_count": 16,
   "id": "c8d7e3a2-8955-4aff-8f9e-8ceae60b5096",
   "metadata": {
    "tags": []
   },
   "outputs": [
    {
     "name": "stdout",
     "output_type": "stream",
     "text": [
      "[1] 5\n"
     ]
    }
   ],
   "source": [
    "print(x[2,2])"
   ]
  },
  {
   "cell_type": "markdown",
   "id": "89ad5e51-11c5-4c3a-be50-c22644d5998b",
   "metadata": {
    "tags": []
   },
   "source": [
    "¿Sabes cómo podemos utilizar el operador `[]` para extraer toda una fila o columna?"
   ]
  },
  {
   "cell_type": "markdown",
   "id": "0197f3fc-8212-4da6-b3bd-d33787bccba6",
   "metadata": {
    "tags": []
   },
   "source": [
    "- **Arrays**"
   ]
  },
  {
   "cell_type": "markdown",
   "id": "87f360ba-b43f-49c3-83d0-7285b8a72915",
   "metadata": {
    "tags": []
   },
   "source": [
    "Las matrices son estructuras de datos que pueden tener más de dos dimensiones. Son estructuras de datos homogéneas y n-dimensionales.  \n",
    "Por ejemplo:"
   ]
  },
  {
   "cell_type": "code",
   "execution_count": 17,
   "id": "b915126e-57e7-4ff9-90a1-7e6080d8b120",
   "metadata": {
    "tags": []
   },
   "outputs": [],
   "source": [
    "a <- array(data = 1:27, dim = c(3,3,3))"
   ]
  },
  {
   "cell_type": "code",
   "execution_count": 18,
   "id": "879d635c-4657-40cd-a607-468c4ee10532",
   "metadata": {
    "tags": []
   },
   "outputs": [
    {
     "name": "stdout",
     "output_type": "stream",
     "text": [
      ", , 1\n",
      "\n",
      "     [,1] [,2] [,3]\n",
      "[1,]    1    4    7\n",
      "[2,]    2    5    8\n",
      "[3,]    3    6    9\n",
      "\n",
      ", , 2\n",
      "\n",
      "     [,1] [,2] [,3]\n",
      "[1,]   10   13   16\n",
      "[2,]   11   14   17\n",
      "[3,]   12   15   18\n",
      "\n",
      ", , 3\n",
      "\n",
      "     [,1] [,2] [,3]\n",
      "[1,]   19   22   25\n",
      "[2,]   20   23   26\n",
      "[3,]   21   24   27\n",
      "\n"
     ]
    }
   ],
   "source": [
    "print(a)"
   ]
  },
  {
   "cell_type": "markdown",
   "id": "671fcad9-b111-4d3b-8a16-34f8db8ee586",
   "metadata": {
    "tags": []
   },
   "source": [
    "¿Te das cuenta cómo podemos utilizar el operador `[]` para extraer elementos de un `array`? ¿Puedes extraer únicamente el número 18? "
   ]
  },
  {
   "cell_type": "markdown",
   "id": "82b2f44d-18a1-40ff-834b-7225a5309b48",
   "metadata": {
    "tags": []
   },
   "source": [
    "- **Factors**"
   ]
  },
  {
   "cell_type": "markdown",
   "id": "543f0ca1-2638-4c9f-8e78-376682a6b0f5",
   "metadata": {
    "tags": []
   },
   "source": [
    "`Factors` son estructuras de datos diseñadas para representar variables categóricas ordinales. Los distintos niveles pueden estar representados por números o letras.  \n",
    "Por ejemplo:"
   ]
  },
  {
   "cell_type": "code",
   "execution_count": 19,
   "id": "cca9a0b5-80ef-4145-a8e0-3d49f39d0e83",
   "metadata": {
    "tags": []
   },
   "outputs": [],
   "source": [
    "x <- factor(c(1,2,3,4))"
   ]
  },
  {
   "cell_type": "code",
   "execution_count": 20,
   "id": "6bbfc74d-d4fe-4e86-a65c-cbf9c85a3630",
   "metadata": {
    "tags": []
   },
   "outputs": [
    {
     "name": "stdout",
     "output_type": "stream",
     "text": [
      "[1] 1 2 3 4\n",
      "Levels: 1 2 3 4\n"
     ]
    }
   ],
   "source": [
    "print(x)"
   ]
  },
  {
   "cell_type": "markdown",
   "id": "26ad0a7a-de4c-49ce-9f2e-2f7c0ccf7650",
   "metadata": {
    "tags": []
   },
   "source": [
    "Un ejemplo un poco más interesante:"
   ]
  },
  {
   "cell_type": "code",
   "execution_count": 21,
   "id": "b24b5262-dcd5-47f6-8ef2-52e807b8ab31",
   "metadata": {
    "tags": []
   },
   "outputs": [],
   "source": [
    "x <- factor(c(1,2,3,4), levels = rev(c(1,2,3,4)))"
   ]
  },
  {
   "cell_type": "code",
   "execution_count": 22,
   "id": "6af5b2ae-f127-432e-89fe-2e9d63784da3",
   "metadata": {
    "tags": []
   },
   "outputs": [
    {
     "name": "stdout",
     "output_type": "stream",
     "text": [
      "[1] 1 2 3 4\n",
      "Levels: 4 3 2 1\n"
     ]
    }
   ],
   "source": [
    "print(x)"
   ]
  },
  {
   "cell_type": "markdown",
   "id": "03946114-e7ff-4276-99b7-c23d7cfbe059",
   "metadata": {
    "tags": []
   },
   "source": [
    "Te das cuenta qué estamos haciendo en el comando `x <- factor(c(1,2,3,4), levels = rev(c(1,2,3,4)))`?"
   ]
  },
  {
   "cell_type": "markdown",
   "id": "6228f448-d857-4dbb-8f0f-13fd9bd5c63d",
   "metadata": {
    "tags": []
   },
   "source": [
    "---\n",
    "#### **3. Operadores**\n",
    "---"
   ]
  },
  {
   "cell_type": "markdown",
   "id": "2455d5e9-db16-4c37-b120-841609116eb5",
   "metadata": {},
   "source": [
    "En R tenemos una serie de operadores para ser aplicados sobre las distintas estructuras de datos que nos permiten realizar todo tipo de operaciones."
   ]
  },
  {
   "cell_type": "markdown",
   "id": "a7e40b92-b95f-41f9-b25e-2a5071739cb7",
   "metadata": {
    "tags": []
   },
   "source": [
    "Veamos primero que nada los **operadores aritméticos**: como suma, resta, multiplicación, exponente, división y módulo.  \n",
    "Estos operadores actúan en cada elemento (los cuales deben ser números enteros, decimales, reales o complejos en una estructura de datos dada."
   ]
  },
  {
   "cell_type": "markdown",
   "id": "97e72f14-24c7-417d-985a-bf87612b713d",
   "metadata": {},
   "source": [
    " - Suma: `+`  \n",
    " - Resta: `-`  \n",
    " - Multiplicación: `*`  \n",
    " - Exponente: `^`  \n",
    " - Módulo: `%%`"
   ]
  },
  {
   "cell_type": "markdown",
   "id": "4111f64a-f39c-419f-ae6f-0c5c3a36a131",
   "metadata": {},
   "source": [
    "Veamos algunos ejemplos:"
   ]
  },
  {
   "cell_type": "code",
   "execution_count": 23,
   "id": "0a59e163-6533-4b48-aa39-5580dbc8248c",
   "metadata": {
    "tags": []
   },
   "outputs": [],
   "source": [
    "x <- 1:10\n",
    "y <- 20:11"
   ]
  },
  {
   "cell_type": "code",
   "execution_count": 24,
   "id": "1e94e5d2-7d3d-47c2-bb0d-94d31aa62585",
   "metadata": {
    "tags": []
   },
   "outputs": [
    {
     "data": {
      "text/html": [
       "<style>\n",
       ".list-inline {list-style: none; margin:0; padding: 0}\n",
       ".list-inline>li {display: inline-block}\n",
       ".list-inline>li:not(:last-child)::after {content: \"\\00b7\"; padding: 0 .5ex}\n",
       "</style>\n",
       "<ol class=list-inline><li>21</li><li>21</li><li>21</li><li>21</li><li>21</li><li>21</li><li>21</li><li>21</li><li>21</li><li>21</li></ol>\n"
      ],
      "text/latex": [
       "\\begin{enumerate*}\n",
       "\\item 21\n",
       "\\item 21\n",
       "\\item 21\n",
       "\\item 21\n",
       "\\item 21\n",
       "\\item 21\n",
       "\\item 21\n",
       "\\item 21\n",
       "\\item 21\n",
       "\\item 21\n",
       "\\end{enumerate*}\n"
      ],
      "text/markdown": [
       "1. 21\n",
       "2. 21\n",
       "3. 21\n",
       "4. 21\n",
       "5. 21\n",
       "6. 21\n",
       "7. 21\n",
       "8. 21\n",
       "9. 21\n",
       "10. 21\n",
       "\n",
       "\n"
      ],
      "text/plain": [
       " [1] 21 21 21 21 21 21 21 21 21 21"
      ]
     },
     "metadata": {},
     "output_type": "display_data"
    }
   ],
   "source": [
    "x + y"
   ]
  },
  {
   "cell_type": "markdown",
   "id": "6830ab23-9181-484b-8753-9d1a269e6e9b",
   "metadata": {
    "tags": []
   },
   "source": [
    "También tenemos la función `sum()` que nos permite sumar todos los elementos (siempre que sean sumables) que hay en una objecto (i.e., `vector`, `matrix`, `dataframe`, `array`) "
   ]
  },
  {
   "cell_type": "code",
   "execution_count": 25,
   "id": "9c2c6751-69e8-436e-825c-8f632378a190",
   "metadata": {
    "tags": []
   },
   "outputs": [
    {
     "data": {
      "text/html": [
       "210"
      ],
      "text/latex": [
       "210"
      ],
      "text/markdown": [
       "210"
      ],
      "text/plain": [
       "[1] 210"
      ]
     },
     "metadata": {},
     "output_type": "display_data"
    }
   ],
   "source": [
    "sum(x + y)"
   ]
  },
  {
   "cell_type": "markdown",
   "id": "f04a8b3d-2ea6-4902-a389-2646b4db7b3f",
   "metadata": {},
   "source": [
    "Curiosidad: La suma de 1 a 20 es 21 * 10. ¿Esto te recuerda a algo? [¿Suma de una serie de números de Gauss?](https://matematicascercanas.com/2014/05/05/12345-100/)."
   ]
  },
  {
   "cell_type": "markdown",
   "id": "37cffb1c-bfff-44e7-9b19-3013ce8d451b",
   "metadata": {
    "tags": []
   },
   "source": [
    "Los operadores de suma, resta, multiplicación, exponente y módulo tienen el mismo comportamiento. Puedes probarlo por tu cuenta."
   ]
  },
  {
   "cell_type": "markdown",
   "id": "1b7250de-4042-44d4-a5d9-e8a55fcb7cd7",
   "metadata": {
    "tags": []
   },
   "source": [
    "Otro tipo de operadores son los **operadores lógicos**: `AND`, `OR`, `NOT`, `greater than`, `less than`, `greater than or equal to`, `less than or equal to`, `equal`, `not equal`.  \n",
    "Las operaciones lógicas nos dan como resultado uno o más valores lógicos (`TRUE` o `FALSE`), y nos permiten nos permiten tomar comparar de distintas formas nuestros datos.  \n",
    "Nota: Todo número mayor a cero es considerado `TRUE`, mientras que cero es considerado `FALSE`."
   ]
  },
  {
   "cell_type": "markdown",
   "id": "e7641575-c135-4a7d-b81d-0fa0d964df34",
   "metadata": {},
   "source": [
    " - AND (element-wise): `&`\n",
    " - OR (element-wise): `|`\n",
    " - AND: `&&`\n",
    " - OR: `||`\n",
    " - NOT: `!`"
   ]
  },
  {
   "cell_type": "markdown",
   "id": "61ed95f0-9040-4eb6-a946-1efcc8042989",
   "metadata": {
    "tags": []
   },
   "source": [
    "Veamos un ejemplo:"
   ]
  },
  {
   "cell_type": "code",
   "execution_count": 26,
   "id": "ae48f730-96e2-4cbc-ae7d-8e83aa957895",
   "metadata": {
    "tags": []
   },
   "outputs": [],
   "source": [
    "x <- c(0, 0.1)\n",
    "y <- c(T, F)"
   ]
  },
  {
   "cell_type": "markdown",
   "id": "d33a8d75-c55d-475c-b2c1-8b655be48b70",
   "metadata": {
    "tags": []
   },
   "source": [
    "Nota: los datos lógicos `TRUE` y `FALSE`, pueden ser escritos simplemente como `T` y `F`, respectivamente. "
   ]
  },
  {
   "cell_type": "code",
   "execution_count": 27,
   "id": "5c970917-3d1c-4e0c-a5d1-8838f9d25386",
   "metadata": {
    "tags": []
   },
   "outputs": [
    {
     "data": {
      "text/html": [
       "<style>\n",
       ".list-inline {list-style: none; margin:0; padding: 0}\n",
       ".list-inline>li {display: inline-block}\n",
       ".list-inline>li:not(:last-child)::after {content: \"\\00b7\"; padding: 0 .5ex}\n",
       "</style>\n",
       "<ol class=list-inline><li>FALSE</li><li>FALSE</li></ol>\n"
      ],
      "text/latex": [
       "\\begin{enumerate*}\n",
       "\\item FALSE\n",
       "\\item FALSE\n",
       "\\end{enumerate*}\n"
      ],
      "text/markdown": [
       "1. FALSE\n",
       "2. FALSE\n",
       "\n",
       "\n"
      ],
      "text/plain": [
       "[1] FALSE FALSE"
      ]
     },
     "metadata": {},
     "output_type": "display_data"
    }
   ],
   "source": [
    "x & y"
   ]
  },
  {
   "cell_type": "markdown",
   "id": "464deaa9-d78e-4883-a778-091e76f465ef",
   "metadata": {
    "tags": []
   },
   "source": [
    "¿Qué elementos de las variables `x` e `y` debes seleccionar con `[]` para obtener un `TRUE` como resultado al utilizar `&`?"
   ]
  },
  {
   "cell_type": "markdown",
   "id": "aac0da38-61ad-483d-9fba-8e880aca32eb",
   "metadata": {
    "tags": []
   },
   "source": [
    "Por último, veamos los **Operadores relacionales**: `greater than`, `less than`, `greater than or equal to`, `less than or equal to`, `equal`, `not equal`.  \n",
    "Los operadores relacionales nos permiten comparar objetos. Al igual que los operadores lógicos, como resultado de estas comparaciones lo que obtenemos es un valor de `TRUE` o `FALSE`."
   ]
  },
  {
   "cell_type": "markdown",
   "id": "54202f42-1b94-4b1c-9f99-38322f8c128a",
   "metadata": {
    "tags": []
   },
   "source": [
    " - greater than: `>` \n",
    " - less than: `<`\n",
    " - greater than or equal to: `>=`\n",
    " - less than or equal to: `<=`\n",
    " - equal: `==`\n",
    " - not equal `!=`"
   ]
  },
  {
   "cell_type": "markdown",
   "id": "77fce62c-27e5-41c4-96ad-03dae9caf2ed",
   "metadata": {},
   "source": [
    "Veamos el ejemplo:"
   ]
  },
  {
   "cell_type": "code",
   "execution_count": 28,
   "id": "e3eaa408-3987-4dc2-bc9a-8d37c2484442",
   "metadata": {
    "tags": []
   },
   "outputs": [
    {
     "data": {
      "text/html": [
       "<style>\n",
       ".list-inline {list-style: none; margin:0; padding: 0}\n",
       ".list-inline>li {display: inline-block}\n",
       ".list-inline>li:not(:last-child)::after {content: \"\\00b7\"; padding: 0 .5ex}\n",
       "</style>\n",
       "<ol class=list-inline><li>TRUE</li><li>FALSE</li></ol>\n"
      ],
      "text/latex": [
       "\\begin{enumerate*}\n",
       "\\item TRUE\n",
       "\\item FALSE\n",
       "\\end{enumerate*}\n"
      ],
      "text/markdown": [
       "1. TRUE\n",
       "2. FALSE\n",
       "\n",
       "\n"
      ],
      "text/plain": [
       "[1]  TRUE FALSE"
      ]
     },
     "metadata": {},
     "output_type": "display_data"
    }
   ],
   "source": [
    "x <= y"
   ]
  },
  {
   "cell_type": "markdown",
   "id": "d258abc5-2164-4393-a4c0-9a156fcd59a0",
   "metadata": {},
   "source": [
    "Notar que variables `y` tiene valores lógicos:"
   ]
  },
  {
   "cell_type": "code",
   "execution_count": 29,
   "id": "80115cd6-c26b-484a-bf3e-95b4e8e3bb5b",
   "metadata": {
    "tags": []
   },
   "outputs": [
    {
     "data": {
      "text/html": [
       "'logical'"
      ],
      "text/latex": [
       "'logical'"
      ],
      "text/markdown": [
       "'logical'"
      ],
      "text/plain": [
       "[1] \"logical\""
      ]
     },
     "metadata": {},
     "output_type": "display_data"
    }
   ],
   "source": [
    "class(y)"
   ]
  },
  {
   "cell_type": "markdown",
   "id": "8ef043d8-7ed7-47c7-8e50-1e72961791f9",
   "metadata": {
    "tags": []
   },
   "source": [
    "¿Te das cuenta qué es lo que está realmente comparando R acá?"
   ]
  },
  {
   "cell_type": "markdown",
   "id": "cf951d21-9ce0-46a1-bd5a-d84597251155",
   "metadata": {
    "tags": []
   },
   "source": [
    "Por último vemos dos operadores que aparecen en la categoría de **Miscellaneous Operators**: `%in%` y `%*%`.  \n",
    "El primero de estos nos permite saber qué elementos de un objeto están presentes en un segundo objeto. Para este operador lo que obtenemos son valores de `TRUE` y `FALSE`.\n",
    "El segundo es para realizar multiplicaciones entre matrices conformables. "
   ]
  },
  {
   "cell_type": "markdown",
   "id": "5b54108b-118d-4f35-ae2e-013cc92b1d94",
   "metadata": {},
   "source": [
    "Veamos un ejemplo del operador `%in%`:"
   ]
  },
  {
   "cell_type": "code",
   "execution_count": 30,
   "id": "3d7bf80f-7727-4300-a046-f26d4ce1aba7",
   "metadata": {
    "tags": []
   },
   "outputs": [],
   "source": [
    "x <- c(\"a\", \"b\", \"c\")\n",
    "y <- c(\"b\",\"c\", \"d\")"
   ]
  },
  {
   "cell_type": "code",
   "execution_count": 31,
   "id": "e71de110-5a61-4dda-aeea-47299f300b31",
   "metadata": {
    "tags": []
   },
   "outputs": [
    {
     "data": {
      "text/html": [
       "<style>\n",
       ".list-inline {list-style: none; margin:0; padding: 0}\n",
       ".list-inline>li {display: inline-block}\n",
       ".list-inline>li:not(:last-child)::after {content: \"\\00b7\"; padding: 0 .5ex}\n",
       "</style>\n",
       "<ol class=list-inline><li>FALSE</li><li>TRUE</li><li>TRUE</li></ol>\n"
      ],
      "text/latex": [
       "\\begin{enumerate*}\n",
       "\\item FALSE\n",
       "\\item TRUE\n",
       "\\item TRUE\n",
       "\\end{enumerate*}\n"
      ],
      "text/markdown": [
       "1. FALSE\n",
       "2. TRUE\n",
       "3. TRUE\n",
       "\n",
       "\n"
      ],
      "text/plain": [
       "[1] FALSE  TRUE  TRUE"
      ]
     },
     "metadata": {},
     "output_type": "display_data"
    }
   ],
   "source": [
    "x %in% y"
   ]
  },
  {
   "cell_type": "markdown",
   "id": "51ee47cb-f857-4957-b9c3-c725e5f6799d",
   "metadata": {
    "tags": []
   },
   "source": [
    "¿Sabes interpretar la salida de esta comparación?"
   ]
  },
  {
   "cell_type": "markdown",
   "id": "f37a0fe2-9c10-45ac-b8e2-7dd4f87e48ae",
   "metadata": {
    "tags": []
   },
   "source": [
    "---\n",
    "#### **4. Bucles**\n",
    "---"
   ]
  },
  {
   "cell_type": "markdown",
   "id": "850f0e4d-47e4-4fb6-bd1b-974aa9f3d4d8",
   "metadata": {},
   "source": [
    "Los bucles (o loops in inglés), nos permiten ejecutar un bloque de código un número determinado de veces o hasta que determinada condición se cumpla, es decir, iterar sobre un bloque de código.\n",
    "La ventaja de un bucle, es permitirnos repetir una operación de forma idéntica sobre distintos objetos, o subsecciones de un mismo objeto.\n",
    "La lógica es esencialmente la misma a lo visto en BASH, pero la sintaxis es diferente."
   ]
  },
  {
   "cell_type": "markdown",
   "id": "16af60ee-d59b-47c0-9918-344c0907ab7f",
   "metadata": {},
   "source": [
    "En R tenemos tres tipos de bucles: `for`, `while` y `repeat`. Vemos cómo funcionan."
   ]
  },
  {
   "cell_type": "markdown",
   "id": "87f6ac9c-0086-45dd-92b0-06a80c24dd30",
   "metadata": {
    "tags": []
   },
   "source": [
    " - **`for`**"
   ]
  },
  {
   "cell_type": "markdown",
   "id": "a43f84dc-4514-467a-8ff3-8668be6cbecc",
   "metadata": {},
   "source": [
    "La sintaxis básica es:"
   ]
  },
  {
   "cell_type": "markdown",
   "id": "6a552f6e-191a-4be5-a8f8-cff345656910",
   "metadata": {
    "tags": []
   },
   "source": [
    "```\n",
    "for (value in sequence)\n",
    "{\n",
    "  statement\n",
    "}\n",
    "```"
   ]
  },
  {
   "cell_type": "markdown",
   "id": "d973ee76-8917-4309-ba95-6eb71667bec3",
   "metadata": {},
   "source": [
    "Lo que hacemos en este caso, es que por cada valor de nuestra secuencia, ejecutamos el código en el cuerpo del bucle (i.e., _statement_). Veamos el ejemplo que realizamos en BASH, ahora en R."
   ]
  },
  {
   "cell_type": "code",
   "execution_count": 32,
   "id": "6bc4f3f8-38ea-4ff2-8048-f2cb60f16520",
   "metadata": {
    "tags": []
   },
   "outputs": [],
   "source": [
    "numbers <- c(1:10)"
   ]
  },
  {
   "cell_type": "code",
   "execution_count": 33,
   "id": "58776769-d6d5-4dc4-a430-371ae14c427a",
   "metadata": {
    "tags": []
   },
   "outputs": [
    {
     "name": "stdout",
     "output_type": "stream",
     "text": [
      "[1] 1\n",
      "[1] 2\n",
      "[1] 3\n",
      "[1] 4\n",
      "[1] 5\n",
      "[1] 6\n",
      "[1] 7\n",
      "[1] 8\n",
      "[1] 9\n",
      "[1] 10\n"
     ]
    }
   ],
   "source": [
    "for (i in numbers) { \n",
    "  print(i)\n",
    "}"
   ]
  },
  {
   "cell_type": "markdown",
   "id": "8f6a9373-3581-4350-bfb5-18bd5cb8c8d6",
   "metadata": {},
   "source": [
    "En R bucle `for` es particularmente útil para recorrer una `matrix`, `dataframe` o `list` utilizando el operador `[]`."
   ]
  },
  {
   "cell_type": "markdown",
   "id": "ca03034f-07f8-413e-81f0-1f1bedb86d2f",
   "metadata": {},
   "source": [
    "Vemos un ejemplo de esto, utilizando el `dataframe` que construimos arriba: `x_df`. Primero vamos a ver qué dimensiones tiene con la función `dim()`.  "
   ]
  },
  {
   "cell_type": "code",
   "execution_count": 34,
   "id": "f5fd3fae-3731-4eef-b41f-2985aea1acb9",
   "metadata": {
    "tags": []
   },
   "outputs": [
    {
     "data": {
      "text/html": [
       "<style>\n",
       ".list-inline {list-style: none; margin:0; padding: 0}\n",
       ".list-inline>li {display: inline-block}\n",
       ".list-inline>li:not(:last-child)::after {content: \"\\00b7\"; padding: 0 .5ex}\n",
       "</style>\n",
       "<ol class=list-inline><li>5</li><li>2</li></ol>\n"
      ],
      "text/latex": [
       "\\begin{enumerate*}\n",
       "\\item 5\n",
       "\\item 2\n",
       "\\end{enumerate*}\n"
      ],
      "text/markdown": [
       "1. 5\n",
       "2. 2\n",
       "\n",
       "\n"
      ],
      "text/plain": [
       "[1] 5 2"
      ]
     },
     "metadata": {},
     "output_type": "display_data"
    }
   ],
   "source": [
    "dim(x_df)"
   ]
  },
  {
   "cell_type": "markdown",
   "id": "3f45e2e4-7bbd-4850-8f37-c8e6952be803",
   "metadata": {},
   "source": [
    "Esto es, 5 filas y 2 columnas. En este ejemplo vamos a iterar sobre las filas. Podemos extraer el número de filas con `[]`."
   ]
  },
  {
   "cell_type": "code",
   "execution_count": 35,
   "id": "9ab7f005-2617-4a8e-9d7f-79ab962e18f0",
   "metadata": {
    "tags": []
   },
   "outputs": [
    {
     "data": {
      "text/html": [
       "5"
      ],
      "text/latex": [
       "5"
      ],
      "text/markdown": [
       "5"
      ],
      "text/plain": [
       "[1] 5"
      ]
     },
     "metadata": {},
     "output_type": "display_data"
    }
   ],
   "source": [
    "dim(x_df)[1]"
   ]
  },
  {
   "cell_type": "code",
   "execution_count": 36,
   "id": "13159193-d2bd-40ae-b4e0-25eb0e220075",
   "metadata": {
    "tags": []
   },
   "outputs": [
    {
     "name": "stdout",
     "output_type": "stream",
     "text": [
      "  column1 column2\n",
      "1       1       a\n",
      "  column1 column2\n",
      "2       2       b\n",
      "  column1 column2\n",
      "3       3       c\n",
      "  column1 column2\n",
      "4       4       d\n",
      "  column1 column2\n",
      "5       5       e\n"
     ]
    }
   ],
   "source": [
    "for (i in 1:dim(x_df)[1]) {\n",
    "    print(x_df[i,]) \n",
    "}       "
   ]
  },
  {
   "cell_type": "markdown",
   "id": "5150cc84-ec92-4256-96cf-6c5f995c5ba5",
   "metadata": {
    "tags": []
   },
   "source": [
    "¿Te das cuenta cómo podemos construir un for anidado para recorrer todos los elementos de nuestra `dataframe`, uno a uno?"
   ]
  },
  {
   "cell_type": "markdown",
   "id": "0babe0c9-23c2-4cdf-94fd-edb9b49b6ddd",
   "metadata": {
    "tags": []
   },
   "source": [
    " - **`while`**"
   ]
  },
  {
   "cell_type": "markdown",
   "id": "e3950fc8-eaec-461d-81b0-57208433d385",
   "metadata": {},
   "source": [
    "Como mencionamos en el práctico de BASH, este bucle lo que hace es evaluar una condición en cada iteración y mientras esta expresión sea verdadera, el bucle seguirá ejecutándose."
   ]
  },
  {
   "cell_type": "markdown",
   "id": "c424ec47-f0ae-420b-a654-57f6ab0271a5",
   "metadata": {
    "tags": []
   },
   "source": [
    "La sintaxis del `while` en R es la siguiente:"
   ]
  },
  {
   "cell_type": "markdown",
   "id": "c4d508da-2af7-4548-8faf-677ee95e3096",
   "metadata": {
    "tags": []
   },
   "source": [
    "```\n",
    "while ( condition ) \n",
    "{\n",
    "  statement\n",
    "}\n",
    "```"
   ]
  },
  {
   "cell_type": "markdown",
   "id": "7b4be411-1c97-40fa-96ed-740a3f427e3c",
   "metadata": {},
   "source": [
    "Veamos exactamente el primer ejemplo del práctico de BASH, pero en R:"
   ]
  },
  {
   "cell_type": "code",
   "execution_count": 37,
   "id": "1e5dd212-b820-4b31-a6b1-a5cfefe045c5",
   "metadata": {
    "tags": []
   },
   "outputs": [
    {
     "name": "stdout",
     "output_type": "stream",
     "text": [
      "[1] 1\n",
      "[1] 2\n",
      "[1] 3\n",
      "[1] 4\n",
      "[1] 5\n",
      "[1] 6\n",
      "[1] 7\n",
      "[1] 8\n",
      "[1] 9\n",
      "[1] 10\n"
     ]
    }
   ],
   "source": [
    "i <- 1\n",
    "while (i <= 10) {\n",
    "  print(i)\n",
    "  i <- i +1\n",
    "}"
   ]
  },
  {
   "cell_type": "markdown",
   "id": "180a40a8-54f0-467c-aec1-6207a8910de7",
   "metadata": {},
   "source": [
    "¿Te das cuenta cómo puedes hacer que un bucle `while` itere infinitamente?"
   ]
  },
  {
   "cell_type": "markdown",
   "id": "c5fe053a-a9e6-47ad-af34-470f3b2e3edb",
   "metadata": {
    "tags": []
   },
   "source": [
    " - **`repeat`**"
   ]
  },
  {
   "cell_type": "markdown",
   "id": "9640473e-b2c5-4c03-94d5-56069e71d74d",
   "metadata": {},
   "source": [
    "Este bucle, como su nombre lo indica, lo que hace es repetir un bloque de código. Lo que es importante notar es que este bloque te código debe de contener una condición que nos permita terminar con las repeticiones, de otra forma, el bucle se repetirá infinitamente."
   ]
  },
  {
   "cell_type": "markdown",
   "id": "5e30bb14-939f-46f5-bbac-769a6f3fece8",
   "metadata": {},
   "source": [
    "La sintaxis básica es:"
   ]
  },
  {
   "cell_type": "markdown",
   "id": "4b7b2df7-fab9-48f1-bdc0-5237e595f0da",
   "metadata": {
    "tags": []
   },
   "source": [
    "```\n",
    "repeat \n",
    "{ \n",
    "   statement\n",
    " \n",
    "   if (condition) \n",
    "   {\n",
    "      break\n",
    "   }\n",
    "}\n",
    "```"
   ]
  },
  {
   "cell_type": "markdown",
   "id": "fa752d0d-51bf-4bae-a307-989313da0ada",
   "metadata": {},
   "source": [
    "Veamos el mismo ejemplo anterior, pero codificado en un bucle `repeat`."
   ]
  },
  {
   "cell_type": "code",
   "execution_count": 38,
   "id": "1cdf1107-86ee-4728-bce7-3124c1d32e02",
   "metadata": {
    "tags": []
   },
   "outputs": [
    {
     "name": "stdout",
     "output_type": "stream",
     "text": [
      "[1] 1\n",
      "[1] 2\n",
      "[1] 3\n",
      "[1] 4\n",
      "[1] 5\n",
      "[1] 6\n",
      "[1] 7\n",
      "[1] 8\n",
      "[1] 9\n",
      "[1] 10\n"
     ]
    }
   ],
   "source": [
    "i <- 1\n",
    "repeat {\n",
    "  print(i)\n",
    "  i <- i +1 \n",
    "  if (i > 10) {\n",
    "    break\n",
    "  }    \n",
    "}"
   ]
  },
  {
   "cell_type": "markdown",
   "id": "6b4b9f31-80ef-47dc-9490-4cd306681cdd",
   "metadata": {},
   "source": [
    "Es importante resaltar la palabra clave (o control de flujo) `break`, la cual nos permite terminar un bucle bajo una condición determinada (también puede ser aplicado en un bucle `while` o `for`)."
   ]
  },
  {
   "cell_type": "markdown",
   "id": "3ac3900a-7c6f-4e30-bf0a-f02f60885085",
   "metadata": {
    "tags": []
   },
   "source": [
    "---\n",
    "#### **5. Instalación de paquetes**\n",
    "---"
   ]
  },
  {
   "cell_type": "markdown",
   "id": "86ceb19d-116c-476e-9760-caa48fdc9d1c",
   "metadata": {
    "tags": []
   },
   "source": [
    "Una de las fortalezas de R es que cuenta con una gran comunidad de desarrolladores, y existen paquetes o librerías para todo tipo de análisis.  \n",
    "Para poder instalar estos paquetes simplemente utilizamos el comando `install.packages()`. Este comando, nos permite instalar paquetes del [Comprehensive R Archive Network (CRAN)](https://cran.r-project.org/index.html).  \n",
    "El CRAN contiene las versiones anteriores y más recientes de la distribución de R, la documentación y los paquetes de R aportados."
   ]
  },
  {
   "cell_type": "markdown",
   "id": "cc6c7ba8-164f-4b09-a2b3-fed867676c02",
   "metadata": {},
   "source": [
    "Como ejemplo, podemos instalar el paquete [vegan](https://cran.r-project.org/web/packages/vegan/index.html) que siempre es bueno tenerlo (si es que no lo tienes ya instalado)."
   ]
  },
  {
   "cell_type": "code",
   "execution_count": 39,
   "id": "5870b0b9-a4ff-44e7-b51b-18916be51710",
   "metadata": {
    "tags": []
   },
   "outputs": [],
   "source": [
    "# install.packages(\"vegan\")"
   ]
  },
  {
   "cell_type": "markdown",
   "id": "667bbca7-f35b-447e-a83a-ab2766140c91",
   "metadata": {},
   "source": [
    "Alternativamente, en el caso de paquetes desarrollados por el proyecto [Bioconductor](https://www.bioconductor.org/), es necesario realizar las instalaciones utilizando el paquet [BiocManager](https://cran.r-project.org/web/packages/BiocManager/index.html), como se detalla [acá](https://www.bioconductor.org/install/)."
   ]
  },
  {
   "cell_type": "markdown",
   "id": "b8ab999c-d1c2-4eb6-b6f8-39e6a4caedde",
   "metadata": {},
   "source": [
    "Por último, también es posible instalar paquetes directamente desde [GitHub]((https://github.com/) utilizando la función[install_github()](https://www.rdocumentation.org/packages/devtools/versions/1.13.6/topics/install_github) del paquete [devtools](https://cran.r-project.org/web/packages/devtools/index.html)."
   ]
  },
  {
   "cell_type": "markdown",
   "id": "0917b029-ac87-4f94-a527-da66e5d9c400",
   "metadata": {
    "tags": []
   },
   "source": [
    "Una vez que tenemos un paquete instalado, debemos cargarlo en nuestra sesión de R. Esto lo podemos hacer con la función `library()`."
   ]
  },
  {
   "cell_type": "code",
   "execution_count": 40,
   "id": "9f8638d7-0e16-4c3d-b3aa-1d956544cd3b",
   "metadata": {
    "tags": []
   },
   "outputs": [
    {
     "name": "stderr",
     "output_type": "stream",
     "text": [
      "Loading required package: permute\n",
      "\n",
      "Loading required package: lattice\n",
      "\n",
      "This is vegan 2.6-4\n",
      "\n"
     ]
    }
   ],
   "source": [
    "library(vegan)"
   ]
  },
  {
   "cell_type": "markdown",
   "id": "12761eb6-c251-4d9b-8b03-1ae09cf093cd",
   "metadata": {
    "tags": []
   },
   "source": [
    "---\n",
    "#### **6. Funciones**\n",
    "---"
   ]
  },
  {
   "cell_type": "markdown",
   "id": "4f22b13f-de7e-42aa-a8b8-e499f501d092",
   "metadata": {},
   "source": [
    "Una función es simplemente un conjunto de instrucciones que realizan una tarea determinada sobre un un objecto de entrada, para luego devolvernos un resultado de dicha tareaforma"
   ]
  },
  {
   "cell_type": "markdown",
   "id": "c67e6fc1-6c26-47c8-9e2d-134d00d67fbd",
   "metadata": {},
   "source": [
    "Además de todas las funciones que existen en R y la gran cantidad de paquetes disponibles, podemos nosotros mismos crear nuestras propias funciones. Esto es especialmente útil cuando queremos realizar determinada tarea varias veces, y esta tarea implica varias líneas de código. De esta forma, definir nuestras propias funciones nos permite tener el código mejor organizado, facilitando su lectura, y evitar potenciales errores. "
   ]
  },
  {
   "cell_type": "markdown",
   "id": "bb8f72db-d918-49b2-b875-b1084622a584",
   "metadata": {},
   "source": [
    "En R la sintaxis para definir una función es la siguiente:"
   ]
  },
  {
   "cell_type": "markdown",
   "id": "01fa2177-5b1f-468e-bc26-172c2225c96b",
   "metadata": {
    "tags": []
   },
   "source": [
    "```\n",
    "function_name <- function(arg1 = valoue1, arg2 = value2, ...) {\n",
    "   statements\n",
    "   return(output)\n",
    "}\n",
    "```"
   ]
  },
  {
   "cell_type": "markdown",
   "id": "fd6a59bf-8e5e-4bfc-b1d6-5765c1d07629",
   "metadata": {},
   "source": [
    "Cuando definimos una función podemos también definir qué argumentos toma esta función (i.e., arg1, arg2) y sus valores por defecto en caso de que estos no sean especificados al llamar la función (i.e., value1, value2). "
   ]
  },
  {
   "cell_type": "markdown",
   "id": "3376c053-77e9-48ed-bb19-c7b85bf56c19",
   "metadata": {},
   "source": [
    "Una vez que una función fue definida podremos utilizarla dentro de nuestro ambiente como cualquier otra función de R."
   ]
  },
  {
   "cell_type": "markdown",
   "id": "1bdcf1b8-4a4c-4f61-bfff-285ec383876f",
   "metadata": {
    "tags": []
   },
   "source": [
    "Vamos al ejemplo: Una función que tome como entrada un número y nos devuelva todos sus factores (i.e., divisores para los cuales no hay un resto)."
   ]
  },
  {
   "cell_type": "code",
   "execution_count": 41,
   "id": "b2bac36b-b400-48ce-aebc-582608737cb5",
   "metadata": {
    "tags": []
   },
   "outputs": [],
   "source": [
    "find_divisors <- function(input = 10) {\n",
    "    \n",
    "    input_seq <- seq_len(input)\n",
    "    divisors <- input_seq[ input%%input_seq == 0 ]\n",
    "    return(divisors)\n",
    "}"
   ]
  },
  {
   "cell_type": "code",
   "execution_count": 42,
   "id": "92efff6e-0874-418f-8459-570688a64019",
   "metadata": {
    "tags": []
   },
   "outputs": [
    {
     "data": {
      "text/html": [
       "<style>\n",
       ".list-inline {list-style: none; margin:0; padding: 0}\n",
       ".list-inline>li {display: inline-block}\n",
       ".list-inline>li:not(:last-child)::after {content: \"\\00b7\"; padding: 0 .5ex}\n",
       "</style>\n",
       "<ol class=list-inline><li>1</li><li>7</li><li>11</li><li>77</li></ol>\n"
      ],
      "text/latex": [
       "\\begin{enumerate*}\n",
       "\\item 1\n",
       "\\item 7\n",
       "\\item 11\n",
       "\\item 77\n",
       "\\end{enumerate*}\n"
      ],
      "text/markdown": [
       "1. 1\n",
       "2. 7\n",
       "3. 11\n",
       "4. 77\n",
       "\n",
       "\n"
      ],
      "text/plain": [
       "[1]  1  7 11 77"
      ]
     },
     "metadata": {},
     "output_type": "display_data"
    }
   ],
   "source": [
    "find_divisors(77)"
   ]
  },
  {
   "cell_type": "markdown",
   "id": "0b88d34d-61d1-4d80-bab4-862b06effe38",
   "metadata": {
    "tags": []
   },
   "source": [
    "¿Entiendes cómo funciona esta función?"
   ]
  },
  {
   "cell_type": "markdown",
   "id": "6f55eb55-5b35-4aea-84fa-ae029b116872",
   "metadata": {
    "tags": []
   },
   "source": [
    "¿Puedes crear una función que tome un número entero como entrada y nos indique si este número es primo o no?"
   ]
  },
  {
   "cell_type": "markdown",
   "id": "aada85a3-4858-492a-b2bb-fe5eaf68bbea",
   "metadata": {
    "tags": []
   },
   "source": [
    "---\n",
    "#### **7. Tidyverse**\n",
    "---"
   ]
  },
  {
   "cell_type": "markdown",
   "id": "da0a9d4c-e384-4290-a3d3-a879e88f5104",
   "metadata": {},
   "source": [
    "El paquete [tidyverse](https://www.tidyverse.org/) es sumamente importante por lo que le vamos a dedicar una subsección de este tutorial para introducir los principales conceptos, operadores, funciones, y tipos de datos.  \n",
    "Tidyverse es un metapaquete de R diseñado para la ciencia de datos. Todos los paquetes que este metapaquete incluye comparten una filosofía de diseño, gramática y estructura."
   ]
  },
  {
   "cell_type": "markdown",
   "id": "31339947-edff-4de5-a29d-b330ac7901b6",
   "metadata": {
    "tags": []
   },
   "source": [
    "- **Pipies**"
   ]
  },
  {
   "cell_type": "markdown",
   "id": "e88b6870-7e19-434b-8401-6249243498d0",
   "metadata": {},
   "source": [
    "Una de las importantes ventajas de este paquete es que nos permite utilizar el _pipeline_ en `%>%` (aunque R tiene su propio operador de _pipe_ desde la versión 4.1.0: `|>`).  \n",
    "De esta forma, utilizando `%>%` podemos encadenar funciones, una tras otra, sin la necesidad de asignar variables intermedias o paréntesis profundamente anidados."
   ]
  },
  {
   "cell_type": "markdown",
   "id": "6e77feaa-4841-45e4-b06e-cce839e4ce2e",
   "metadata": {},
   "source": [
    "Para poder empezar a usar este metapaquete, primero debemos instalarlo y cargarlo. La instalación puede dar algunos problemas de dependencia. Hay que tener paciencia e ir instalando las dependencias una a una.  "
   ]
  },
  {
   "cell_type": "markdown",
   "id": "745215ea-9f1d-4880-b074-fce0a5b65b5b",
   "metadata": {},
   "source": [
    "Nota: Para los estudiantes trabajando en el servidor `oceania.cure.edu.uy` no será necesario instalar ningún paquete. "
   ]
  },
  {
   "cell_type": "code",
   "execution_count": 43,
   "id": "83cef616-e3d8-4f5f-808b-dbc6022defea",
   "metadata": {},
   "outputs": [],
   "source": [
    "# install.packages(\"tidyverse\")"
   ]
  },
  {
   "cell_type": "code",
   "execution_count": 44,
   "id": "ec086f0a-3e1c-434c-96e5-66ac730b6e31",
   "metadata": {
    "tags": []
   },
   "outputs": [
    {
     "name": "stderr",
     "output_type": "stream",
     "text": [
      "── \u001b[1mAttaching core tidyverse packages\u001b[22m ─────────────────────────────────────────────────────────────────────────────────────────────────────────────────────────────────────────── tidyverse 2.0.0 ──\n",
      "\u001b[32m✔\u001b[39m \u001b[34mdplyr    \u001b[39m 1.1.2     \u001b[32m✔\u001b[39m \u001b[34mreadr    \u001b[39m 2.1.4\n",
      "\u001b[32m✔\u001b[39m \u001b[34mforcats  \u001b[39m 1.0.0     \u001b[32m✔\u001b[39m \u001b[34mstringr  \u001b[39m 1.5.0\n",
      "\u001b[32m✔\u001b[39m \u001b[34mggplot2  \u001b[39m 3.4.2     \u001b[32m✔\u001b[39m \u001b[34mtibble   \u001b[39m 3.2.1\n",
      "\u001b[32m✔\u001b[39m \u001b[34mlubridate\u001b[39m 1.9.2     \u001b[32m✔\u001b[39m \u001b[34mtidyr    \u001b[39m 1.3.0\n",
      "\u001b[32m✔\u001b[39m \u001b[34mpurrr    \u001b[39m 1.0.1     \n",
      "── \u001b[1mConflicts\u001b[22m ───────────────────────────────────────────────────────────────────────────────────────────────────────────────────────────────────────────────────────────── tidyverse_conflicts() ──\n",
      "\u001b[31m✖\u001b[39m \u001b[34mdplyr\u001b[39m::\u001b[32mfilter()\u001b[39m masks \u001b[34mstats\u001b[39m::filter()\n",
      "\u001b[31m✖\u001b[39m \u001b[34mdplyr\u001b[39m::\u001b[32mlag()\u001b[39m    masks \u001b[34mstats\u001b[39m::lag()\n",
      "\u001b[36mℹ\u001b[39m Use the conflicted package (\u001b[3m\u001b[34m<http://conflicted.r-lib.org/>\u001b[39m\u001b[23m) to force all conflicts to become errors\n"
     ]
    }
   ],
   "source": [
    "library(tidyverse)"
   ]
  },
  {
   "cell_type": "markdown",
   "id": "5ccfdf51-7174-4db0-9796-a6b5ced57c60",
   "metadata": {
    "tags": []
   },
   "source": [
    "Veamos un ejemplo. En lugar de:"
   ]
  },
  {
   "cell_type": "code",
   "execution_count": 45,
   "id": "41a21cb6-6cf9-4f15-95ab-f739b35ef3da",
   "metadata": {
    "tags": []
   },
   "outputs": [
    {
     "data": {
      "text/html": [
       "1.4142135623731"
      ],
      "text/latex": [
       "1.4142135623731"
      ],
      "text/markdown": [
       "1.4142135623731"
      ],
      "text/plain": [
       "[1] 1.414214"
      ]
     },
     "metadata": {},
     "output_type": "display_data"
    }
   ],
   "source": [
    "sqrt(abs(-2))"
   ]
  },
  {
   "cell_type": "markdown",
   "id": "b26b2a90-91c1-4c3e-88c5-c141b87c1887",
   "metadata": {
    "tags": []
   },
   "source": [
    "ahora podemos hacer:"
   ]
  },
  {
   "cell_type": "code",
   "execution_count": 46,
   "id": "18ff44da-59a8-450e-99e3-151a06be1327",
   "metadata": {
    "tags": []
   },
   "outputs": [
    {
     "data": {
      "text/html": [
       "1.4142135623731"
      ],
      "text/latex": [
       "1.4142135623731"
      ],
      "text/markdown": [
       "1.4142135623731"
      ],
      "text/plain": [
       "[1] 1.414214"
      ]
     },
     "metadata": {},
     "output_type": "display_data"
    }
   ],
   "source": [
    "-2 %>% abs %>% sqrt"
   ]
  },
  {
   "cell_type": "markdown",
   "id": "f938fad6-c34e-4d00-a4b8-869c15513958",
   "metadata": {},
   "source": [
    "Esto empieza a tener más sentido cuando tenemos que aplicar varias funciones, como veremos más adelante."
   ]
  },
  {
   "cell_type": "markdown",
   "id": "a707faf5-5e21-4f35-a3ee-1e2b17b279ef",
   "metadata": {},
   "source": [
    "Puedes encontrar alguna diferencia en el comportamiento del _pipe_ nativo de R `|>` vs. `%>%`."
   ]
  },
  {
   "cell_type": "markdown",
   "id": "2167f478-a87b-49d3-bd72-48515b3f93b2",
   "metadata": {
    "tags": []
   },
   "source": [
    "- **tibbles**"
   ]
  },
  {
   "cell_type": "markdown",
   "id": "9d87f518-f0f2-4031-9ede-4fb69228cd97",
   "metadata": {
    "tags": []
   },
   "source": [
    "Tibbles son una versión mejorada de los `data.frames` que vimos arriba."
   ]
  },
  {
   "cell_type": "markdown",
   "id": "e435c216-dff2-42e6-95f3-cc7a2c4663df",
   "metadata": {},
   "source": [
    "Una de las principales ventajas está en cómo definimos una tabla en formato `tibble`. La función `tibble()` reciclará automáticamente las entradas de longitud 1 y permitirá hacer referencia a las variables que acabamos de crear, como se muestra a continuación."
   ]
  },
  {
   "cell_type": "code",
   "execution_count": 47,
   "id": "49c36889-1b3e-4416-8b33-35c88ad5c18e",
   "metadata": {
    "tags": []
   },
   "outputs": [
    {
     "data": {
      "text/html": [
       "<table class=\"dataframe\">\n",
       "<caption>A tibble: 10 × 3</caption>\n",
       "<thead>\n",
       "\t<tr><th scope=col>column1</th><th scope=col>column2</th><th scope=col>column3</th></tr>\n",
       "\t<tr><th scope=col>&lt;int&gt;</th><th scope=col>&lt;chr&gt;</th><th scope=col>&lt;int&gt;</th></tr>\n",
       "</thead>\n",
       "<tbody>\n",
       "\t<tr><td> 1</td><td>a</td><td> 2</td></tr>\n",
       "\t<tr><td> 2</td><td>a</td><td> 3</td></tr>\n",
       "\t<tr><td> 3</td><td>a</td><td> 4</td></tr>\n",
       "\t<tr><td> 4</td><td>a</td><td> 5</td></tr>\n",
       "\t<tr><td> 5</td><td>a</td><td> 6</td></tr>\n",
       "\t<tr><td> 6</td><td>a</td><td> 7</td></tr>\n",
       "\t<tr><td> 7</td><td>a</td><td> 8</td></tr>\n",
       "\t<tr><td> 8</td><td>a</td><td> 9</td></tr>\n",
       "\t<tr><td> 9</td><td>a</td><td>10</td></tr>\n",
       "\t<tr><td>10</td><td>a</td><td>11</td></tr>\n",
       "</tbody>\n",
       "</table>\n"
      ],
      "text/latex": [
       "A tibble: 10 × 3\n",
       "\\begin{tabular}{lll}\n",
       " column1 & column2 & column3\\\\\n",
       " <int> & <chr> & <int>\\\\\n",
       "\\hline\n",
       "\t  1 & a &  2\\\\\n",
       "\t  2 & a &  3\\\\\n",
       "\t  3 & a &  4\\\\\n",
       "\t  4 & a &  5\\\\\n",
       "\t  5 & a &  6\\\\\n",
       "\t  6 & a &  7\\\\\n",
       "\t  7 & a &  8\\\\\n",
       "\t  8 & a &  9\\\\\n",
       "\t  9 & a & 10\\\\\n",
       "\t 10 & a & 11\\\\\n",
       "\\end{tabular}\n"
      ],
      "text/markdown": [
       "\n",
       "A tibble: 10 × 3\n",
       "\n",
       "| column1 &lt;int&gt; | column2 &lt;chr&gt; | column3 &lt;int&gt; |\n",
       "|---|---|---|\n",
       "|  1 | a |  2 |\n",
       "|  2 | a |  3 |\n",
       "|  3 | a |  4 |\n",
       "|  4 | a |  5 |\n",
       "|  5 | a |  6 |\n",
       "|  6 | a |  7 |\n",
       "|  7 | a |  8 |\n",
       "|  8 | a |  9 |\n",
       "|  9 | a | 10 |\n",
       "| 10 | a | 11 |\n",
       "\n"
      ],
      "text/plain": [
       "   column1 column2 column3\n",
       "1   1      a        2     \n",
       "2   2      a        3     \n",
       "3   3      a        4     \n",
       "4   4      a        5     \n",
       "5   5      a        6     \n",
       "6   6      a        7     \n",
       "7   7      a        8     \n",
       "8   8      a        9     \n",
       "9   9      a       10     \n",
       "10 10      a       11     "
      ]
     },
     "metadata": {},
     "output_type": "display_data"
    }
   ],
   "source": [
    "tibble(\n",
    "  column1 = 1:10, \n",
    "  column2 = \"a\", \n",
    "  column3 = column1 + which(letters == unique(column2))\n",
    ")"
   ]
  },
  {
   "cell_type": "markdown",
   "id": "1fcdf47e-de9b-42d6-8455-7fb06c874948",
   "metadata": {},
   "source": [
    "¿Puedes intentar definir esta misma tabla como un `data.frame`?"
   ]
  },
  {
   "cell_type": "markdown",
   "id": "05a361c4-e71b-4929-9bbc-70228e665e65",
   "metadata": {},
   "source": [
    "Otra ventaja es que los `tibbles` tienen un método de impresión más refinado que muestra sólo las primeras 10 filas y todas las columnas que caben en la pantalla, incluyendo para cada columna el tipo de dato (como se observa en la tabla que generamos arriba)."
   ]
  },
  {
   "cell_type": "markdown",
   "id": "5c2125e8-4d43-4f9f-8e5c-85a15bbd4de1",
   "metadata": {},
   "source": [
    "Existen varias otras ventajas de los tibbles que puedes ver [acá](https://r4ds.had.co.nz/tibbles.html)."
   ]
  },
  {
   "cell_type": "markdown",
   "id": "a9f716a2-962d-4ece-98c3-7bba3dc6f2e0",
   "metadata": {
    "tags": []
   },
   "source": [
    "- **tidy data**"
   ]
  },
  {
   "cell_type": "markdown",
   "id": "9b45edea-a1ad-4f15-91eb-b15b67fab099",
   "metadata": {},
   "source": [
    "`tidy data` son tablas que están organizados de forma _tidy_. Este formato permite trabajar más fácilmente con las tablas, y pueden ser más rápidamente procesadas por R en el caso de contar de que exista una gran número de columnas (ej., tablas de abundancias de ASVs). El paquete `tidyverse` tiene muchas facilidades para trabajar con datos _tidy_, permitiendo tanto el formateo de una tabla tradicional (ej., una tabla donde tenemos las observaciones como una única fila y cada variable registrada como una columna distinta) a formato _tidy_, como la manipulación de tablas _tidy_. "
   ]
  },
  {
   "cell_type": "markdown",
   "id": "cf91c417-ce33-4a80-9986-fa3078b16ebf",
   "metadata": {},
   "source": [
    "Veamos más concretamente a qué refiere el formato _tidy_. Para esto vamos a definir una tabla tradicional."
   ]
  },
  {
   "cell_type": "code",
   "execution_count": 48,
   "id": "ffb59411-a6bc-440c-a38c-a9b4d0af8f96",
   "metadata": {
    "tags": []
   },
   "outputs": [],
   "source": [
    "X <- data.frame(\n",
    "  nombre = c(\"Juan\", \"Carlos\", \"Raul\"),\n",
    "  edad = c(22, 24, 89),\n",
    "  altura = c(1.8, 1.75, 1.85),\n",
    "  nota = c(1, 2, 3)\n",
    ")"
   ]
  },
  {
   "cell_type": "code",
   "execution_count": 49,
   "id": "39cac38a-f9a7-47d8-ab33-4a11a5cab451",
   "metadata": {
    "tags": []
   },
   "outputs": [
    {
     "data": {
      "text/html": [
       "<table class=\"dataframe\">\n",
       "<caption>A data.frame: 3 × 4</caption>\n",
       "<thead>\n",
       "\t<tr><th scope=col>nombre</th><th scope=col>edad</th><th scope=col>altura</th><th scope=col>nota</th></tr>\n",
       "\t<tr><th scope=col>&lt;chr&gt;</th><th scope=col>&lt;dbl&gt;</th><th scope=col>&lt;dbl&gt;</th><th scope=col>&lt;dbl&gt;</th></tr>\n",
       "</thead>\n",
       "<tbody>\n",
       "\t<tr><td>Juan  </td><td>22</td><td>1.80</td><td>1</td></tr>\n",
       "\t<tr><td>Carlos</td><td>24</td><td>1.75</td><td>2</td></tr>\n",
       "\t<tr><td>Raul  </td><td>89</td><td>1.85</td><td>3</td></tr>\n",
       "</tbody>\n",
       "</table>\n"
      ],
      "text/latex": [
       "A data.frame: 3 × 4\n",
       "\\begin{tabular}{llll}\n",
       " nombre & edad & altura & nota\\\\\n",
       " <chr> & <dbl> & <dbl> & <dbl>\\\\\n",
       "\\hline\n",
       "\t Juan   & 22 & 1.80 & 1\\\\\n",
       "\t Carlos & 24 & 1.75 & 2\\\\\n",
       "\t Raul   & 89 & 1.85 & 3\\\\\n",
       "\\end{tabular}\n"
      ],
      "text/markdown": [
       "\n",
       "A data.frame: 3 × 4\n",
       "\n",
       "| nombre &lt;chr&gt; | edad &lt;dbl&gt; | altura &lt;dbl&gt; | nota &lt;dbl&gt; |\n",
       "|---|---|---|---|\n",
       "| Juan   | 22 | 1.80 | 1 |\n",
       "| Carlos | 24 | 1.75 | 2 |\n",
       "| Raul   | 89 | 1.85 | 3 |\n",
       "\n"
      ],
      "text/plain": [
       "  nombre edad altura nota\n",
       "1 Juan   22   1.80   1   \n",
       "2 Carlos 24   1.75   2   \n",
       "3 Raul   89   1.85   3   "
      ]
     },
     "metadata": {},
     "output_type": "display_data"
    }
   ],
   "source": [
    "X"
   ]
  },
  {
   "cell_type": "markdown",
   "id": "5b59f02e-413b-4f95-a0f1-9ecfc7bd9c5c",
   "metadata": {},
   "source": [
    "Este tipo de tabla tiene, para cada observación (i.e., nombre), las variables registradas (i.e., edad, altura, nacionalidad). Para convertir esta tabla a formato _tidy_ utilizamos la función [pivot_longer](https://www.rdocumentation.org/packages/tidyr/versions/1.3.0/topics/pivot_longer) de `tidyverse`."
   ]
  },
  {
   "cell_type": "code",
   "execution_count": 50,
   "id": "42d6c200-6646-46a1-9ee1-6eb41fe4b24c",
   "metadata": {
    "tags": []
   },
   "outputs": [],
   "source": [
    "X_tidy <- X %>% pivot_longer(names_to = \"variable\", \n",
    "                             values_to = \"values\", \n",
    "                             cols = c(edad, altura, nota))"
   ]
  },
  {
   "cell_type": "code",
   "execution_count": 51,
   "id": "79c756c1-4180-43ff-8f8c-08aa43266261",
   "metadata": {
    "tags": []
   },
   "outputs": [
    {
     "data": {
      "text/html": [
       "<table class=\"dataframe\">\n",
       "<caption>A tibble: 9 × 3</caption>\n",
       "<thead>\n",
       "\t<tr><th scope=col>nombre</th><th scope=col>variable</th><th scope=col>values</th></tr>\n",
       "\t<tr><th scope=col>&lt;chr&gt;</th><th scope=col>&lt;chr&gt;</th><th scope=col>&lt;dbl&gt;</th></tr>\n",
       "</thead>\n",
       "<tbody>\n",
       "\t<tr><td>Juan  </td><td>edad  </td><td>22.00</td></tr>\n",
       "\t<tr><td>Juan  </td><td>altura</td><td> 1.80</td></tr>\n",
       "\t<tr><td>Juan  </td><td>nota  </td><td> 1.00</td></tr>\n",
       "\t<tr><td>Carlos</td><td>edad  </td><td>24.00</td></tr>\n",
       "\t<tr><td>Carlos</td><td>altura</td><td> 1.75</td></tr>\n",
       "\t<tr><td>Carlos</td><td>nota  </td><td> 2.00</td></tr>\n",
       "\t<tr><td>Raul  </td><td>edad  </td><td>89.00</td></tr>\n",
       "\t<tr><td>Raul  </td><td>altura</td><td> 1.85</td></tr>\n",
       "\t<tr><td>Raul  </td><td>nota  </td><td> 3.00</td></tr>\n",
       "</tbody>\n",
       "</table>\n"
      ],
      "text/latex": [
       "A tibble: 9 × 3\n",
       "\\begin{tabular}{lll}\n",
       " nombre & variable & values\\\\\n",
       " <chr> & <chr> & <dbl>\\\\\n",
       "\\hline\n",
       "\t Juan   & edad   & 22.00\\\\\n",
       "\t Juan   & altura &  1.80\\\\\n",
       "\t Juan   & nota   &  1.00\\\\\n",
       "\t Carlos & edad   & 24.00\\\\\n",
       "\t Carlos & altura &  1.75\\\\\n",
       "\t Carlos & nota   &  2.00\\\\\n",
       "\t Raul   & edad   & 89.00\\\\\n",
       "\t Raul   & altura &  1.85\\\\\n",
       "\t Raul   & nota   &  3.00\\\\\n",
       "\\end{tabular}\n"
      ],
      "text/markdown": [
       "\n",
       "A tibble: 9 × 3\n",
       "\n",
       "| nombre &lt;chr&gt; | variable &lt;chr&gt; | values &lt;dbl&gt; |\n",
       "|---|---|---|\n",
       "| Juan   | edad   | 22.00 |\n",
       "| Juan   | altura |  1.80 |\n",
       "| Juan   | nota   |  1.00 |\n",
       "| Carlos | edad   | 24.00 |\n",
       "| Carlos | altura |  1.75 |\n",
       "| Carlos | nota   |  2.00 |\n",
       "| Raul   | edad   | 89.00 |\n",
       "| Raul   | altura |  1.85 |\n",
       "| Raul   | nota   |  3.00 |\n",
       "\n"
      ],
      "text/plain": [
       "  nombre variable values\n",
       "1 Juan   edad     22.00 \n",
       "2 Juan   altura    1.80 \n",
       "3 Juan   nota      1.00 \n",
       "4 Carlos edad     24.00 \n",
       "5 Carlos altura    1.75 \n",
       "6 Carlos nota      2.00 \n",
       "7 Raul   edad     89.00 \n",
       "8 Raul   altura    1.85 \n",
       "9 Raul   nota      3.00 "
      ]
     },
     "metadata": {},
     "output_type": "display_data"
    }
   ],
   "source": [
    "X_tidy"
   ]
  },
  {
   "cell_type": "markdown",
   "id": "763c26e9-b1cb-483e-b970-927178681443",
   "metadata": {},
   "source": [
    "¿Se entiende en qué consiste el formato _tidy_?"
   ]
  },
  {
   "cell_type": "markdown",
   "id": "2034a0a6-a798-45e0-9364-c5642e06d384",
   "metadata": {},
   "source": [
    "Ahora la misma observación queda representada en varias filas, y los nombres de las variables originales quedan organizadas en un nueva columna y sus valores en otra (i.e., `variable` y `values`, respectivamente, en nuestro ejemplo). Esto es lo que estamos especificando con las argumentos `names_to` y `values_to` en la función `pivot_longer`, mientras que con el argumento `cols` especificamos qué columnas vamos a dejar formateadas como _tidy_."
   ]
  },
  {
   "cell_type": "markdown",
   "id": "90683e86-9bb6-44dd-a006-706fb7d50950",
   "metadata": {
    "tags": []
   },
   "source": [
    "¿Puedes probar qué sucede si dejamos la variable `nota` fuera del formato _tidy_?"
   ]
  },
  {
   "cell_type": "markdown",
   "id": "4a789379-f241-4ac4-a91c-9998bdbe2eed",
   "metadata": {},
   "source": [
    "Por supuesto, también podemos convertir una tabla _tidy_ a un formato tradicional (_messy_ como se dice algunas veces). Para esto `tidyverse` cuenta con la función [pivot_wider](https://www.rdocumentation.org/packages/tidyr/versions/1.3.0/topics/pivot_wider)."
   ]
  },
  {
   "cell_type": "markdown",
   "id": "fbd1f698-e6f1-4407-a37e-a3d7b68b127b",
   "metadata": {
    "tags": []
   },
   "source": [
    "¿Puedes convertir la tabla X_tidy a su formato original?"
   ]
  },
  {
   "cell_type": "markdown",
   "id": "d3ef962e-46c5-4f61-a1ca-ad0da2385bb3",
   "metadata": {},
   "source": [
    "Si quieres seguir aprendiendo sobre _tidy data_ [acá tienes más material](https://r4ds.had.co.nz/tidy-data.html)."
   ]
  },
  {
   "cell_type": "markdown",
   "id": "79b6a796-60f9-422c-830b-a640e5c5895e",
   "metadata": {},
   "source": [
    "- **select y filter**"
   ]
  },
  {
   "cell_type": "markdown",
   "id": "8089beb9-ad26-4931-837b-5c76fe458e9c",
   "metadata": {},
   "source": [
    "[select](https://www.rdocumentation.org/packages/dplyr/versions/1.0.10/topics/select) y [filter](https://www.rdocumentation.org/packages/dplyr/versions/0.7.8/topics/filter) son dos funciones muy prácticas dentro del paquete `tidyverse`. Mientras que `select` nos permite seleccionar variables de una `data.frame` o `tibble`, `filter`, nos permite seleccionar observaciones que cumplan determinado condición en una o más variables.  "
   ]
  },
  {
   "cell_type": "markdown",
   "id": "40990e17-8b57-4041-8ef3-3b7c42c7515f",
   "metadata": {},
   "source": [
    "Un ejemplo de `select` muy simple sobre nuestra tabla X puede ser:"
   ]
  },
  {
   "cell_type": "code",
   "execution_count": 52,
   "id": "a4e49ccd-36de-408d-8809-7be733d8158a",
   "metadata": {
    "tags": []
   },
   "outputs": [
    {
     "data": {
      "text/html": [
       "<table class=\"dataframe\">\n",
       "<caption>A data.frame: 3 × 3</caption>\n",
       "<thead>\n",
       "\t<tr><th scope=col>edad</th><th scope=col>altura</th><th scope=col>nota</th></tr>\n",
       "\t<tr><th scope=col>&lt;dbl&gt;</th><th scope=col>&lt;dbl&gt;</th><th scope=col>&lt;dbl&gt;</th></tr>\n",
       "</thead>\n",
       "<tbody>\n",
       "\t<tr><td>22</td><td>1.80</td><td>1</td></tr>\n",
       "\t<tr><td>24</td><td>1.75</td><td>2</td></tr>\n",
       "\t<tr><td>89</td><td>1.85</td><td>3</td></tr>\n",
       "</tbody>\n",
       "</table>\n"
      ],
      "text/latex": [
       "A data.frame: 3 × 3\n",
       "\\begin{tabular}{lll}\n",
       " edad & altura & nota\\\\\n",
       " <dbl> & <dbl> & <dbl>\\\\\n",
       "\\hline\n",
       "\t 22 & 1.80 & 1\\\\\n",
       "\t 24 & 1.75 & 2\\\\\n",
       "\t 89 & 1.85 & 3\\\\\n",
       "\\end{tabular}\n"
      ],
      "text/markdown": [
       "\n",
       "A data.frame: 3 × 3\n",
       "\n",
       "| edad &lt;dbl&gt; | altura &lt;dbl&gt; | nota &lt;dbl&gt; |\n",
       "|---|---|---|\n",
       "| 22 | 1.80 | 1 |\n",
       "| 24 | 1.75 | 2 |\n",
       "| 89 | 1.85 | 3 |\n",
       "\n"
      ],
      "text/plain": [
       "  edad altura nota\n",
       "1 22   1.80   1   \n",
       "2 24   1.75   2   \n",
       "3 89   1.85   3   "
      ]
     },
     "metadata": {},
     "output_type": "display_data"
    }
   ],
   "source": [
    "select(X, !nombre)"
   ]
  },
  {
   "cell_type": "markdown",
   "id": "91504736-10d1-45be-958b-596a712ca4a0",
   "metadata": {},
   "source": [
    "La función `select` puede resultar muy conveniente en combinación de las funciones [starts_with](https://www.rdocumentation.org/packages/tidyselect/versions/1.2.0/topics/starts_with) y [ends_with](https://www.rdocumentation.org/packages/metacoder/versions/0.3.6/topics/ends_with).  \n",
    "¿Te imaginas cómo puedes utilizar estas otras funciones para seleccionar columnas?"
   ]
  },
  {
   "cell_type": "markdown",
   "id": "8c4d28c0-8ff3-4953-986d-4e8f4a293d06",
   "metadata": {},
   "source": [
    "Como ejemplo de `filter` vamos a seleccionar de nuestra tabla `X` aquellos individuos con una altura mayor a 1.8.  "
   ]
  },
  {
   "cell_type": "code",
   "execution_count": 53,
   "id": "f50e70bb-7ee7-413b-80aa-713671f68390",
   "metadata": {
    "tags": []
   },
   "outputs": [
    {
     "data": {
      "text/html": [
       "<table class=\"dataframe\">\n",
       "<caption>A data.frame: 1 × 4</caption>\n",
       "<thead>\n",
       "\t<tr><th scope=col>nombre</th><th scope=col>edad</th><th scope=col>altura</th><th scope=col>nota</th></tr>\n",
       "\t<tr><th scope=col>&lt;chr&gt;</th><th scope=col>&lt;dbl&gt;</th><th scope=col>&lt;dbl&gt;</th><th scope=col>&lt;dbl&gt;</th></tr>\n",
       "</thead>\n",
       "<tbody>\n",
       "\t<tr><td>Raul</td><td>89</td><td>1.85</td><td>3</td></tr>\n",
       "</tbody>\n",
       "</table>\n"
      ],
      "text/latex": [
       "A data.frame: 1 × 4\n",
       "\\begin{tabular}{llll}\n",
       " nombre & edad & altura & nota\\\\\n",
       " <chr> & <dbl> & <dbl> & <dbl>\\\\\n",
       "\\hline\n",
       "\t Raul & 89 & 1.85 & 3\\\\\n",
       "\\end{tabular}\n"
      ],
      "text/markdown": [
       "\n",
       "A data.frame: 1 × 4\n",
       "\n",
       "| nombre &lt;chr&gt; | edad &lt;dbl&gt; | altura &lt;dbl&gt; | nota &lt;dbl&gt; |\n",
       "|---|---|---|---|\n",
       "| Raul | 89 | 1.85 | 3 |\n",
       "\n"
      ],
      "text/plain": [
       "  nombre edad altura nota\n",
       "1 Raul   89   1.85   3   "
      ]
     },
     "metadata": {},
     "output_type": "display_data"
    }
   ],
   "source": [
    "X %>% filter(altura > 1.8)"
   ]
  },
  {
   "cell_type": "markdown",
   "id": "828bcd43-144d-4789-8068-a9708ae8093e",
   "metadata": {},
   "source": [
    "Como era de esperar, `Raul` es el único que cumple esta condición."
   ]
  },
  {
   "cell_type": "markdown",
   "id": "36429679-4753-403e-9136-0a3632d83cfa",
   "metadata": {},
   "source": [
    "- **group_by, mutate y summarize**"
   ]
  },
  {
   "cell_type": "markdown",
   "id": "132973dc-e4f1-4deb-9128-8d5bc287dd01",
   "metadata": {},
   "source": [
    "Estos son otro par de funciones de `tidyverse` que comúnmente se utilizan juntas para realizar operaciones sobre tablas, idealmente, en formato _tidy_. La función [group_by](https://www.rdocumentation.org/packages/dplyr/versions/1.0.10/topics/group_by) nos permite definir grupos dentro de una tabla en base a una o más variables, de tal forma que con la función [mutate](https://www.rdocumentation.org/packages/dplyr/versions/0.5.0/topics/mutate) definamos una nueva variable en base a una operación en cada grupo, o definamos una variable resúmen con [summarize](https://www.rdocumentation.org/packages/Hmisc/versions/5.1-1/topics/summarize)"
   ]
  },
  {
   "cell_type": "markdown",
   "id": "2d5221c2-e69e-4162-8c81-2b59d149c6fc",
   "metadata": {},
   "source": [
    "La mejor forma de entender cómo funcionan es con un ejemplo. Para esto, primero vamos a crear una nueva tabla (la tabla X de arriba es demasiado simple como para que los ejemplos tengan algo de gracia). Para ya irnos aclimatando, vamos a simular una tabla de ASVs (y de paso vemos un ejemplo de la función [tribble](https://www.rdocumentation.org/packages/tibble/versions/1.2/topics/tribble))."
   ]
  },
  {
   "cell_type": "code",
   "execution_count": 54,
   "id": "bb37f050-7e24-40c9-8203-890935613f20",
   "metadata": {
    "tags": []
   },
   "outputs": [],
   "source": [
    "X_asvs <- tribble(\n",
    "    ~sample, ~asv1, ~asv2, ~asv3, ~asv4, ~asv5, ~asv6, ~asv7, ~asv8, ~asv9, ~asv10,\n",
    "    \"sample_1\", 1, 0, 0, 0, 10, 10, 15, 0 ,1 ,3,\n",
    "    \"sample_2\", 0, 1, 10, 0, 30, 1, 4, 0 ,0 ,2,\n",
    "    \"sample_3\", 10, 12, 11, 20, 50, 1, 6, 0 ,0 ,0\n",
    ")"
   ]
  },
  {
   "cell_type": "code",
   "execution_count": 55,
   "id": "e593861e-6da2-40f5-9ca0-ca107995ce95",
   "metadata": {
    "tags": []
   },
   "outputs": [
    {
     "data": {
      "text/html": [
       "<table class=\"dataframe\">\n",
       "<caption>A tibble: 3 × 11</caption>\n",
       "<thead>\n",
       "\t<tr><th scope=col>sample</th><th scope=col>asv1</th><th scope=col>asv2</th><th scope=col>asv3</th><th scope=col>asv4</th><th scope=col>asv5</th><th scope=col>asv6</th><th scope=col>asv7</th><th scope=col>asv8</th><th scope=col>asv9</th><th scope=col>asv10</th></tr>\n",
       "\t<tr><th scope=col>&lt;chr&gt;</th><th scope=col>&lt;dbl&gt;</th><th scope=col>&lt;dbl&gt;</th><th scope=col>&lt;dbl&gt;</th><th scope=col>&lt;dbl&gt;</th><th scope=col>&lt;dbl&gt;</th><th scope=col>&lt;dbl&gt;</th><th scope=col>&lt;dbl&gt;</th><th scope=col>&lt;dbl&gt;</th><th scope=col>&lt;dbl&gt;</th><th scope=col>&lt;dbl&gt;</th></tr>\n",
       "</thead>\n",
       "<tbody>\n",
       "\t<tr><td>sample_1</td><td> 1</td><td> 0</td><td> 0</td><td> 0</td><td>10</td><td>10</td><td>15</td><td>0</td><td>1</td><td>3</td></tr>\n",
       "\t<tr><td>sample_2</td><td> 0</td><td> 1</td><td>10</td><td> 0</td><td>30</td><td> 1</td><td> 4</td><td>0</td><td>0</td><td>2</td></tr>\n",
       "\t<tr><td>sample_3</td><td>10</td><td>12</td><td>11</td><td>20</td><td>50</td><td> 1</td><td> 6</td><td>0</td><td>0</td><td>0</td></tr>\n",
       "</tbody>\n",
       "</table>\n"
      ],
      "text/latex": [
       "A tibble: 3 × 11\n",
       "\\begin{tabular}{lllllllllll}\n",
       " sample & asv1 & asv2 & asv3 & asv4 & asv5 & asv6 & asv7 & asv8 & asv9 & asv10\\\\\n",
       " <chr> & <dbl> & <dbl> & <dbl> & <dbl> & <dbl> & <dbl> & <dbl> & <dbl> & <dbl> & <dbl>\\\\\n",
       "\\hline\n",
       "\t sample\\_1 &  1 &  0 &  0 &  0 & 10 & 10 & 15 & 0 & 1 & 3\\\\\n",
       "\t sample\\_2 &  0 &  1 & 10 &  0 & 30 &  1 &  4 & 0 & 0 & 2\\\\\n",
       "\t sample\\_3 & 10 & 12 & 11 & 20 & 50 &  1 &  6 & 0 & 0 & 0\\\\\n",
       "\\end{tabular}\n"
      ],
      "text/markdown": [
       "\n",
       "A tibble: 3 × 11\n",
       "\n",
       "| sample &lt;chr&gt; | asv1 &lt;dbl&gt; | asv2 &lt;dbl&gt; | asv3 &lt;dbl&gt; | asv4 &lt;dbl&gt; | asv5 &lt;dbl&gt; | asv6 &lt;dbl&gt; | asv7 &lt;dbl&gt; | asv8 &lt;dbl&gt; | asv9 &lt;dbl&gt; | asv10 &lt;dbl&gt; |\n",
       "|---|---|---|---|---|---|---|---|---|---|---|\n",
       "| sample_1 |  1 |  0 |  0 |  0 | 10 | 10 | 15 | 0 | 1 | 3 |\n",
       "| sample_2 |  0 |  1 | 10 |  0 | 30 |  1 |  4 | 0 | 0 | 2 |\n",
       "| sample_3 | 10 | 12 | 11 | 20 | 50 |  1 |  6 | 0 | 0 | 0 |\n",
       "\n"
      ],
      "text/plain": [
       "  sample   asv1 asv2 asv3 asv4 asv5 asv6 asv7 asv8 asv9 asv10\n",
       "1 sample_1  1    0    0    0   10   10   15   0    1    3    \n",
       "2 sample_2  0    1   10    0   30    1    4   0    0    2    \n",
       "3 sample_3 10   12   11   20   50    1    6   0    0    0    "
      ]
     },
     "metadata": {},
     "output_type": "display_data"
    }
   ],
   "source": [
    "X_asvs"
   ]
  },
  {
   "cell_type": "markdown",
   "id": "76692c30-1376-4951-a494-390de295f19d",
   "metadata": {},
   "source": [
    "Como podemos ver, nuestra tabla de ASVs está en un formato _messy_. Vamos a formatearla como _tidy_."
   ]
  },
  {
   "cell_type": "code",
   "execution_count": 56,
   "id": "bdb44828-6c9f-4be9-8c7d-1901042e709f",
   "metadata": {
    "tags": []
   },
   "outputs": [],
   "source": [
    "X_asvs_tidy <- X_asvs %>%\n",
    "               pivot_longer(names_to = \"asv_id\", \n",
    "                            values_to = \"abund\", \n",
    "                            cols = asv1:asv10)"
   ]
  },
  {
   "cell_type": "markdown",
   "id": "a8d7eb6d-cf8c-4cc1-adf3-1465f19e2982",
   "metadata": {
    "tags": []
   },
   "source": [
    "Vemos cómo se ve:"
   ]
  },
  {
   "cell_type": "code",
   "execution_count": 57,
   "id": "af86e5a7-a939-416e-b4b5-8420dcb978cd",
   "metadata": {
    "tags": []
   },
   "outputs": [
    {
     "data": {
      "text/html": [
       "<table class=\"dataframe\">\n",
       "<caption>A tibble: 30 × 3</caption>\n",
       "<thead>\n",
       "\t<tr><th scope=col>sample</th><th scope=col>asv_id</th><th scope=col>abund</th></tr>\n",
       "\t<tr><th scope=col>&lt;chr&gt;</th><th scope=col>&lt;chr&gt;</th><th scope=col>&lt;dbl&gt;</th></tr>\n",
       "</thead>\n",
       "<tbody>\n",
       "\t<tr><td>sample_1</td><td>asv1 </td><td> 1</td></tr>\n",
       "\t<tr><td>sample_1</td><td>asv2 </td><td> 0</td></tr>\n",
       "\t<tr><td>sample_1</td><td>asv3 </td><td> 0</td></tr>\n",
       "\t<tr><td>sample_1</td><td>asv4 </td><td> 0</td></tr>\n",
       "\t<tr><td>sample_1</td><td>asv5 </td><td>10</td></tr>\n",
       "\t<tr><td>sample_1</td><td>asv6 </td><td>10</td></tr>\n",
       "\t<tr><td>sample_1</td><td>asv7 </td><td>15</td></tr>\n",
       "\t<tr><td>sample_1</td><td>asv8 </td><td> 0</td></tr>\n",
       "\t<tr><td>sample_1</td><td>asv9 </td><td> 1</td></tr>\n",
       "\t<tr><td>sample_1</td><td>asv10</td><td> 3</td></tr>\n",
       "\t<tr><td>sample_2</td><td>asv1 </td><td> 0</td></tr>\n",
       "\t<tr><td>sample_2</td><td>asv2 </td><td> 1</td></tr>\n",
       "\t<tr><td>sample_2</td><td>asv3 </td><td>10</td></tr>\n",
       "\t<tr><td>sample_2</td><td>asv4 </td><td> 0</td></tr>\n",
       "\t<tr><td>sample_2</td><td>asv5 </td><td>30</td></tr>\n",
       "\t<tr><td>sample_2</td><td>asv6 </td><td> 1</td></tr>\n",
       "\t<tr><td>sample_2</td><td>asv7 </td><td> 4</td></tr>\n",
       "\t<tr><td>sample_2</td><td>asv8 </td><td> 0</td></tr>\n",
       "\t<tr><td>sample_2</td><td>asv9 </td><td> 0</td></tr>\n",
       "\t<tr><td>sample_2</td><td>asv10</td><td> 2</td></tr>\n",
       "\t<tr><td>sample_3</td><td>asv1 </td><td>10</td></tr>\n",
       "\t<tr><td>sample_3</td><td>asv2 </td><td>12</td></tr>\n",
       "\t<tr><td>sample_3</td><td>asv3 </td><td>11</td></tr>\n",
       "\t<tr><td>sample_3</td><td>asv4 </td><td>20</td></tr>\n",
       "\t<tr><td>sample_3</td><td>asv5 </td><td>50</td></tr>\n",
       "\t<tr><td>sample_3</td><td>asv6 </td><td> 1</td></tr>\n",
       "\t<tr><td>sample_3</td><td>asv7 </td><td> 6</td></tr>\n",
       "\t<tr><td>sample_3</td><td>asv8 </td><td> 0</td></tr>\n",
       "\t<tr><td>sample_3</td><td>asv9 </td><td> 0</td></tr>\n",
       "\t<tr><td>sample_3</td><td>asv10</td><td> 0</td></tr>\n",
       "</tbody>\n",
       "</table>\n"
      ],
      "text/latex": [
       "A tibble: 30 × 3\n",
       "\\begin{tabular}{lll}\n",
       " sample & asv\\_id & abund\\\\\n",
       " <chr> & <chr> & <dbl>\\\\\n",
       "\\hline\n",
       "\t sample\\_1 & asv1  &  1\\\\\n",
       "\t sample\\_1 & asv2  &  0\\\\\n",
       "\t sample\\_1 & asv3  &  0\\\\\n",
       "\t sample\\_1 & asv4  &  0\\\\\n",
       "\t sample\\_1 & asv5  & 10\\\\\n",
       "\t sample\\_1 & asv6  & 10\\\\\n",
       "\t sample\\_1 & asv7  & 15\\\\\n",
       "\t sample\\_1 & asv8  &  0\\\\\n",
       "\t sample\\_1 & asv9  &  1\\\\\n",
       "\t sample\\_1 & asv10 &  3\\\\\n",
       "\t sample\\_2 & asv1  &  0\\\\\n",
       "\t sample\\_2 & asv2  &  1\\\\\n",
       "\t sample\\_2 & asv3  & 10\\\\\n",
       "\t sample\\_2 & asv4  &  0\\\\\n",
       "\t sample\\_2 & asv5  & 30\\\\\n",
       "\t sample\\_2 & asv6  &  1\\\\\n",
       "\t sample\\_2 & asv7  &  4\\\\\n",
       "\t sample\\_2 & asv8  &  0\\\\\n",
       "\t sample\\_2 & asv9  &  0\\\\\n",
       "\t sample\\_2 & asv10 &  2\\\\\n",
       "\t sample\\_3 & asv1  & 10\\\\\n",
       "\t sample\\_3 & asv2  & 12\\\\\n",
       "\t sample\\_3 & asv3  & 11\\\\\n",
       "\t sample\\_3 & asv4  & 20\\\\\n",
       "\t sample\\_3 & asv5  & 50\\\\\n",
       "\t sample\\_3 & asv6  &  1\\\\\n",
       "\t sample\\_3 & asv7  &  6\\\\\n",
       "\t sample\\_3 & asv8  &  0\\\\\n",
       "\t sample\\_3 & asv9  &  0\\\\\n",
       "\t sample\\_3 & asv10 &  0\\\\\n",
       "\\end{tabular}\n"
      ],
      "text/markdown": [
       "\n",
       "A tibble: 30 × 3\n",
       "\n",
       "| sample &lt;chr&gt; | asv_id &lt;chr&gt; | abund &lt;dbl&gt; |\n",
       "|---|---|---|\n",
       "| sample_1 | asv1  |  1 |\n",
       "| sample_1 | asv2  |  0 |\n",
       "| sample_1 | asv3  |  0 |\n",
       "| sample_1 | asv4  |  0 |\n",
       "| sample_1 | asv5  | 10 |\n",
       "| sample_1 | asv6  | 10 |\n",
       "| sample_1 | asv7  | 15 |\n",
       "| sample_1 | asv8  |  0 |\n",
       "| sample_1 | asv9  |  1 |\n",
       "| sample_1 | asv10 |  3 |\n",
       "| sample_2 | asv1  |  0 |\n",
       "| sample_2 | asv2  |  1 |\n",
       "| sample_2 | asv3  | 10 |\n",
       "| sample_2 | asv4  |  0 |\n",
       "| sample_2 | asv5  | 30 |\n",
       "| sample_2 | asv6  |  1 |\n",
       "| sample_2 | asv7  |  4 |\n",
       "| sample_2 | asv8  |  0 |\n",
       "| sample_2 | asv9  |  0 |\n",
       "| sample_2 | asv10 |  2 |\n",
       "| sample_3 | asv1  | 10 |\n",
       "| sample_3 | asv2  | 12 |\n",
       "| sample_3 | asv3  | 11 |\n",
       "| sample_3 | asv4  | 20 |\n",
       "| sample_3 | asv5  | 50 |\n",
       "| sample_3 | asv6  |  1 |\n",
       "| sample_3 | asv7  |  6 |\n",
       "| sample_3 | asv8  |  0 |\n",
       "| sample_3 | asv9  |  0 |\n",
       "| sample_3 | asv10 |  0 |\n",
       "\n"
      ],
      "text/plain": [
       "   sample   asv_id abund\n",
       "1  sample_1 asv1    1   \n",
       "2  sample_1 asv2    0   \n",
       "3  sample_1 asv3    0   \n",
       "4  sample_1 asv4    0   \n",
       "5  sample_1 asv5   10   \n",
       "6  sample_1 asv6   10   \n",
       "7  sample_1 asv7   15   \n",
       "8  sample_1 asv8    0   \n",
       "9  sample_1 asv9    1   \n",
       "10 sample_1 asv10   3   \n",
       "11 sample_2 asv1    0   \n",
       "12 sample_2 asv2    1   \n",
       "13 sample_2 asv3   10   \n",
       "14 sample_2 asv4    0   \n",
       "15 sample_2 asv5   30   \n",
       "16 sample_2 asv6    1   \n",
       "17 sample_2 asv7    4   \n",
       "18 sample_2 asv8    0   \n",
       "19 sample_2 asv9    0   \n",
       "20 sample_2 asv10   2   \n",
       "21 sample_3 asv1   10   \n",
       "22 sample_3 asv2   12   \n",
       "23 sample_3 asv3   11   \n",
       "24 sample_3 asv4   20   \n",
       "25 sample_3 asv5   50   \n",
       "26 sample_3 asv6    1   \n",
       "27 sample_3 asv7    6   \n",
       "28 sample_3 asv8    0   \n",
       "29 sample_3 asv9    0   \n",
       "30 sample_3 asv10   0   "
      ]
     },
     "metadata": {},
     "output_type": "display_data"
    }
   ],
   "source": [
    "X_asvs_tidy"
   ]
  },
  {
   "cell_type": "markdown",
   "id": "2a4e7507-f683-4863-971a-790e19a1eb9d",
   "metadata": {
    "tags": []
   },
   "source": [
    "Ahora utilizando la funciones `group_by` y `mutate` vamos a computar la abundancia relativa."
   ]
  },
  {
   "cell_type": "code",
   "execution_count": 58,
   "id": "1c2fb500-977d-42e9-92b3-1604ca8ca787",
   "metadata": {
    "tags": []
   },
   "outputs": [
    {
     "data": {
      "text/html": [
       "<table class=\"dataframe\">\n",
       "<caption>A grouped_df: 30 × 4</caption>\n",
       "<thead>\n",
       "\t<tr><th scope=col>sample</th><th scope=col>asv_id</th><th scope=col>abund</th><th scope=col>abund_rel</th></tr>\n",
       "\t<tr><th scope=col>&lt;chr&gt;</th><th scope=col>&lt;chr&gt;</th><th scope=col>&lt;dbl&gt;</th><th scope=col>&lt;dbl&gt;</th></tr>\n",
       "</thead>\n",
       "<tbody>\n",
       "\t<tr><td>sample_1</td><td>asv1 </td><td> 1</td><td>0.025000000</td></tr>\n",
       "\t<tr><td>sample_1</td><td>asv2 </td><td> 0</td><td>0.000000000</td></tr>\n",
       "\t<tr><td>sample_1</td><td>asv3 </td><td> 0</td><td>0.000000000</td></tr>\n",
       "\t<tr><td>sample_1</td><td>asv4 </td><td> 0</td><td>0.000000000</td></tr>\n",
       "\t<tr><td>sample_1</td><td>asv5 </td><td>10</td><td>0.250000000</td></tr>\n",
       "\t<tr><td>sample_1</td><td>asv6 </td><td>10</td><td>0.250000000</td></tr>\n",
       "\t<tr><td>sample_1</td><td>asv7 </td><td>15</td><td>0.375000000</td></tr>\n",
       "\t<tr><td>sample_1</td><td>asv8 </td><td> 0</td><td>0.000000000</td></tr>\n",
       "\t<tr><td>sample_1</td><td>asv9 </td><td> 1</td><td>0.025000000</td></tr>\n",
       "\t<tr><td>sample_1</td><td>asv10</td><td> 3</td><td>0.075000000</td></tr>\n",
       "\t<tr><td>sample_2</td><td>asv1 </td><td> 0</td><td>0.000000000</td></tr>\n",
       "\t<tr><td>sample_2</td><td>asv2 </td><td> 1</td><td>0.020833333</td></tr>\n",
       "\t<tr><td>sample_2</td><td>asv3 </td><td>10</td><td>0.208333333</td></tr>\n",
       "\t<tr><td>sample_2</td><td>asv4 </td><td> 0</td><td>0.000000000</td></tr>\n",
       "\t<tr><td>sample_2</td><td>asv5 </td><td>30</td><td>0.625000000</td></tr>\n",
       "\t<tr><td>sample_2</td><td>asv6 </td><td> 1</td><td>0.020833333</td></tr>\n",
       "\t<tr><td>sample_2</td><td>asv7 </td><td> 4</td><td>0.083333333</td></tr>\n",
       "\t<tr><td>sample_2</td><td>asv8 </td><td> 0</td><td>0.000000000</td></tr>\n",
       "\t<tr><td>sample_2</td><td>asv9 </td><td> 0</td><td>0.000000000</td></tr>\n",
       "\t<tr><td>sample_2</td><td>asv10</td><td> 2</td><td>0.041666667</td></tr>\n",
       "\t<tr><td>sample_3</td><td>asv1 </td><td>10</td><td>0.090909091</td></tr>\n",
       "\t<tr><td>sample_3</td><td>asv2 </td><td>12</td><td>0.109090909</td></tr>\n",
       "\t<tr><td>sample_3</td><td>asv3 </td><td>11</td><td>0.100000000</td></tr>\n",
       "\t<tr><td>sample_3</td><td>asv4 </td><td>20</td><td>0.181818182</td></tr>\n",
       "\t<tr><td>sample_3</td><td>asv5 </td><td>50</td><td>0.454545455</td></tr>\n",
       "\t<tr><td>sample_3</td><td>asv6 </td><td> 1</td><td>0.009090909</td></tr>\n",
       "\t<tr><td>sample_3</td><td>asv7 </td><td> 6</td><td>0.054545455</td></tr>\n",
       "\t<tr><td>sample_3</td><td>asv8 </td><td> 0</td><td>0.000000000</td></tr>\n",
       "\t<tr><td>sample_3</td><td>asv9 </td><td> 0</td><td>0.000000000</td></tr>\n",
       "\t<tr><td>sample_3</td><td>asv10</td><td> 0</td><td>0.000000000</td></tr>\n",
       "</tbody>\n",
       "</table>\n"
      ],
      "text/latex": [
       "A grouped\\_df: 30 × 4\n",
       "\\begin{tabular}{llll}\n",
       " sample & asv\\_id & abund & abund\\_rel\\\\\n",
       " <chr> & <chr> & <dbl> & <dbl>\\\\\n",
       "\\hline\n",
       "\t sample\\_1 & asv1  &  1 & 0.025000000\\\\\n",
       "\t sample\\_1 & asv2  &  0 & 0.000000000\\\\\n",
       "\t sample\\_1 & asv3  &  0 & 0.000000000\\\\\n",
       "\t sample\\_1 & asv4  &  0 & 0.000000000\\\\\n",
       "\t sample\\_1 & asv5  & 10 & 0.250000000\\\\\n",
       "\t sample\\_1 & asv6  & 10 & 0.250000000\\\\\n",
       "\t sample\\_1 & asv7  & 15 & 0.375000000\\\\\n",
       "\t sample\\_1 & asv8  &  0 & 0.000000000\\\\\n",
       "\t sample\\_1 & asv9  &  1 & 0.025000000\\\\\n",
       "\t sample\\_1 & asv10 &  3 & 0.075000000\\\\\n",
       "\t sample\\_2 & asv1  &  0 & 0.000000000\\\\\n",
       "\t sample\\_2 & asv2  &  1 & 0.020833333\\\\\n",
       "\t sample\\_2 & asv3  & 10 & 0.208333333\\\\\n",
       "\t sample\\_2 & asv4  &  0 & 0.000000000\\\\\n",
       "\t sample\\_2 & asv5  & 30 & 0.625000000\\\\\n",
       "\t sample\\_2 & asv6  &  1 & 0.020833333\\\\\n",
       "\t sample\\_2 & asv7  &  4 & 0.083333333\\\\\n",
       "\t sample\\_2 & asv8  &  0 & 0.000000000\\\\\n",
       "\t sample\\_2 & asv9  &  0 & 0.000000000\\\\\n",
       "\t sample\\_2 & asv10 &  2 & 0.041666667\\\\\n",
       "\t sample\\_3 & asv1  & 10 & 0.090909091\\\\\n",
       "\t sample\\_3 & asv2  & 12 & 0.109090909\\\\\n",
       "\t sample\\_3 & asv3  & 11 & 0.100000000\\\\\n",
       "\t sample\\_3 & asv4  & 20 & 0.181818182\\\\\n",
       "\t sample\\_3 & asv5  & 50 & 0.454545455\\\\\n",
       "\t sample\\_3 & asv6  &  1 & 0.009090909\\\\\n",
       "\t sample\\_3 & asv7  &  6 & 0.054545455\\\\\n",
       "\t sample\\_3 & asv8  &  0 & 0.000000000\\\\\n",
       "\t sample\\_3 & asv9  &  0 & 0.000000000\\\\\n",
       "\t sample\\_3 & asv10 &  0 & 0.000000000\\\\\n",
       "\\end{tabular}\n"
      ],
      "text/markdown": [
       "\n",
       "A grouped_df: 30 × 4\n",
       "\n",
       "| sample &lt;chr&gt; | asv_id &lt;chr&gt; | abund &lt;dbl&gt; | abund_rel &lt;dbl&gt; |\n",
       "|---|---|---|---|\n",
       "| sample_1 | asv1  |  1 | 0.025000000 |\n",
       "| sample_1 | asv2  |  0 | 0.000000000 |\n",
       "| sample_1 | asv3  |  0 | 0.000000000 |\n",
       "| sample_1 | asv4  |  0 | 0.000000000 |\n",
       "| sample_1 | asv5  | 10 | 0.250000000 |\n",
       "| sample_1 | asv6  | 10 | 0.250000000 |\n",
       "| sample_1 | asv7  | 15 | 0.375000000 |\n",
       "| sample_1 | asv8  |  0 | 0.000000000 |\n",
       "| sample_1 | asv9  |  1 | 0.025000000 |\n",
       "| sample_1 | asv10 |  3 | 0.075000000 |\n",
       "| sample_2 | asv1  |  0 | 0.000000000 |\n",
       "| sample_2 | asv2  |  1 | 0.020833333 |\n",
       "| sample_2 | asv3  | 10 | 0.208333333 |\n",
       "| sample_2 | asv4  |  0 | 0.000000000 |\n",
       "| sample_2 | asv5  | 30 | 0.625000000 |\n",
       "| sample_2 | asv6  |  1 | 0.020833333 |\n",
       "| sample_2 | asv7  |  4 | 0.083333333 |\n",
       "| sample_2 | asv8  |  0 | 0.000000000 |\n",
       "| sample_2 | asv9  |  0 | 0.000000000 |\n",
       "| sample_2 | asv10 |  2 | 0.041666667 |\n",
       "| sample_3 | asv1  | 10 | 0.090909091 |\n",
       "| sample_3 | asv2  | 12 | 0.109090909 |\n",
       "| sample_3 | asv3  | 11 | 0.100000000 |\n",
       "| sample_3 | asv4  | 20 | 0.181818182 |\n",
       "| sample_3 | asv5  | 50 | 0.454545455 |\n",
       "| sample_3 | asv6  |  1 | 0.009090909 |\n",
       "| sample_3 | asv7  |  6 | 0.054545455 |\n",
       "| sample_3 | asv8  |  0 | 0.000000000 |\n",
       "| sample_3 | asv9  |  0 | 0.000000000 |\n",
       "| sample_3 | asv10 |  0 | 0.000000000 |\n",
       "\n"
      ],
      "text/plain": [
       "   sample   asv_id abund abund_rel  \n",
       "1  sample_1 asv1    1    0.025000000\n",
       "2  sample_1 asv2    0    0.000000000\n",
       "3  sample_1 asv3    0    0.000000000\n",
       "4  sample_1 asv4    0    0.000000000\n",
       "5  sample_1 asv5   10    0.250000000\n",
       "6  sample_1 asv6   10    0.250000000\n",
       "7  sample_1 asv7   15    0.375000000\n",
       "8  sample_1 asv8    0    0.000000000\n",
       "9  sample_1 asv9    1    0.025000000\n",
       "10 sample_1 asv10   3    0.075000000\n",
       "11 sample_2 asv1    0    0.000000000\n",
       "12 sample_2 asv2    1    0.020833333\n",
       "13 sample_2 asv3   10    0.208333333\n",
       "14 sample_2 asv4    0    0.000000000\n",
       "15 sample_2 asv5   30    0.625000000\n",
       "16 sample_2 asv6    1    0.020833333\n",
       "17 sample_2 asv7    4    0.083333333\n",
       "18 sample_2 asv8    0    0.000000000\n",
       "19 sample_2 asv9    0    0.000000000\n",
       "20 sample_2 asv10   2    0.041666667\n",
       "21 sample_3 asv1   10    0.090909091\n",
       "22 sample_3 asv2   12    0.109090909\n",
       "23 sample_3 asv3   11    0.100000000\n",
       "24 sample_3 asv4   20    0.181818182\n",
       "25 sample_3 asv5   50    0.454545455\n",
       "26 sample_3 asv6    1    0.009090909\n",
       "27 sample_3 asv7    6    0.054545455\n",
       "28 sample_3 asv8    0    0.000000000\n",
       "29 sample_3 asv9    0    0.000000000\n",
       "30 sample_3 asv10   0    0.000000000"
      ]
     },
     "metadata": {},
     "output_type": "display_data"
    }
   ],
   "source": [
    "X_asvs_tidy %>% \n",
    "    group_by(sample) %>% \n",
    "    mutate(abund_rel = abund/sum(abund))"
   ]
  },
  {
   "cell_type": "markdown",
   "id": "1e7dc6a5-1f33-4289-8817-6e5f241bd8fd",
   "metadata": {
    "tags": []
   },
   "source": [
    "Ahora utilizando la funciones `group_by` y `mutate` vamos a computar la abundancia relativa.\n",
    "Como ejemplo de `summarize` vamos a computar la abundancia promedio de cada ASV por muestra."
   ]
  },
  {
   "cell_type": "code",
   "execution_count": 59,
   "id": "0cfe0798-57c7-47d9-ac26-816d4e7ad6e7",
   "metadata": {
    "tags": []
   },
   "outputs": [
    {
     "data": {
      "text/html": [
       "<table class=\"dataframe\">\n",
       "<caption>A tibble: 3 × 2</caption>\n",
       "<thead>\n",
       "\t<tr><th scope=col>sample</th><th scope=col>abund_mean</th></tr>\n",
       "\t<tr><th scope=col>&lt;chr&gt;</th><th scope=col>&lt;dbl&gt;</th></tr>\n",
       "</thead>\n",
       "<tbody>\n",
       "\t<tr><td>sample_1</td><td> 4.0</td></tr>\n",
       "\t<tr><td>sample_2</td><td> 4.8</td></tr>\n",
       "\t<tr><td>sample_3</td><td>11.0</td></tr>\n",
       "</tbody>\n",
       "</table>\n"
      ],
      "text/latex": [
       "A tibble: 3 × 2\n",
       "\\begin{tabular}{ll}\n",
       " sample & abund\\_mean\\\\\n",
       " <chr> & <dbl>\\\\\n",
       "\\hline\n",
       "\t sample\\_1 &  4.0\\\\\n",
       "\t sample\\_2 &  4.8\\\\\n",
       "\t sample\\_3 & 11.0\\\\\n",
       "\\end{tabular}\n"
      ],
      "text/markdown": [
       "\n",
       "A tibble: 3 × 2\n",
       "\n",
       "| sample &lt;chr&gt; | abund_mean &lt;dbl&gt; |\n",
       "|---|---|\n",
       "| sample_1 |  4.0 |\n",
       "| sample_2 |  4.8 |\n",
       "| sample_3 | 11.0 |\n",
       "\n"
      ],
      "text/plain": [
       "  sample   abund_mean\n",
       "1 sample_1  4.0      \n",
       "2 sample_2  4.8      \n",
       "3 sample_3 11.0      "
      ]
     },
     "metadata": {},
     "output_type": "display_data"
    }
   ],
   "source": [
    "X_asvs_tidy %>% \n",
    "    group_by(sample) %>% \n",
    "    summarize(abund_mean = mean(abund))"
   ]
  },
  {
   "cell_type": "markdown",
   "id": "14c44def-d2cf-43d7-aae4-65e900eea2b4",
   "metadata": {},
   "source": [
    "Te proponemos como ejercicio seleccionar todos los ASVs con una abundancia mayor a 1 y computar la riqueza  por muestra (es decir, el número de ASVs distintos)."
   ]
  },
  {
   "cell_type": "markdown",
   "id": "8f917897-2303-431b-b679-c79b05d14c85",
   "metadata": {
    "tags": []
   },
   "source": [
    "**left_join, right_join, inner_join y full_join**"
   ]
  },
  {
   "cell_type": "markdown",
   "id": "1e48b545-a65f-49e6-a4fd-2829513e9aac",
   "metadata": {},
   "source": [
    "Las funciones [join](https://dplyr.tidyverse.org/reference/mutate-joins.html) del paquete `tidyverse` son otras de las funciones especialmente útiles que merecen ser destacadas. Estas nos permiten cruzar tablas, es decir, juntar dos tablas utilizando una o más variables que permitan identificar cómo se corresponden fila a fila estas dos tablas."
   ]
  },
  {
   "cell_type": "markdown",
   "id": "5460a6ed-e6ad-4137-81b5-61db8c96535d",
   "metadata": {},
   "source": [
    "Supongamos que vamos a cruzar las tablas `X` e `Y`, el comportamiento de cada uno de estos _joins_ es el siguiente:"
   ]
  },
  {
   "cell_type": "markdown",
   "id": "3b4ea44b-dd40-476c-8d02-deafa1536b44",
   "metadata": {
    "tags": []
   },
   "source": [
    " - `inner_join(x = X, y = Y)`, mantiene sólo las observaciones de `X` identificadas en `Y`.  \n",
    " - `left_join(x = X, y = Y)`, mantiene todas las observaciones de `X`, independientemente si estas pueden ser identificadas en `Y`.\n",
    " - `right_join(x = X, y = Y)`, mantiene todas las observaciones de `Y`, independientemente si estas pueden ser identificadas en `X`.\n",
    " - `full_join(x = X, y = Y)`, mantiene todas las observaciones de `X` e `Y`.  "
   ]
  },
  {
   "cell_type": "markdown",
   "id": "3ab7cfa4-c795-4a08-a8d5-f2698c399d3b",
   "metadata": {
    "tags": []
   },
   "source": [
    "¿Se entiende?"
   ]
  },
  {
   "cell_type": "markdown",
   "id": "6f480399-c22d-47f8-8cc3-6579d43863ea",
   "metadata": {},
   "source": [
    "Vamos al ejemplo: Supongamos que para nuestra tabla de `X_asvs` tenemos una tabla de metadata llamada `Y` que nos indica si la muestra fue tomada de una laguna o un arroyo."
   ]
  },
  {
   "cell_type": "code",
   "execution_count": 60,
   "id": "a8f33bdc-cb50-4973-8104-599379ae4a2b",
   "metadata": {
    "tags": []
   },
   "outputs": [],
   "source": [
    "Y <- data.frame(sample = c(\"sample_1\", \"sample_2\", \"sample_3\"), \n",
    "                sistema = c(\"laguna\", \"laguna\", \"arroyo\"))"
   ]
  },
  {
   "cell_type": "markdown",
   "id": "af1835a9-48e3-434b-ab30-1f186aca2ed9",
   "metadata": {},
   "source": [
    "Ahora vamos a mapear el ambiente a la tabla `X_asvs_tidy`."
   ]
  },
  {
   "cell_type": "code",
   "execution_count": 61,
   "id": "765a2998-d2e6-4075-8b2f-f6f2c83c6b6a",
   "metadata": {
    "tags": []
   },
   "outputs": [
    {
     "data": {
      "text/html": [
       "<table class=\"dataframe\">\n",
       "<caption>A tibble: 30 × 4</caption>\n",
       "<thead>\n",
       "\t<tr><th scope=col>sample</th><th scope=col>asv_id</th><th scope=col>abund</th><th scope=col>sistema</th></tr>\n",
       "\t<tr><th scope=col>&lt;chr&gt;</th><th scope=col>&lt;chr&gt;</th><th scope=col>&lt;dbl&gt;</th><th scope=col>&lt;chr&gt;</th></tr>\n",
       "</thead>\n",
       "<tbody>\n",
       "\t<tr><td>sample_1</td><td>asv1 </td><td> 1</td><td>laguna</td></tr>\n",
       "\t<tr><td>sample_1</td><td>asv2 </td><td> 0</td><td>laguna</td></tr>\n",
       "\t<tr><td>sample_1</td><td>asv3 </td><td> 0</td><td>laguna</td></tr>\n",
       "\t<tr><td>sample_1</td><td>asv4 </td><td> 0</td><td>laguna</td></tr>\n",
       "\t<tr><td>sample_1</td><td>asv5 </td><td>10</td><td>laguna</td></tr>\n",
       "\t<tr><td>sample_1</td><td>asv6 </td><td>10</td><td>laguna</td></tr>\n",
       "\t<tr><td>sample_1</td><td>asv7 </td><td>15</td><td>laguna</td></tr>\n",
       "\t<tr><td>sample_1</td><td>asv8 </td><td> 0</td><td>laguna</td></tr>\n",
       "\t<tr><td>sample_1</td><td>asv9 </td><td> 1</td><td>laguna</td></tr>\n",
       "\t<tr><td>sample_1</td><td>asv10</td><td> 3</td><td>laguna</td></tr>\n",
       "\t<tr><td>sample_2</td><td>asv1 </td><td> 0</td><td>laguna</td></tr>\n",
       "\t<tr><td>sample_2</td><td>asv2 </td><td> 1</td><td>laguna</td></tr>\n",
       "\t<tr><td>sample_2</td><td>asv3 </td><td>10</td><td>laguna</td></tr>\n",
       "\t<tr><td>sample_2</td><td>asv4 </td><td> 0</td><td>laguna</td></tr>\n",
       "\t<tr><td>sample_2</td><td>asv5 </td><td>30</td><td>laguna</td></tr>\n",
       "\t<tr><td>sample_2</td><td>asv6 </td><td> 1</td><td>laguna</td></tr>\n",
       "\t<tr><td>sample_2</td><td>asv7 </td><td> 4</td><td>laguna</td></tr>\n",
       "\t<tr><td>sample_2</td><td>asv8 </td><td> 0</td><td>laguna</td></tr>\n",
       "\t<tr><td>sample_2</td><td>asv9 </td><td> 0</td><td>laguna</td></tr>\n",
       "\t<tr><td>sample_2</td><td>asv10</td><td> 2</td><td>laguna</td></tr>\n",
       "\t<tr><td>sample_3</td><td>asv1 </td><td>10</td><td>arroyo</td></tr>\n",
       "\t<tr><td>sample_3</td><td>asv2 </td><td>12</td><td>arroyo</td></tr>\n",
       "\t<tr><td>sample_3</td><td>asv3 </td><td>11</td><td>arroyo</td></tr>\n",
       "\t<tr><td>sample_3</td><td>asv4 </td><td>20</td><td>arroyo</td></tr>\n",
       "\t<tr><td>sample_3</td><td>asv5 </td><td>50</td><td>arroyo</td></tr>\n",
       "\t<tr><td>sample_3</td><td>asv6 </td><td> 1</td><td>arroyo</td></tr>\n",
       "\t<tr><td>sample_3</td><td>asv7 </td><td> 6</td><td>arroyo</td></tr>\n",
       "\t<tr><td>sample_3</td><td>asv8 </td><td> 0</td><td>arroyo</td></tr>\n",
       "\t<tr><td>sample_3</td><td>asv9 </td><td> 0</td><td>arroyo</td></tr>\n",
       "\t<tr><td>sample_3</td><td>asv10</td><td> 0</td><td>arroyo</td></tr>\n",
       "</tbody>\n",
       "</table>\n"
      ],
      "text/latex": [
       "A tibble: 30 × 4\n",
       "\\begin{tabular}{llll}\n",
       " sample & asv\\_id & abund & sistema\\\\\n",
       " <chr> & <chr> & <dbl> & <chr>\\\\\n",
       "\\hline\n",
       "\t sample\\_1 & asv1  &  1 & laguna\\\\\n",
       "\t sample\\_1 & asv2  &  0 & laguna\\\\\n",
       "\t sample\\_1 & asv3  &  0 & laguna\\\\\n",
       "\t sample\\_1 & asv4  &  0 & laguna\\\\\n",
       "\t sample\\_1 & asv5  & 10 & laguna\\\\\n",
       "\t sample\\_1 & asv6  & 10 & laguna\\\\\n",
       "\t sample\\_1 & asv7  & 15 & laguna\\\\\n",
       "\t sample\\_1 & asv8  &  0 & laguna\\\\\n",
       "\t sample\\_1 & asv9  &  1 & laguna\\\\\n",
       "\t sample\\_1 & asv10 &  3 & laguna\\\\\n",
       "\t sample\\_2 & asv1  &  0 & laguna\\\\\n",
       "\t sample\\_2 & asv2  &  1 & laguna\\\\\n",
       "\t sample\\_2 & asv3  & 10 & laguna\\\\\n",
       "\t sample\\_2 & asv4  &  0 & laguna\\\\\n",
       "\t sample\\_2 & asv5  & 30 & laguna\\\\\n",
       "\t sample\\_2 & asv6  &  1 & laguna\\\\\n",
       "\t sample\\_2 & asv7  &  4 & laguna\\\\\n",
       "\t sample\\_2 & asv8  &  0 & laguna\\\\\n",
       "\t sample\\_2 & asv9  &  0 & laguna\\\\\n",
       "\t sample\\_2 & asv10 &  2 & laguna\\\\\n",
       "\t sample\\_3 & asv1  & 10 & arroyo\\\\\n",
       "\t sample\\_3 & asv2  & 12 & arroyo\\\\\n",
       "\t sample\\_3 & asv3  & 11 & arroyo\\\\\n",
       "\t sample\\_3 & asv4  & 20 & arroyo\\\\\n",
       "\t sample\\_3 & asv5  & 50 & arroyo\\\\\n",
       "\t sample\\_3 & asv6  &  1 & arroyo\\\\\n",
       "\t sample\\_3 & asv7  &  6 & arroyo\\\\\n",
       "\t sample\\_3 & asv8  &  0 & arroyo\\\\\n",
       "\t sample\\_3 & asv9  &  0 & arroyo\\\\\n",
       "\t sample\\_3 & asv10 &  0 & arroyo\\\\\n",
       "\\end{tabular}\n"
      ],
      "text/markdown": [
       "\n",
       "A tibble: 30 × 4\n",
       "\n",
       "| sample &lt;chr&gt; | asv_id &lt;chr&gt; | abund &lt;dbl&gt; | sistema &lt;chr&gt; |\n",
       "|---|---|---|---|\n",
       "| sample_1 | asv1  |  1 | laguna |\n",
       "| sample_1 | asv2  |  0 | laguna |\n",
       "| sample_1 | asv3  |  0 | laguna |\n",
       "| sample_1 | asv4  |  0 | laguna |\n",
       "| sample_1 | asv5  | 10 | laguna |\n",
       "| sample_1 | asv6  | 10 | laguna |\n",
       "| sample_1 | asv7  | 15 | laguna |\n",
       "| sample_1 | asv8  |  0 | laguna |\n",
       "| sample_1 | asv9  |  1 | laguna |\n",
       "| sample_1 | asv10 |  3 | laguna |\n",
       "| sample_2 | asv1  |  0 | laguna |\n",
       "| sample_2 | asv2  |  1 | laguna |\n",
       "| sample_2 | asv3  | 10 | laguna |\n",
       "| sample_2 | asv4  |  0 | laguna |\n",
       "| sample_2 | asv5  | 30 | laguna |\n",
       "| sample_2 | asv6  |  1 | laguna |\n",
       "| sample_2 | asv7  |  4 | laguna |\n",
       "| sample_2 | asv8  |  0 | laguna |\n",
       "| sample_2 | asv9  |  0 | laguna |\n",
       "| sample_2 | asv10 |  2 | laguna |\n",
       "| sample_3 | asv1  | 10 | arroyo |\n",
       "| sample_3 | asv2  | 12 | arroyo |\n",
       "| sample_3 | asv3  | 11 | arroyo |\n",
       "| sample_3 | asv4  | 20 | arroyo |\n",
       "| sample_3 | asv5  | 50 | arroyo |\n",
       "| sample_3 | asv6  |  1 | arroyo |\n",
       "| sample_3 | asv7  |  6 | arroyo |\n",
       "| sample_3 | asv8  |  0 | arroyo |\n",
       "| sample_3 | asv9  |  0 | arroyo |\n",
       "| sample_3 | asv10 |  0 | arroyo |\n",
       "\n"
      ],
      "text/plain": [
       "   sample   asv_id abund sistema\n",
       "1  sample_1 asv1    1    laguna \n",
       "2  sample_1 asv2    0    laguna \n",
       "3  sample_1 asv3    0    laguna \n",
       "4  sample_1 asv4    0    laguna \n",
       "5  sample_1 asv5   10    laguna \n",
       "6  sample_1 asv6   10    laguna \n",
       "7  sample_1 asv7   15    laguna \n",
       "8  sample_1 asv8    0    laguna \n",
       "9  sample_1 asv9    1    laguna \n",
       "10 sample_1 asv10   3    laguna \n",
       "11 sample_2 asv1    0    laguna \n",
       "12 sample_2 asv2    1    laguna \n",
       "13 sample_2 asv3   10    laguna \n",
       "14 sample_2 asv4    0    laguna \n",
       "15 sample_2 asv5   30    laguna \n",
       "16 sample_2 asv6    1    laguna \n",
       "17 sample_2 asv7    4    laguna \n",
       "18 sample_2 asv8    0    laguna \n",
       "19 sample_2 asv9    0    laguna \n",
       "20 sample_2 asv10   2    laguna \n",
       "21 sample_3 asv1   10    arroyo \n",
       "22 sample_3 asv2   12    arroyo \n",
       "23 sample_3 asv3   11    arroyo \n",
       "24 sample_3 asv4   20    arroyo \n",
       "25 sample_3 asv5   50    arroyo \n",
       "26 sample_3 asv6    1    arroyo \n",
       "27 sample_3 asv7    6    arroyo \n",
       "28 sample_3 asv8    0    arroyo \n",
       "29 sample_3 asv9    0    arroyo \n",
       "30 sample_3 asv10   0    arroyo "
      ]
     },
     "metadata": {},
     "output_type": "display_data"
    }
   ],
   "source": [
    "left_join(x = X_asvs_tidy, y = Y, by = \"sample\")"
   ]
  },
  {
   "cell_type": "markdown",
   "id": "97defcf6-c8d5-4552-b22c-37f69cab1163",
   "metadata": {},
   "source": [
    "¿Cambiaría el resultado si utilizamos algún otro de las funciones _join_?"
   ]
  },
  {
   "cell_type": "markdown",
   "id": "4bc0daa4-fc20-4c48-862a-d289e41b6e9a",
   "metadata": {
    "tags": []
   },
   "source": [
    "Estudiar las funciones y facilidades que ofrece `tidyverse` es una inversión de tiempo que verás compensada rápidamente. Existe mucha documentación en internet, pero posiblemente lo más conveniente sea comenzar por la [documentación oficial](https://www.tidyverse.org/).  "
   ]
  }
 ],
 "metadata": {
  "kernelspec": {
   "display_name": "R",
   "language": "R",
   "name": "ir"
  },
  "language_info": {
   "codemirror_mode": "r",
   "file_extension": ".r",
   "mimetype": "text/x-r-source",
   "name": "R",
   "pygments_lexer": "r",
   "version": "4.2.2"
  }
 },
 "nbformat": 4,
 "nbformat_minor": 5
}
