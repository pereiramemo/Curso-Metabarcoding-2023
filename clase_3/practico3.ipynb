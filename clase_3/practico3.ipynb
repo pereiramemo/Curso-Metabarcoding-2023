{
 "cells": [
  {
   "cell_type": "markdown",
   "id": "0bbc9f5a-627b-42dd-a012-0b97c73fc79d",
   "metadata": {},
   "source": [
    "***\n",
    "# **Práctico 3**\n",
    "***"
   ]
  },
  {
   "cell_type": "markdown",
   "id": "4f1b9ba4-b45b-4ea4-badd-8964fbb68d36",
   "metadata": {},
   "source": [
    "En este práctico estaremos realizando el preprocesamiento de datos, identificación de ASVs con [DADA2](https://benjjneb.github.io/dada2/), anotación taxonómica, e incluiremos además algunas visualizaciones."
   ]
  },
  {
   "cell_type": "markdown",
   "id": "38489d1f-02bb-491c-8162-d6e7370c206d",
   "metadata": {},
   "source": [
    "---\n",
    "Las tareas a realizar son las siguientes:\n",
    " 1. Instalación de dependencias\n",
    " 2. Definición de funciones\n",
    " 3. Ubicación de datos\n",
    " 4. Eliminación de primers\n",
    " 5. Control de calidad\n",
    " 6. Modelado de errores\n",
    " 7. Dereplicado\n",
    " 8. Identificación de ASVs\n",
    " 9. Ensamblado de secuencias pares\n",
    " 10. Creación de la matriz de abundancias\n",
    " 11. Eliminación de bimeras\n",
    " 12. Rastreo de secuencias\n",
    " 13. Anotación taxonómica\n",
    "--- "
   ]
  },
  {
   "cell_type": "markdown",
   "id": "a146fd7a-b762-4653-859a-74e1d46c0c7c",
   "metadata": {},
   "source": [
    "---\n",
    "### 1. Instalación de dependencias\n",
    "---"
   ]
  },
  {
   "cell_type": "markdown",
   "id": "c1b7965e-3b71-4fb4-8e96-781b67896d36",
   "metadata": {
    "tags": []
   },
   "source": [
    "Vamos primero que nada vamos a instalar las dependencias que precisamos en este flujo de trabajo."
   ]
  },
  {
   "cell_type": "markdown",
   "id": "d3fdca1d-f60b-41f4-a120-24b708fb8756",
   "metadata": {
    "tags": []
   },
   "source": [
    "- [cutadapt](https://cutadapt.readthedocs.io/en/stable/)  \n",
    "- [BiocManager](https://cran.r-project.org/web/packages/BiocManager/index.html)  \n",
    "- [DADA2](https://bioconductor.org/packages/release/bioc/html/dada2.html)  \n",
    "- [ShortRead](https://bioconductor.org/packages/release/bioc/html/ShortRead.html)  \n",
    "- [Biostrings](https://bioconductor.org/packages/release/bioc/html/Biostrings.html)  \n",
    "- [tidyverse](https://www.tidyverse.org/)  \n",
    "- [doParallel](https://cran.r-project.org/web/packages/doParallel/index.html)"
   ]
  },
  {
   "cell_type": "markdown",
   "id": "df2ee6dd-a98e-43b6-b885-21acbcaa3083",
   "metadata": {},
   "source": [
    "Para quienes estén trabajando en el servidor del CURE, no será necesario realizar las instalaciones. Ya está todo instalado."
   ]
  },
  {
   "cell_type": "markdown",
   "id": "f3f7a671-53ad-46b7-854d-23a655ca497d",
   "metadata": {},
   "source": [
    "Empezamos con [cutadapt](https://cutadapt.readthedocs.io/en/stable/), la cual puedes instalar simplemente con el comando `sudo apt install cutadapt` o `pip install cutadapt`.  Existen otras opciones que puedes ver [acá](https://cutadapt.readthedocs.io/en/stable/installation.html)."
   ]
  },
  {
   "cell_type": "markdown",
   "id": "1d0c3e91-0c9c-48f9-83e8-64b0b4bb0062",
   "metadata": {},
   "source": [
    "Ahora vamos a hacer las instalaciones de todos los paquetes desde R."
   ]
  },
  {
   "cell_type": "markdown",
   "id": "c2a20258-e36b-402f-8896-a552ba563e20",
   "metadata": {},
   "source": [
    "Primero BiocManager, el cual nos permitirá instalar paquetes de bioconductor."
   ]
  },
  {
   "cell_type": "code",
   "execution_count": 1,
   "id": "506b0962-071b-4e8e-af0f-2761300c0490",
   "metadata": {
    "tags": []
   },
   "outputs": [],
   "source": [
    "# install.packages(\"BiocManager\")"
   ]
  },
  {
   "cell_type": "markdown",
   "id": "4a12110c-f3e2-47fc-a93c-cb8172dd8103",
   "metadata": {
    "tags": []
   },
   "source": [
    "Ahora podemos instalar DADA2, Biostrings y ShortRead."
   ]
  },
  {
   "cell_type": "code",
   "execution_count": 2,
   "id": "343b6cc4-f561-45bf-8ed8-9e4fc52fd2d3",
   "metadata": {},
   "outputs": [],
   "source": [
    "# BiocManager::install(\"dada2\")"
   ]
  },
  {
   "cell_type": "code",
   "execution_count": 3,
   "id": "8c8ec88d-fc2d-4dbf-a78d-6dd4ec9be377",
   "metadata": {},
   "outputs": [],
   "source": [
    "# BiocManager::install(\"Biostrings\")"
   ]
  },
  {
   "cell_type": "code",
   "execution_count": 4,
   "id": "3eb5e6e0-7399-4ea8-8eab-5315a3ca341b",
   "metadata": {},
   "outputs": [],
   "source": [
    "# BiocManager::install(\"ShortRead\")"
   ]
  },
  {
   "cell_type": "markdown",
   "id": "b7874735-cfbd-46b5-9eef-4918d678a630",
   "metadata": {},
   "source": [
    "[tidyverse](https://www.tidyverse.org/) y [doParallel](https://cran.r-project.org/web/packages/doParallel/index.html) los podemos instalar directo del [CRAN](https://cran.r-project.org/)."
   ]
  },
  {
   "cell_type": "code",
   "execution_count": 5,
   "id": "bd083782-a94a-4df8-a371-63448fdcbd36",
   "metadata": {},
   "outputs": [],
   "source": [
    "# install.packages(\"tidyverse\")"
   ]
  },
  {
   "cell_type": "code",
   "execution_count": 6,
   "id": "529b1a97-d6dd-43fb-95fd-b280dcbde2d8",
   "metadata": {},
   "outputs": [],
   "source": [
    "# install.packages(\"doParallel\")"
   ]
  },
  {
   "cell_type": "markdown",
   "id": "b68529f4-09f7-4d39-9ef6-d752423c6783",
   "metadata": {},
   "source": [
    "Una vez instaladas todas las funciones, las cargamos a nuestro ambiente:"
   ]
  },
  {
   "cell_type": "code",
   "execution_count": 7,
   "id": "1c366b1d-a665-4f69-a4b2-ea5479ff2cb3",
   "metadata": {
    "tags": []
   },
   "outputs": [
    {
     "name": "stderr",
     "output_type": "stream",
     "text": [
      "Loading required package: Rcpp\n",
      "\n",
      "Loading required package: BiocGenerics\n",
      "\n",
      "\n",
      "Attaching package: ‘BiocGenerics’\n",
      "\n",
      "\n",
      "The following objects are masked from ‘package:stats’:\n",
      "\n",
      "    IQR, mad, sd, var, xtabs\n",
      "\n",
      "\n",
      "The following objects are masked from ‘package:base’:\n",
      "\n",
      "    anyDuplicated, aperm, append, as.data.frame, basename, cbind,\n",
      "    colnames, dirname, do.call, duplicated, eval, evalq, Filter, Find,\n",
      "    get, grep, grepl, intersect, is.unsorted, lapply, Map, mapply,\n",
      "    match, mget, order, paste, pmax, pmax.int, pmin, pmin.int,\n",
      "    Position, rank, rbind, Reduce, rownames, sapply, setdiff, sort,\n",
      "    table, tapply, union, unique, unsplit, which.max, which.min\n",
      "\n",
      "\n",
      "Loading required package: S4Vectors\n",
      "\n",
      "Loading required package: stats4\n",
      "\n",
      "\n",
      "Attaching package: ‘S4Vectors’\n",
      "\n",
      "\n",
      "The following objects are masked from ‘package:base’:\n",
      "\n",
      "    expand.grid, I, unname\n",
      "\n",
      "\n",
      "Loading required package: IRanges\n",
      "\n",
      "Loading required package: XVector\n",
      "\n",
      "Loading required package: GenomeInfoDb\n",
      "\n",
      "\n",
      "Attaching package: ‘Biostrings’\n",
      "\n",
      "\n",
      "The following object is masked from ‘package:base’:\n",
      "\n",
      "    strsplit\n",
      "\n",
      "\n",
      "Loading required package: BiocParallel\n",
      "\n",
      "Loading required package: Rsamtools\n",
      "\n",
      "Loading required package: GenomicRanges\n",
      "\n",
      "Loading required package: GenomicAlignments\n",
      "\n",
      "Loading required package: SummarizedExperiment\n",
      "\n",
      "Loading required package: MatrixGenerics\n",
      "\n",
      "Loading required package: matrixStats\n",
      "\n",
      "\n",
      "Attaching package: ‘MatrixGenerics’\n",
      "\n",
      "\n",
      "The following objects are masked from ‘package:matrixStats’:\n",
      "\n",
      "    colAlls, colAnyNAs, colAnys, colAvgsPerRowSet, colCollapse,\n",
      "    colCounts, colCummaxs, colCummins, colCumprods, colCumsums,\n",
      "    colDiffs, colIQRDiffs, colIQRs, colLogSumExps, colMadDiffs,\n",
      "    colMads, colMaxs, colMeans2, colMedians, colMins, colOrderStats,\n",
      "    colProds, colQuantiles, colRanges, colRanks, colSdDiffs, colSds,\n",
      "    colSums2, colTabulates, colVarDiffs, colVars, colWeightedMads,\n",
      "    colWeightedMeans, colWeightedMedians, colWeightedSds,\n",
      "    colWeightedVars, rowAlls, rowAnyNAs, rowAnys, rowAvgsPerColSet,\n",
      "    rowCollapse, rowCounts, rowCummaxs, rowCummins, rowCumprods,\n",
      "    rowCumsums, rowDiffs, rowIQRDiffs, rowIQRs, rowLogSumExps,\n",
      "    rowMadDiffs, rowMads, rowMaxs, rowMeans2, rowMedians, rowMins,\n",
      "    rowOrderStats, rowProds, rowQuantiles, rowRanges, rowRanks,\n",
      "    rowSdDiffs, rowSds, rowSums2, rowTabulates, rowVarDiffs, rowVars,\n",
      "    rowWeightedMads, rowWeightedMeans, rowWeightedMedians,\n",
      "    rowWeightedSds, rowWeightedVars\n",
      "\n",
      "\n",
      "Loading required package: Biobase\n",
      "\n",
      "Welcome to Bioconductor\n",
      "\n",
      "    Vignettes contain introductory material; view with\n",
      "    'browseVignettes()'. To cite Bioconductor, see\n",
      "    'citation(\"Biobase\")', and for packages 'citation(\"pkgname\")'.\n",
      "\n",
      "\n",
      "\n",
      "Attaching package: ‘Biobase’\n",
      "\n",
      "\n",
      "The following object is masked from ‘package:MatrixGenerics’:\n",
      "\n",
      "    rowMedians\n",
      "\n",
      "\n",
      "The following objects are masked from ‘package:matrixStats’:\n",
      "\n",
      "    anyMissing, rowMedians\n",
      "\n",
      "\n",
      "── \u001b[1mAttaching core tidyverse packages\u001b[22m ─────────────────────────────────────────────────────────────────────────────────────────────────────────────────────────────────────────── tidyverse 2.0.0 ──\n",
      "\u001b[32m✔\u001b[39m \u001b[34mdplyr    \u001b[39m 1.1.2     \u001b[32m✔\u001b[39m \u001b[34mreadr    \u001b[39m 2.1.4\n",
      "\u001b[32m✔\u001b[39m \u001b[34mforcats  \u001b[39m 1.0.0     \u001b[32m✔\u001b[39m \u001b[34mstringr  \u001b[39m 1.5.0\n",
      "\u001b[32m✔\u001b[39m \u001b[34mggplot2  \u001b[39m 3.4.2     \u001b[32m✔\u001b[39m \u001b[34mtibble   \u001b[39m 3.2.1\n",
      "\u001b[32m✔\u001b[39m \u001b[34mlubridate\u001b[39m 1.9.2     \u001b[32m✔\u001b[39m \u001b[34mtidyr    \u001b[39m 1.3.0\n",
      "\u001b[32m✔\u001b[39m \u001b[34mpurrr    \u001b[39m 1.0.1     \n",
      "── \u001b[1mConflicts\u001b[22m ───────────────────────────────────────────────────────────────────────────────────────────────────────────────────────────────────────────────────────────── tidyverse_conflicts() ──\n",
      "\u001b[31m✖\u001b[39m \u001b[34mlubridate\u001b[39m::\u001b[32m%within%()\u001b[39m masks \u001b[34mIRanges\u001b[39m::%within%()\n",
      "\u001b[31m✖\u001b[39m \u001b[34mdplyr\u001b[39m::\u001b[32mcollapse()\u001b[39m     masks \u001b[34mBiostrings\u001b[39m::collapse(), \u001b[34mIRanges\u001b[39m::collapse()\n",
      "\u001b[31m✖\u001b[39m \u001b[34mdplyr\u001b[39m::\u001b[32mcombine()\u001b[39m      masks \u001b[34mBiobase\u001b[39m::combine(), \u001b[34mBiocGenerics\u001b[39m::combine()\n",
      "\u001b[31m✖\u001b[39m \u001b[34mpurrr\u001b[39m::\u001b[32mcompact()\u001b[39m      masks \u001b[34mXVector\u001b[39m::compact()\n",
      "\u001b[31m✖\u001b[39m \u001b[34mpurrr\u001b[39m::\u001b[32mcompose()\u001b[39m      masks \u001b[34mShortRead\u001b[39m::compose()\n",
      "\u001b[31m✖\u001b[39m \u001b[34mdplyr\u001b[39m::\u001b[32mcount()\u001b[39m        masks \u001b[34mmatrixStats\u001b[39m::count()\n",
      "\u001b[31m✖\u001b[39m \u001b[34mdplyr\u001b[39m::\u001b[32mdesc()\u001b[39m         masks \u001b[34mIRanges\u001b[39m::desc()\n",
      "\u001b[31m✖\u001b[39m \u001b[34mtidyr\u001b[39m::\u001b[32mexpand()\u001b[39m       masks \u001b[34mS4Vectors\u001b[39m::expand()\n",
      "\u001b[31m✖\u001b[39m \u001b[34mdplyr\u001b[39m::\u001b[32mfilter()\u001b[39m       masks \u001b[34mstats\u001b[39m::filter()\n",
      "\u001b[31m✖\u001b[39m \u001b[34mdplyr\u001b[39m::\u001b[32mfirst()\u001b[39m        masks \u001b[34mGenomicAlignments\u001b[39m::first(), \u001b[34mS4Vectors\u001b[39m::first()\n",
      "\u001b[31m✖\u001b[39m \u001b[34mdplyr\u001b[39m::\u001b[32mid()\u001b[39m           masks \u001b[34mShortRead\u001b[39m::id()\n",
      "\u001b[31m✖\u001b[39m \u001b[34mdplyr\u001b[39m::\u001b[32mlag()\u001b[39m          masks \u001b[34mstats\u001b[39m::lag()\n",
      "\u001b[31m✖\u001b[39m \u001b[34mdplyr\u001b[39m::\u001b[32mlast()\u001b[39m         masks \u001b[34mGenomicAlignments\u001b[39m::last()\n",
      "\u001b[31m✖\u001b[39m \u001b[34mggplot2\u001b[39m::\u001b[32mPosition()\u001b[39m   masks \u001b[34mBiocGenerics\u001b[39m::Position(), \u001b[34mbase\u001b[39m::Position()\n",
      "\u001b[31m✖\u001b[39m \u001b[34mpurrr\u001b[39m::\u001b[32mreduce()\u001b[39m       masks \u001b[34mGenomicRanges\u001b[39m::reduce(), \u001b[34mIRanges\u001b[39m::reduce()\n",
      "\u001b[31m✖\u001b[39m \u001b[34mdplyr\u001b[39m::\u001b[32mrename()\u001b[39m       masks \u001b[34mS4Vectors\u001b[39m::rename()\n",
      "\u001b[31m✖\u001b[39m \u001b[34mlubridate\u001b[39m::\u001b[32msecond()\u001b[39m   masks \u001b[34mGenomicAlignments\u001b[39m::second(), \u001b[34mS4Vectors\u001b[39m::second()\n",
      "\u001b[31m✖\u001b[39m \u001b[34mlubridate\u001b[39m::\u001b[32msecond<-()\u001b[39m masks \u001b[34mS4Vectors\u001b[39m::second<-()\n",
      "\u001b[31m✖\u001b[39m \u001b[34mdplyr\u001b[39m::\u001b[32mslice()\u001b[39m        masks \u001b[34mXVector\u001b[39m::slice(), \u001b[34mIRanges\u001b[39m::slice()\n",
      "\u001b[31m✖\u001b[39m \u001b[34mtibble\u001b[39m::\u001b[32mview()\u001b[39m        masks \u001b[34mShortRead\u001b[39m::view()\n",
      "\u001b[36mℹ\u001b[39m Use the conflicted package (\u001b[3m\u001b[34m<http://conflicted.r-lib.org/>\u001b[39m\u001b[23m) to force all conflicts to become errors\n",
      "Loading required package: foreach\n",
      "\n",
      "\n",
      "Attaching package: ‘foreach’\n",
      "\n",
      "\n",
      "The following objects are masked from ‘package:purrr’:\n",
      "\n",
      "    accumulate, when\n",
      "\n",
      "\n",
      "Loading required package: iterators\n",
      "\n",
      "Loading required package: parallel\n",
      "\n"
     ]
    }
   ],
   "source": [
    "library(dada2)\n",
    "library(Biostrings)\n",
    "library(ShortRead)\n",
    "library(tidyverse)\n",
    "library(doParallel)"
   ]
  },
  {
   "cell_type": "markdown",
   "id": "4cedf09d-a0c6-4b2b-af65-bd3cf332f186",
   "metadata": {
    "tags": []
   },
   "source": [
    "doParallel nos permite correr procesos en paralelo permitiendo reducir el tiempo de cómputo.  \n",
    "Para esto, luego cargar la librería, debemos especificar cuántos hilos vamos utilizar, lo que realizamos con el siguiente comando."
   ]
  },
  {
   "cell_type": "code",
   "execution_count": 8,
   "id": "755498e6-2188-41b4-8ce5-fa0445a2e641",
   "metadata": {
    "tags": []
   },
   "outputs": [],
   "source": [
    "registerDoParallel(cores = 4)"
   ]
  },
  {
   "cell_type": "markdown",
   "id": "14d45386-68df-4edd-a852-1585351bcf14",
   "metadata": {},
   "source": [
    "Puedes averiguar cuántos hilos tienes en tu computadora con la función [detectCores](https://www.rdocumentation.org/packages/parallel/versions/3.6.2/topics/detectCores)."
   ]
  },
  {
   "cell_type": "markdown",
   "id": "1c78a024-3b1a-47a5-b0b4-751071e6158b",
   "metadata": {
    "tags": []
   },
   "source": [
    "---\n",
    "### 2. Definición de funciones\n",
    "---"
   ]
  },
  {
   "cell_type": "markdown",
   "id": "096b169d-6b48-423d-909a-419dabd559e2",
   "metadata": {
    "tags": []
   },
   "source": [
    "Vamos a definirnos una funciones en R, muy útiles para la identificación y eliminación de _primers_.  \n",
    "Debo aclarar que el código que aparece abajo es una modificación de lo que aparece en el tutorial de [DADA2](https://benjjneb.github.io/dada2/tutorial_1_8.html)."
   ]
  },
  {
   "cell_type": "markdown",
   "id": "fa21742c-e835-4577-9669-64a062fe2904",
   "metadata": {},
   "source": [
    "**Función 1**: `all_orients`  \n",
    "Esta función lo que hace es, para cada secuencia de entrada (en nuestro caso un _primer_), genera su versión complementaria, reversa y reversa complementaria."
   ]
  },
  {
   "cell_type": "code",
   "execution_count": 9,
   "id": "3445e362-9132-4065-af55-8302aec22f7b",
   "metadata": {
    "tags": []
   },
   "outputs": [],
   "source": [
    "all_orients <- function(PRIMER) {\n",
    "  require(Biostrings)\n",
    "  DNA <- DNAString(PRIMER)  \n",
    "  orients <- c(Forward = DNA, \n",
    "               Complement = complement(DNA), \n",
    "               Reverse = reverse(DNA), \n",
    "               RevComp = reverseComplement(DNA))\n",
    "  return(sapply(orients, toString)) \n",
    "}"
   ]
  },
  {
   "cell_type": "markdown",
   "id": "b210788f-a095-4ca6-b2fb-15917c6a33cd",
   "metadata": {},
   "source": [
    "**Función 2**: `primer_hits`  \n",
    "Esta función cuenta el número de veces en que una secuencia problema (en nuestro caso un _primer_) es encontrada en una muestra de amplicones en formato fastq."
   ]
  },
  {
   "cell_type": "code",
   "execution_count": 10,
   "id": "56691a11-9855-40db-9af7-2577a345cbc2",
   "metadata": {
    "tags": []
   },
   "outputs": [],
   "source": [
    "primer_hits <- function(PRIMER, INPUT) {\n",
    "  require(ShortRead) \n",
    "  require(Biostrings) \n",
    "  nhits <- vcountPattern(pattern = PRIMER, \n",
    "                         subject = sread(readFastq(INPUT)), \n",
    "                         fixed = FALSE)\n",
    "  return(sum(nhits > 0))\n",
    "}"
   ]
  },
  {
   "cell_type": "markdown",
   "id": "6743e57c-c2b3-49ad-b484-d6533e6035c7",
   "metadata": {
    "tags": []
   },
   "source": [
    "**Función 3**: `run_cutadapt`  \n",
    "Como su nombre lo indica, esta función lo que hace es correr `cutadapt` desde R, lo que se conoce como _wrapper_."
   ]
  },
  {
   "cell_type": "markdown",
   "id": "35181077-a405-493e-a948-edcf6c50028b",
   "metadata": {},
   "source": [
    "Para definir esta función, primero vamos a averiguar dónde quedó instalada la herramienta `cutadapt` en nuestra computadora. Esto lo deberíamos correr desde la línea de comando, pero también lo podemos hacer desde R utilizando la función [system2](https://www.rdocumentation.org/packages/base/versions/3.6.2/topics/system2), como aparece abajo."
   ]
  },
  {
   "cell_type": "code",
   "execution_count": 11,
   "id": "2010f0b3-5193-47c3-a017-bc6ef0453aa3",
   "metadata": {
    "tags": []
   },
   "outputs": [],
   "source": [
    "cutadapt <- system2(\"which\", \"cutadapt\")"
   ]
  },
  {
   "cell_type": "markdown",
   "id": "51203e8a-2d69-472c-8808-a2ac1e174ab6",
   "metadata": {},
   "source": [
    "En el caso de haber instalado `cutadapt` con `sudo apt install cutadapt`, el comando con la función `system2` es lo mismo que:"
   ]
  },
  {
   "cell_type": "code",
   "execution_count": 12,
   "id": "396a9a2e-3132-4034-9b07-f187ecd04a77",
   "metadata": {
    "tags": []
   },
   "outputs": [],
   "source": [
    "cutadapt  <- \"/usr/bin/cutadapt\""
   ]
  },
  {
   "cell_type": "code",
   "execution_count": 13,
   "id": "47d83393-e9ee-4a5b-8090-0be9c5e80733",
   "metadata": {
    "tags": []
   },
   "outputs": [],
   "source": [
    "cutadapt_runner <- function(primer_fwd = PRIMER_FWD, \n",
    "                            primer_rev = PRIMER_REV, \n",
    "                            input_r1 = INPUT_R1, \n",
    "                            input_r2 = INPUT_R2, \n",
    "                            output_r1 = OUTPUT_R1, \n",
    "                            output_r2 = OUTPUT_R2,\n",
    "                            nslots = NSLOTS) {\n",
    "\n",
    "  primer_fwd_rc <- dada2::rc(primer_fwd) # rc is used instead of reverseComplement\n",
    "  primer_rev_rc <- dada2::rc(primer_rev) # to avoid converting data to DNAstring\n",
    "  # Trim FWD and the reverse-complement of REV off of R1 (forward reads)\n",
    "  R1_flags <- paste(\"-g\", primer_fwd, \"-a\", primer_rev_rc) \n",
    "  # Trim REV and the reverse-complement of FWD off of R2 (reverse reads)\n",
    "  R2_flags <- paste(\"-G\", primer_rev, \"-A\", primer_fwd_rc)\n",
    "  # Run Cutadapt\n",
    "  for(i in seq_along(input_r1)) {\n",
    "    system2(cutadapt, \n",
    "            args = c(R1_flags, R2_flags, \n",
    "                     \"-n\", 2,\n",
    "                     \"--minimum-length 1\",\n",
    "                     \"--cores\", nslots,\n",
    "                     \"-o\", output_r1[i], \n",
    "                     \"-p\", output_r2[i], \n",
    "                     input_r1[i], \n",
    "                     input_r2[i]))\n",
    "  }\n",
    "}"
   ]
  },
  {
   "cell_type": "markdown",
   "id": "90f6fd29-b499-40d8-bbe7-359ef8346841",
   "metadata": {},
   "source": [
    "Para entender estás primeras tres funciones, puedes consultar la ayuda de `cutadapt`."
   ]
  },
  {
   "cell_type": "markdown",
   "id": "1c03de4c-2d6e-4690-a79f-d87144cc0f5b",
   "metadata": {},
   "source": [
    "**Función 4**: `count_seqs`  \n",
    "Esta función permite contar el número de reads por secuencia."
   ]
  },
  {
   "cell_type": "code",
   "execution_count": 14,
   "id": "29865af1-fb87-4482-9bfb-690217578076",
   "metadata": {
    "tags": []
   },
   "outputs": [],
   "source": [
    "count_seqs <- function(p) {\n",
    "  n <- readFastq(p) %>% sread %>% as.character() %>% length()\n",
    "  sample <- basename(p) %>% sub(x = ., pattern = \"_R1.*\", replacement = \"\")\n",
    "  output <- data.frame(sample = sample, nseq = n)\n",
    "  return(output)\n",
    "}   "
   ]
  },
  {
   "cell_type": "markdown",
   "id": "a46e76d1-bbeb-4772-849b-e1929534366c",
   "metadata": {
    "tags": []
   },
   "source": [
    "---\n",
    "### 3. Ubicación de datos\n",
    "---"
   ]
  },
  {
   "cell_type": "markdown",
   "id": "4395f83c-0faf-4474-802b-f3c8d63ca30c",
   "metadata": {},
   "source": [
    "Dado que estamos trabajando en el ambiente de R, debemos antes de realizar cualquier análisis, poder ubicar los datos en nuestra computadora.  \n",
    "Para esto vamos a definir tres variables en R:  "
   ]
  },
  {
   "cell_type": "markdown",
   "id": "a48ffe65-4ab0-4101-99b2-0dc67f5e1eb9",
   "metadata": {
    "tags": []
   },
   "source": [
    "`INPUT_DIR`: el directorio donde se encuentran los archivos fastq.  \n",
    "`PATTERN_R1`: patrón en los nombres de los _reads_ R1.  \n",
    "`PATTERN_R2`: patrón en los nombres de los _reads_ R2."
   ]
  },
  {
   "cell_type": "markdown",
   "id": "a244515d-1509-4a38-ac66-def66c8b045f",
   "metadata": {
    "tags": []
   },
   "source": [
    "La función [getwd](https://www.rdocumentation.org/packages/base/versions/3.6.2/topics/getwd) nos puede ser útil para determinar la ruta relativa hacia nuestros datos (i.e., `INPUT_DIR`)."
   ]
  },
  {
   "cell_type": "code",
   "execution_count": 15,
   "id": "be3b8e81-20b9-4b7e-90fb-d081abf93dec",
   "metadata": {
    "tags": []
   },
   "outputs": [],
   "source": [
    "INPUT_DIR <- \"./data/raw/\""
   ]
  },
  {
   "cell_type": "code",
   "execution_count": 16,
   "id": "e91ebfa7-ed71-4179-8e5e-80ef50d9bddd",
   "metadata": {
    "tags": []
   },
   "outputs": [],
   "source": [
    "PATTERN_R1 <- \"_L001_R1_001_redu.fastq\""
   ]
  },
  {
   "cell_type": "code",
   "execution_count": 17,
   "id": "2b4b4829-38ac-4dc5-8ca4-2b9f862bdfbc",
   "metadata": {
    "tags": []
   },
   "outputs": [],
   "source": [
    "PATTERN_R2 <- \"_L001_R2_001_redu.fastq\""
   ]
  },
  {
   "cell_type": "markdown",
   "id": "89b1a1c9-3089-48e7-a173-55c6ddb75ec7",
   "metadata": {
    "tags": []
   },
   "source": [
    "Con la función [list.files](https://www.rdocumentation.org/packages/base/versions/3.6.2/topics/list.files) vamos crearnos dos vectores (_reads_ R1 y R2, resp.), donde se incluye la ruta para las 30 muestras de nuestro se de datos."
   ]
  },
  {
   "cell_type": "code",
   "execution_count": 18,
   "id": "11af09b4-cca4-4082-8296-2872d30b7638",
   "metadata": {
    "tags": []
   },
   "outputs": [],
   "source": [
    "rawR1 <- sort(list.files(INPUT_DIR, pattern = PATTERN_R1, full.names = T))\n",
    "rawR2 <- sort(list.files(INPUT_DIR, pattern = PATTERN_R2, full.names = T))"
   ]
  },
  {
   "cell_type": "markdown",
   "id": "78a23622-1735-4c49-ae7a-81d09d55ab99",
   "metadata": {
    "tags": []
   },
   "source": [
    "¿Puedes corroborar que las variables `rawR1` y  `rawR2` hayan quedado definidas correctamente?"
   ]
  },
  {
   "cell_type": "markdown",
   "id": "1a277928-7ed6-4ca1-b744-0efaa7a158b4",
   "metadata": {
    "tags": []
   },
   "source": [
    "---\n",
    "### 4. Eliminación de _primers_\n",
    "---"
   ]
  },
  {
   "cell_type": "markdown",
   "id": "56ac91a1-0fb5-4013-ac45-3e07aee60772",
   "metadata": {
    "tags": []
   },
   "source": [
    "Los _primers_ que fueron utilizados para generar los datos en el trabajo de Griffero et al son los siguientes:  \n",
    "_Primer Forward_: \"GTGYCAGCMGCCGCGGTAA\"  \n",
    "_Primer Reverse_: \"CCGYCAATTYMTTTRAGTTT\"."
   ]
  },
  {
   "cell_type": "markdown",
   "id": "07265ef1-7ad4-400d-bb6b-370f3115e9b2",
   "metadata": {},
   "source": [
    "Vamos a crearnos dos variables donde pondremos los _primers_."
   ]
  },
  {
   "cell_type": "code",
   "execution_count": 19,
   "id": "e3963f32-80fc-4108-93d0-2a820176467d",
   "metadata": {
    "tags": []
   },
   "outputs": [],
   "source": [
    "PRIMER_FWD <- \"GTGYCAGCMGCCGCGGTAA\""
   ]
  },
  {
   "cell_type": "code",
   "execution_count": 20,
   "id": "6db80397-ad85-4492-9dee-ee14c525a66e",
   "metadata": {
    "tags": []
   },
   "outputs": [],
   "source": [
    "PRIMER_REV <- \"CCGYCAATTYMTTTRAGTTT\""
   ]
  },
  {
   "cell_type": "markdown",
   "id": "94cf9bff-fda6-4f2c-becc-9a761a86045d",
   "metadata": {},
   "source": [
    "Estas variables deberán ser definidas en cada caso particular (no todos los estudios utilizan los mismos _primers_ ;)).  \n",
    "Si los _reads_ se generaron con un protocolo estándar de secuenciación de Illumina, entonces el _primer forward_ estará presente en el extremo 5' del _read_ 1 y el _primer reverse_ en el extremo 5' del _read_ 2.  \n",
    "Para eliminar los primers, comúnmente se utilizan dos estrategias:  \n",
    "La primera consiste, simplemente, en recortar del extremo 5’ de los _reads_, un número de bases igual al largo de los _primers_, es decir, recortar los primers (esto sólo tendrá sentido si todos los _primers_ tienen el mismo largo). Con `DADA2` podemos realizar dicha tarea utilizando la función [filterAndTrim](https://rdrr.io/bioc/dada2/man/filterAndTrim.html).  \n",
    "La segunda estrategia, consiste en utilizar la herramienta [cutadapt](https://cutadapt.readthedocs.io/en/stable/), la cual busca la secuencia de los primers y los elimina."
   ]
  },
  {
   "cell_type": "markdown",
   "id": "b68d530d-216b-4462-bd76-1af908795573",
   "metadata": {
    "tags": []
   },
   "source": [
    "En este práctico estaremos aplicando la segunda estrategía ya que ésta es más robusta (como te podrás imaginar dado que nos tomamos el trabajo de definir algunas funciones para correr `cutadapt`)."
   ]
  },
  {
   "cell_type": "markdown",
   "id": "c6e44227-c028-4862-9f04-b5e80cd56ec5",
   "metadata": {},
   "source": [
    "Primero, utilizando nuestra función `all_orients`, vamos a crear las secuencias complementaria, reversa y reversa complementaria para cada primer."
   ]
  },
  {
   "cell_type": "code",
   "execution_count": 21,
   "id": "0704a28a-e52f-45a1-b441-a0afe70918f3",
   "metadata": {
    "tags": []
   },
   "outputs": [],
   "source": [
    "FWD_orients <- all_orients(PRIMER_FWD)\n",
    "REV_orients <- all_orients(PRIMER_REV)"
   ]
  },
  {
   "cell_type": "markdown",
   "id": "7938a8ba-e677-4cc5-b7dd-871b2c30e8b4",
   "metadata": {
    "tags": []
   },
   "source": [
    "Veamos qué nos devuelve esta función."
   ]
  },
  {
   "cell_type": "code",
   "execution_count": 22,
   "id": "fef1a076-00fc-4e59-894c-c706ca6123fe",
   "metadata": {
    "tags": []
   },
   "outputs": [
    {
     "data": {
      "text/html": [
       "<style>\n",
       ".dl-inline {width: auto; margin:0; padding: 0}\n",
       ".dl-inline>dt, .dl-inline>dd {float: none; width: auto; display: inline-block}\n",
       ".dl-inline>dt::after {content: \":\\0020\"; padding-right: .5ex}\n",
       ".dl-inline>dt:not(:first-of-type) {padding-left: .5ex}\n",
       "</style><dl class=dl-inline><dt>Forward</dt><dd>'GTGYCAGCMGCCGCGGTAA'</dd><dt>Complement</dt><dd>'CACRGTCGKCGGCGCCATT'</dd><dt>Reverse</dt><dd>'AATGGCGCCGMCGACYGTG'</dd><dt>RevComp</dt><dd>'TTACCGCGGCKGCTGRCAC'</dd></dl>\n"
      ],
      "text/latex": [
       "\\begin{description*}\n",
       "\\item[Forward] 'GTGYCAGCMGCCGCGGTAA'\n",
       "\\item[Complement] 'CACRGTCGKCGGCGCCATT'\n",
       "\\item[Reverse] 'AATGGCGCCGMCGACYGTG'\n",
       "\\item[RevComp] 'TTACCGCGGCKGCTGRCAC'\n",
       "\\end{description*}\n"
      ],
      "text/markdown": [
       "Forward\n",
       ":   'GTGYCAGCMGCCGCGGTAA'Complement\n",
       ":   'CACRGTCGKCGGCGCCATT'Reverse\n",
       ":   'AATGGCGCCGMCGACYGTG'RevComp\n",
       ":   'TTACCGCGGCKGCTGRCAC'\n",
       "\n"
      ],
      "text/plain": [
       "              Forward            Complement               Reverse \n",
       "\"GTGYCAGCMGCCGCGGTAA\" \"CACRGTCGKCGGCGCCATT\" \"AATGGCGCCGMCGACYGTG\" \n",
       "              RevComp \n",
       "\"TTACCGCGGCKGCTGRCAC\" "
      ]
     },
     "metadata": {},
     "output_type": "display_data"
    }
   ],
   "source": [
    "FWD_orients"
   ]
  },
  {
   "cell_type": "code",
   "execution_count": 23,
   "id": "4e7c2831-68aa-482a-8259-2ce5db8c44f0",
   "metadata": {
    "tags": []
   },
   "outputs": [
    {
     "data": {
      "text/html": [
       "<style>\n",
       ".dl-inline {width: auto; margin:0; padding: 0}\n",
       ".dl-inline>dt, .dl-inline>dd {float: none; width: auto; display: inline-block}\n",
       ".dl-inline>dt::after {content: \":\\0020\"; padding-right: .5ex}\n",
       ".dl-inline>dt:not(:first-of-type) {padding-left: .5ex}\n",
       "</style><dl class=dl-inline><dt>Forward</dt><dd>'CCGYCAATTYMTTTRAGTTT'</dd><dt>Complement</dt><dd>'GGCRGTTAARKAAAYTCAAA'</dd><dt>Reverse</dt><dd>'TTTGARTTTMYTTAACYGCC'</dd><dt>RevComp</dt><dd>'AAACTYAAAKRAATTGRCGG'</dd></dl>\n"
      ],
      "text/latex": [
       "\\begin{description*}\n",
       "\\item[Forward] 'CCGYCAATTYMTTTRAGTTT'\n",
       "\\item[Complement] 'GGCRGTTAARKAAAYTCAAA'\n",
       "\\item[Reverse] 'TTTGARTTTMYTTAACYGCC'\n",
       "\\item[RevComp] 'AAACTYAAAKRAATTGRCGG'\n",
       "\\end{description*}\n"
      ],
      "text/markdown": [
       "Forward\n",
       ":   'CCGYCAATTYMTTTRAGTTT'Complement\n",
       ":   'GGCRGTTAARKAAAYTCAAA'Reverse\n",
       ":   'TTTGARTTTMYTTAACYGCC'RevComp\n",
       ":   'AAACTYAAAKRAATTGRCGG'\n",
       "\n"
      ],
      "text/plain": [
       "               Forward             Complement                Reverse \n",
       "\"CCGYCAATTYMTTTRAGTTT\" \"GGCRGTTAARKAAAYTCAAA\" \"TTTGARTTTMYTTAACYGCC\" \n",
       "               RevComp \n",
       "\"AAACTYAAAKRAATTGRCGG\" "
      ]
     },
     "metadata": {},
     "output_type": "display_data"
    }
   ],
   "source": [
    "REV_orients"
   ]
  },
  {
   "cell_type": "markdown",
   "id": "60223b61-d8cb-4b36-81ea-b031464360ac",
   "metadata": {
    "tags": []
   },
   "source": [
    "Sumamente práctica esta función, ¿no crees?"
   ]
  },
  {
   "cell_type": "markdown",
   "id": "2ac1b3f4-9315-4a3d-85f9-0f32d7624c96",
   "metadata": {},
   "source": [
    "Ahora con nuestra segunda función `primer_hits`, vamos a buscar todas estas versiones de nuestros _primers_ en el primer archivo que tenemos listado en `rawR1` y `rawR2`."
   ]
  },
  {
   "cell_type": "code",
   "execution_count": 24,
   "id": "218bb46a-5e9a-4196-b83a-8de125001ee0",
   "metadata": {
    "tags": []
   },
   "outputs": [
    {
     "ename": "ERROR",
     "evalue": "Error in h(simpleError(msg, call)): error in evaluating the argument 'subject' in selecting a method for function 'vcountPattern': error in evaluating the argument 'object' in selecting a method for function 'sread': Input/Output\n  no input files found\n  dirPath: NA\n  pattern: character(0)\n\n",
     "output_type": "error",
     "traceback": [
      "Error in h(simpleError(msg, call)): error in evaluating the argument 'subject' in selecting a method for function 'vcountPattern': error in evaluating the argument 'object' in selecting a method for function 'sread': Input/Output\n  no input files found\n  dirPath: NA\n  pattern: character(0)\n\nTraceback:\n",
      "1. rbind(all_orients_PRIMER_FWD_vs_rawR1 = sapply(FWD_orients, primer_hits, \n .     INPUT = rawR1[1]), all_orients_PRIMER_FWD_vs_rawR2 = sapply(FWD_orients, \n .     primer_hits, INPUT = rawR2[1]), all_orients_PRIMER_REV_vs_rawR1 = sapply(REV_orients, \n .     primer_hits, INPUT = rawR1[1]), all_orients_PRIMER_REV_vs_rawR2 = sapply(REV_orients, \n .     primer_hits, INPUT = rawR2[1]))",
      "2. standardGeneric(\"rbind\")",
      "3. eval(quote(list(...)), env)",
      "4. eval(quote(list(...)), env)",
      "5. eval(quote(list(...)), env)",
      "6. sapply(FWD_orients, primer_hits, INPUT = rawR1[1])",
      "7. sapply(FWD_orients, primer_hits, INPUT = rawR1[1])",
      "8. lapply(X = X, FUN = FUN, ...)",
      "9. FUN(X[[i]], ...)",
      "10. vcountPattern(pattern = PRIMER, subject = sread(readFastq(INPUT)), \n  .     fixed = FALSE)   # at line 4-6 of file <text>",
      "11. sread(readFastq(INPUT))",
      "12. readFastq(INPUT)",
      "13. readFastq(INPUT)",
      "14. .local(dirPath, pattern, ...)",
      "15. .file_names(dirPath, pattern)",
      "16. .throw(SRError(\"Input/Output\", \"no input files found\\n  dirPath: %s\\n  pattern: %s\\n\", \n  .     paste(dirPath, collapse = \"\\n          \"), paste(pattern, \n  .         collapse = \"\\n          \")))",
      "17. .throw(SRError(\"Input/Output\", \"no input files found\\n  dirPath: %s\\n  pattern: %s\\n\", \n  .     paste(dirPath, collapse = \"\\n          \"), paste(pattern, \n  .         collapse = \"\\n          \")))",
      "18. stop(cond)",
      "19. (function (cond) \n  . .Internal(C_tryCatchHelper(addr, 1L, cond)))(structure(list(message = \"Input/Output\\n  no input files found\\n  dirPath: NA\\n  pattern: character(0)\\n\", \n  .     call = NULL), class = c(\"Input/Output\", \"SRError\", \"error\", \n  . \"condition\")))",
      "20. .handleSimpleError(function (cond) \n  . .Internal(C_tryCatchHelper(addr, 1L, cond)), \"error in evaluating the argument 'object' in selecting a method for function 'sread': Input/Output\\n  no input files found\\n  dirPath: NA\\n  pattern: character(0)\\n\", \n  .     base::quote((function (cond) \n  .     .Internal(C_tryCatchHelper(addr, 1L, cond)))(structure(list(\n  .         message = \"Input/Output\\n  no input files found\\n  dirPath: NA\\n  pattern: character(0)\\n\", \n  .         call = NULL), class = c(\"Input/Output\", \"SRError\", \"error\", \n  .     \"condition\")))))",
      "21. h(simpleError(msg, call))"
     ]
    }
   ],
   "source": [
    "counts_log <- rbind(all_orients_PRIMER_FWD_vs_rawR1 = sapply(FWD_orients, primer_hits, INPUT = rawR1[1]), \n",
    "                    all_orients_PRIMER_FWD_vs_rawR2 = sapply(FWD_orients, primer_hits, INPUT = rawR2[1]), \n",
    "                    all_orients_PRIMER_REV_vs_rawR1 = sapply(REV_orients, primer_hits, INPUT = rawR1[1]), \n",
    "                    all_orients_PRIMER_REV_vs_rawR2 = sapply(REV_orients, primer_hits, INPUT = rawR2[1]))"
   ]
  },
  {
   "cell_type": "markdown",
   "id": "b57b3692-bd73-43e1-8b94-8b7964e65614",
   "metadata": {},
   "source": [
    "Veamos cómo se ve la salida:"
   ]
  },
  {
   "cell_type": "code",
   "execution_count": null,
   "id": "9822e84b-2dca-4530-beea-018901d8c848",
   "metadata": {
    "tags": []
   },
   "outputs": [],
   "source": [
    "counts_log"
   ]
  },
  {
   "cell_type": "markdown",
   "id": "7c286224-fd7a-48d9-99e2-43b9b60dddc7",
   "metadata": {},
   "source": [
    "Aparece un bajo conteo donde no debería para los _primers_ reverso complemento. A pesar de esto, los datos se ven bien."
   ]
  },
  {
   "cell_type": "markdown",
   "id": "e6a7999f-88be-4fb1-ad3d-41e356cef433",
   "metadata": {
    "tags": []
   },
   "source": [
    "Ahora que sabemos que los _primers_ están donde deberían de estar, vamos a correr nuestra función `run_cutadapt`."
   ]
  },
  {
   "cell_type": "markdown",
   "id": "6d04a850-6af4-4a62-9eca-c3b8367e2f54",
   "metadata": {},
   "source": [
    "Para cada fastq que estaremos preprocesando mediante la eliminación de primers, vamos a crear un archivo de salida, por lo que debemos definir dónde guardamos estos archivos y sus nombres. "
   ]
  },
  {
   "cell_type": "markdown",
   "id": "cfede63e-31e7-443e-ac6c-9c2daa14d566",
   "metadata": {},
   "source": [
    "Creamos un directorio desde R:"
   ]
  },
  {
   "cell_type": "code",
   "execution_count": null,
   "id": "c7a563aa-1c7a-45d6-b584-f6daeb3a92cf",
   "metadata": {
    "tags": []
   },
   "outputs": [],
   "source": [
    "OUTPUT_DIR<-\"./data/rm_primers\"\n",
    "dir.create(OUTPUT_DIR)"
   ]
  },
  {
   "cell_type": "markdown",
   "id": "5200f1c4-8313-4929-9229-311c0967844c",
   "metadata": {},
   "source": [
    "Definimos los nombres."
   ]
  },
  {
   "cell_type": "code",
   "execution_count": null,
   "id": "a5608632-e518-4366-86a4-cfc3da9b5e65",
   "metadata": {
    "tags": []
   },
   "outputs": [],
   "source": [
    "sample.names <- basename(rawR1) |>\n",
    "                sub(pattern = PATTERN_R1, replacement = \"\")"
   ]
  },
  {
   "cell_type": "markdown",
   "id": "9e8c12b5-c3bd-463a-8b1f-c45d90821ea5",
   "metadata": {
    "tags": []
   },
   "source": [
    "Unimos la ruta al directorio con los nombres de los archivos."
   ]
  },
  {
   "cell_type": "code",
   "execution_count": null,
   "id": "e1e68082-b029-4294-9aee-aa2b81173d1f",
   "metadata": {
    "tags": []
   },
   "outputs": [],
   "source": [
    "rmprimerR1 <- file.path(OUTPUT_DIR, paste(sample.names, \"R1_rmprimer.fastq.gz\", sep = \"_\"))\n",
    "rmprimerR2 <- file.path(OUTPUT_DIR, paste(sample.names, \"R2_rmprimer.fastq.gz\", sep = \"_\"))"
   ]
  },
  {
   "cell_type": "markdown",
   "id": "a074fd77-317d-43c5-a83d-842ecda1ab7e",
   "metadata": {
    "tags": []
   },
   "source": [
    "Ejcutamos la función _wrapper_ de `cutadapt`."
   ]
  },
  {
   "cell_type": "code",
   "execution_count": null,
   "id": "d27d00b3-3452-4902-8506-5a53a7ae654a",
   "metadata": {
    "tags": []
   },
   "outputs": [],
   "source": [
    "cutadapt_runner(primer_fwd = PRIMER_FWD,\n",
    "                primer_rev = PRIMER_REV,\n",
    "                input_r1 = rawR1,\n",
    "                input_r2 = rawR2,\n",
    "                output_r1 = rmprimerR1,\n",
    "                output_r2 = rmprimerR2,\n",
    "                nslots = 4)"
   ]
  },
  {
   "cell_type": "markdown",
   "id": "02cc0025-1b37-486e-b738-6fdd749214d5",
   "metadata": {
    "tags": []
   },
   "source": [
    "Veamos los archivos que tenemos en `OUTPUT_DIR`."
   ]
  },
  {
   "cell_type": "code",
   "execution_count": null,
   "id": "ec1b1977-62e6-407b-8372-ce0340d920b5",
   "metadata": {
    "tags": []
   },
   "outputs": [],
   "source": [
    "list.files(OUTPUT_DIR) |> head()"
   ]
  },
  {
   "cell_type": "markdown",
   "id": "81e33018-3878-46ef-9296-ed37bdbd93d0",
   "metadata": {},
   "source": [
    "¿Puedes correr nuevamente nuestra función `primer_hits` sobre los archivos fastq sin primers para verificar que efectivamente hayamos eliminado los _primers_?"
   ]
  },
  {
   "cell_type": "markdown",
   "id": "fc0569bc-c3bc-42f1-9935-f5baf77aec9c",
   "metadata": {},
   "source": [
    "---\n",
    "### 5. Control de calidad\n",
    "---"
   ]
  },
  {
   "cell_type": "markdown",
   "id": "cca55226-d226-4083-8e02-f49fa7faf3a4",
   "metadata": {},
   "source": [
    "DADA2 cuenta con una función muy práctica para visualizar la calidad de nuestras secuencias: [plotQualityProfile](https://www.rdocumentation.org/packages/dada2/versions/1.0.3/topics/plotQualityProfile) (otra herramienta muy usada para esto es [FastQC](https://www.bioinformatics.babraham.ac.uk/projects/fastqc/)).  \n",
    "Para utilizarla, con todos sus parámetros por defecto, simplemente le damos como entrada la ubicación de los archivos que queremos analizar. En nuestro caso, vamos a analizar los _reads_ sin _primers_."
   ]
  },
  {
   "cell_type": "code",
   "execution_count": null,
   "id": "e085316a-ff57-45cc-bdf8-995cf180d67c",
   "metadata": {
    "tags": []
   },
   "outputs": [],
   "source": [
    "quality_plot_R1 <- plotQualityProfile(rmprimerR1)\n",
    "quality_plot_R2 <- plotQualityProfile(rmprimerR2)"
   ]
  },
  {
   "cell_type": "code",
   "execution_count": null,
   "id": "a8958b1f-1d3d-4ad3-bd3a-c0cacd9e56e2",
   "metadata": {
    "tags": []
   },
   "outputs": [],
   "source": [
    "options(repr.plot.width=20, repr.plot.height=12)\n",
    "quality_plot_R1"
   ]
  },
  {
   "cell_type": "code",
   "execution_count": null,
   "id": "94438e41-e8f9-4960-a6a5-917b3cd4be09",
   "metadata": {
    "tags": []
   },
   "outputs": [],
   "source": [
    "options(repr.plot.width=20, repr.plot.height=12)\n",
    "quality_plot_R2"
   ]
  },
  {
   "cell_type": "markdown",
   "id": "9d112cea-b808-4f20-9b15-02ef03a5216d",
   "metadata": {},
   "source": [
    "Estos plots muestran la distribución de los puntajes de calidad en cada posición (mapa de calor de gris a negro).   \n",
    "Las línea verde es la media, el naranja es la mediana y las líneas naranjas discontinuas corresponden al primer y tercer cuartil."
   ]
  },
  {
   "cell_type": "markdown",
   "id": "be5a3949-8997-4d64-b835-89982273842a",
   "metadata": {
    "tags": []
   },
   "source": [
    "Como sucede generalmente, observamos que la calidad de las secuencias decrece a lo largo de los _reads_ y hay un diferencia notoria entre la calidad de los _reads_ R1 y R2.  \n",
    "¿Sabes por qué es esto? [Acá puedes encontrar una respuesta](https://www.ecseq.com/support/ngs/why-has-reverse-read-a-worse-quality-than-forward-read-in-Illumina-sequencing)."
   ]
  },
  {
   "cell_type": "markdown",
   "id": "62a88f49-324d-4b40-baad-a49a6fef164d",
   "metadata": {
    "tags": []
   },
   "source": [
    "---\n",
    "### Comienza sección <img src=\"../figures/uphill.png\" width=\"50\" height=\"50\" />\n",
    "---"
   ]
  },
  {
   "cell_type": "markdown",
   "id": "202c4d0b-07a9-48da-9f2d-9329c746b1d2",
   "metadata": {},
   "source": [
    "Ahora vamos a realizar un análisis de calidad que puede resultar muy útil para identificar muestras problemáticas.  \n",
    "Lo que vamos a hacer es comparar, para cada muestra, la calidad promedio (de una submuestra) de _reads_ vs. el número de _reads_."
   ]
  },
  {
   "cell_type": "markdown",
   "id": "6229b575-10cb-4a85-a960-850f2713c00d",
   "metadata": {
    "tags": []
   },
   "source": [
    "Primero vamos a contar el número _reads_ con la función que definimos arriba `count_seqs` y para hacerlo más rápido, utilizaremos las facilidades de `doParallel` (i.e., [foreach with %dopar%](https://cran.r-project.org/web/packages/doParallel/vignettes/gettingstartedParallel.pdf))."
   ]
  },
  {
   "cell_type": "code",
   "execution_count": null,
   "id": "c4896baf-933f-43b8-9435-49735b65c712",
   "metadata": {
    "tags": []
   },
   "outputs": [],
   "source": [
    "seq_counts_df <- foreach(i = rmprimerR1, .combine=rbind) %dopar% {\n",
    "  count_seqs(i)\n",
    "}"
   ]
  },
  {
   "cell_type": "markdown",
   "id": "465133a8-4fa1-41da-8d21-dd3d5b06c944",
   "metadata": {},
   "source": [
    "Luego, computamos los promedios de calidad de R1. Para esto utilizamos la función [qa](https://rdrr.io/bioc/ShortRead/man/qa.html) de ShortRead.  \n",
    "Para correr esta función, similarmente a cómo lo hicimos arriba, debemos especificar un directorio de entrada y un patrón para identificar los archivos que vamos a analizar."
   ]
  },
  {
   "cell_type": "code",
   "execution_count": null,
   "id": "afe28147-50c2-43ca-9860-577ad00cea2c",
   "metadata": {
    "tags": []
   },
   "outputs": [],
   "source": [
    "INPUT_DIR <- \"./data/rm_primers\""
   ]
  },
  {
   "cell_type": "code",
   "execution_count": null,
   "id": "39f52632-65bc-42ad-bc89-484f0ec54c1b",
   "metadata": {
    "tags": []
   },
   "outputs": [],
   "source": [
    "PATTERN_R1 <- \"_R1_rmprimer.fastq.gz\" "
   ]
  },
  {
   "cell_type": "code",
   "execution_count": null,
   "id": "72cb3de0-8112-4574-8047-ceca30674337",
   "metadata": {
    "tags": []
   },
   "outputs": [],
   "source": [
    "qa_r1 <- qa(dirPath = INPUT_DIR, pattern = PATTERN_R1, sample = T, n = 5000)\n",
    "qa_r1_df <- qa_r1[[\"perCycle\"]][[\"quality\"]]\n",
    "qa_means_r1 <- qa_r1_df %>%\n",
    "               group_by(lane) %>%\n",
    "               summarize(mean_q = sum(Score*Count)/sum(Count))\n",
    "qa_means_r1$lane <- qa_means_r1$lane %>% sub(x = ., pattern = \"_R1.*\", replacement = \"\")"
   ]
  },
  {
   "cell_type": "markdown",
   "id": "d155c6ef-40fd-4203-a2a4-b82e74fb0250",
   "metadata": {},
   "source": [
    "Y también para R2."
   ]
  },
  {
   "cell_type": "code",
   "execution_count": null,
   "id": "8d48d91b-9a5f-47f1-8b4d-570ea3bbaf18",
   "metadata": {
    "tags": []
   },
   "outputs": [],
   "source": [
    "PATTERN_R2 <- \"_R2_rmprimer.fastq.gz\" "
   ]
  },
  {
   "cell_type": "code",
   "execution_count": null,
   "id": "d9cc3505-a4ca-4b15-a4e0-429233e13fd1",
   "metadata": {
    "tags": []
   },
   "outputs": [],
   "source": [
    "qa_r2 <- qa(dirPath = INPUT_DIR, pattern = PATTERN_R2, sample = T, n = 5000)\n",
    "qa_r2_df <- qa_r2[[\"perCycle\"]][[\"quality\"]]\n",
    "qa_means_r2 <- qa_r2_df %>%\n",
    "               group_by(lane) %>%\n",
    "               summarize(mean_q = sum(Score*Count)/sum(Count))\n",
    "qa_means_r2$lane <- qa_means_r2$lane %>% sub(x = ., pattern = \"_R2.*\", replacement = \"\")"
   ]
  },
  {
   "cell_type": "markdown",
   "id": "72a6bc5e-a8a1-4441-baa3-bb953c48d26b",
   "metadata": {},
   "source": [
    "Siguiente paso es cruzar los resultados de promedios de calidad con el número de secuencias por muestra, lo que podemos hacer fácilmente con la función [left_join](https://dplyr.tidyverse.org/reference/mutate-joins.html) de `tidyverse`. "
   ]
  },
  {
   "cell_type": "code",
   "execution_count": null,
   "id": "f5a70831-6102-4670-9632-6b3a3f540628",
   "metadata": {
    "tags": []
   },
   "outputs": [],
   "source": [
    "qa_means1counts <- left_join(x = qa_means_r1, y = seq_counts_df, by = c(\"lane\" = \"sample\"))\n",
    "qa_means2counts <- left_join(x = qa_means_r2, y = seq_counts_df, by = c(\"lane\" = \"sample\"))"
   ]
  },
  {
   "cell_type": "markdown",
   "id": "279e6635-dd5c-4652-96c6-1814f4a46f50",
   "metadata": {},
   "source": [
    "Finalmente, realizamos los plots para R1 y R2."
   ]
  },
  {
   "cell_type": "code",
   "execution_count": null,
   "id": "92c9b972-8a92-4e9f-9f05-d6288d2289a1",
   "metadata": {
    "tags": []
   },
   "outputs": [],
   "source": [
    "qual_vs_nseq_r1 <- ggplot(data = qa_means1counts, aes(x = mean_q, y = nseq)) +\n",
    "  geom_point(size = 3) +\n",
    "  theme_bw() +\n",
    "  #scale_y_log10() +\n",
    "  ylab(\"Read counts (log)\") +\n",
    "  xlab(\"Mean quality score (R1)\") +\n",
    "  geom_text(aes(label=as.character(lane)), hjust=0.5, vjust=-1, size = 5)"
   ]
  },
  {
   "cell_type": "code",
   "execution_count": null,
   "id": "a8fcd890-b950-4e54-92b7-e974c204b322",
   "metadata": {
    "tags": []
   },
   "outputs": [],
   "source": [
    "qual_vs_nseq_r2 <- ggplot(data = qa_means2counts, aes(x = mean_q, y = nseq)) +\n",
    "  geom_point(size = 3) +\n",
    "  theme_bw() +\n",
    "  #scale_y_log10() +\n",
    "  ylab(\"Read counts (log)\") +\n",
    "  xlab(\"Mean quality score (R1)\") +\n",
    "  geom_text(aes(label=as.character(lane)), hjust=0.5, vjust=-1, size = 5)"
   ]
  },
  {
   "cell_type": "code",
   "execution_count": null,
   "id": "58c03a2d-5a34-4f04-b443-6ace8afa4fa9",
   "metadata": {
    "tags": []
   },
   "outputs": [],
   "source": [
    "options(repr.plot.width=10, repr.plot.height=8)\n",
    "qual_vs_nseq_r1"
   ]
  },
  {
   "cell_type": "code",
   "execution_count": null,
   "id": "b595a865-2720-43bd-ba1c-f2fc61856408",
   "metadata": {
    "tags": []
   },
   "outputs": [],
   "source": [
    "options(repr.plot.width=10, repr.plot.height=8)\n",
    "qual_vs_nseq_r2"
   ]
  },
  {
   "cell_type": "markdown",
   "id": "a6a774b0-57fc-4b6d-a590-908981fa4499",
   "metadata": {},
   "source": [
    "Es interesante que parecen formarse dos grupos: uno de mayor calidad y mayor número de secuencias, y otro de menor calidad y menor número de secuencias.  \n",
    "Este plot puede ser un insumo para definir si es necesario descartar algunas muestras.  \n",
    "En nuestro caso, el grupo de menor calidad aún es suficientemente bueno (tenemos puntajes por arriba de 32 y un número de _reads_ comparable). En consecuencia, no estaremos descartando ninguna muestra."
   ]
  },
  {
   "cell_type": "markdown",
   "id": "41ba44d1-c328-44a5-8483-cdbe5a71892d",
   "metadata": {
    "tags": []
   },
   "source": [
    "---\n",
    "### Fin de sección <img src=\"../figures/uphill.png\" width=\"50\" height=\"50\" />\n",
    "---"
   ]
  },
  {
   "cell_type": "markdown",
   "id": "d2b97800-05b3-41f1-b675-fa907f83e5fc",
   "metadata": {},
   "source": [
    "Como última tarea en el control de calidad, vamos a recortar las regiones 5' de los _reads_. Para esto, en base a los plots `quality_plot_R1` y `quality_plot_R2` vamos a definir el punto de corte. Esta decisión es algo subjetiva, y es conveniente probar qué resultados obtenemos con distintos valores. En este práctico, a los efectos de mostrar cómo funciona esta función, estaremos utilizando dos únicos valores, uno para los _reads_ R1 y otro para los R2."
   ]
  },
  {
   "cell_type": "code",
   "execution_count": null,
   "id": "084c0eff-0567-4219-b757-43c0ee074681",
   "metadata": {
    "tags": []
   },
   "outputs": [],
   "source": [
    "TRUNC_R1 <- 250\n",
    "TRUNC_R2 <- 225"
   ]
  },
  {
   "cell_type": "markdown",
   "id": "ee2daf6e-25f2-4616-94cf-4203874d3a15",
   "metadata": {},
   "source": [
    "Al igual a cómo lo hicimos anteriormente, vamos a definir el directorio y nombre de los archivos de salida, ya que queremos que estos archivos filtrados por la calidad queden guardados en nuestra computadora."
   ]
  },
  {
   "cell_type": "code",
   "execution_count": null,
   "id": "72c9729a-6f29-4c2f-a9f6-82431e65595e",
   "metadata": {
    "tags": []
   },
   "outputs": [],
   "source": [
    "OUTPUT_DIR <- \"./data/quality_filtered\"\n",
    "dir.create(OUTPUT_DIR)"
   ]
  },
  {
   "cell_type": "code",
   "execution_count": null,
   "id": "25e51b00-7951-40ba-bfdf-f53ac46b278b",
   "metadata": {
    "tags": []
   },
   "outputs": [],
   "source": [
    "filtR1 <- file.path(OUTPUT_DIR, paste(sample.names, \"R1_filt.fastq.gz\", sep = \"_\"))\n",
    "filtR2 <- file.path(OUTPUT_DIR, paste(sample.names, \"R2_filt.fastq.gz\", sep = \"_\"))"
   ]
  },
  {
   "cell_type": "code",
   "execution_count": null,
   "id": "ad9b3642-7861-4cb8-8aaa-0b8838723bcd",
   "metadata": {
    "tags": []
   },
   "outputs": [],
   "source": [
    "filterAndTrim_log <- filterAndTrim(fwd = rmprimerR1, filt = filtR1, \n",
    "                                   rev = rmprimerR2, filt.rev = filtR2, \n",
    "                                   truncLen = c(TRUNC_R1, TRUNC_R2),\n",
    "                                   maxN = 0, maxEE = c(2,2), truncQ = 2, rm.phix = TRUE,\n",
    "                                   compress=TRUE, \n",
    "                                   multithread = 4)"
   ]
  },
  {
   "cell_type": "markdown",
   "id": "f419b93b-6bd5-4d35-9656-407992c3493e",
   "metadata": {},
   "source": [
    "Puedes consultar la ayuda de la función `filterAndTrim` para ver qué significan estos parámetros."
   ]
  },
  {
   "cell_type": "markdown",
   "id": "ba4ede44-fd23-418b-a388-3dd8109803c9",
   "metadata": {},
   "source": [
    "Veamos la salida de esta función."
   ]
  },
  {
   "cell_type": "code",
   "execution_count": null,
   "id": "39cef673-099f-4b5c-90d0-551831da63bd",
   "metadata": {
    "tags": []
   },
   "outputs": [],
   "source": [
    "list.files(OUTPUT_DIR)"
   ]
  },
  {
   "cell_type": "markdown",
   "id": "5e4da9f2-77b5-4257-a3eb-f7ec33b1c7dd",
   "metadata": {},
   "source": [
    "Todo parece correcto, pero por mayor control puedes abrir alguno de estos archivos desde la línea de comando en BASH."
   ]
  },
  {
   "cell_type": "markdown",
   "id": "b8d9b506-dd8b-494b-a29f-bc3a1e923cd7",
   "metadata": {
    "tags": []
   },
   "source": [
    "---\n",
    "### 6. Modelado de errores \n",
    "---"
   ]
  },
  {
   "cell_type": "markdown",
   "id": "d18b15ea-75f6-489b-8a01-c362e2d15884",
   "metadata": {
    "tags": []
   },
   "source": [
    "Como recordarás del teórico, DADA2 realiza una inferencia de ASVs en base al modelado de los errores en los _reads_ para cada puntaje de calidad."
   ]
  },
  {
   "cell_type": "markdown",
   "id": "c94f917d-4de5-4361-85e4-b8f8e6cbab09",
   "metadata": {},
   "source": [
    "<img src=\"../figures/dada2_error_fig_and_eq.png\" width=\"800\" height=\"800\" />"
   ]
  },
  {
   "cell_type": "markdown",
   "id": "beb8ed57-c0e9-4515-932f-5ab25f9c9053",
   "metadata": {},
   "source": [
    "Esto nos da, por ejemplo, la probabilidad de observar una transición para un puntaje de calidad de 35: p(A→C, 35)."
   ]
  },
  {
   "cell_type": "markdown",
   "id": "24761a09-3b9c-466e-919c-16461227b0ee",
   "metadata": {},
   "source": [
    "El 3x y 4x que aparecen arriba de los _reads_ representan su abundancia."
   ]
  },
  {
   "cell_type": "markdown",
   "id": "8508a5b9-9a6c-427f-bf17-1804de22e3f2",
   "metadata": {
    "tags": []
   },
   "source": [
    "Para modelar los errores, DADA2 cuenta con la función [learnErros](https://rdrr.io/bioc/dada2/man/learnErrors.html), la cual estarmos utilizando luego de cargar los datos.  \n",
    "Notar que ahora vamos a trabajar con los archivos sin _primers_ y filtrados por calidad, los cuales tenemos en los vectores `filtR1` y `filtR2`."
   ]
  },
  {
   "cell_type": "code",
   "execution_count": null,
   "id": "38630fca-9878-4f65-b2f9-5e767ad49ab5",
   "metadata": {
    "tags": []
   },
   "outputs": [],
   "source": [
    "errR1 <- learnErrors(filtR1, multithread=4)\n",
    "errR2 <- learnErrors(filtR2, multithread=4)"
   ]
  },
  {
   "cell_type": "markdown",
   "id": "cea66cb5-4c83-4a48-bce4-9594bd95c491",
   "metadata": {
    "tags": []
   },
   "source": [
    "Muy convenientemente, DADA2, incluye una función para visualizar el modelado de errores: [plotErrors](https://rdrr.io/bioc/dada2/man/plotErrors.html)."
   ]
  },
  {
   "cell_type": "code",
   "execution_count": null,
   "id": "8646a901-bd9d-4797-9d27-0652e57a55f8",
   "metadata": {
    "tags": []
   },
   "outputs": [],
   "source": [
    "error_plot_R1 <- plotErrors(errR1, nominalQ=TRUE)\n",
    "error_plot_R2 <- plotErrors(errR2, nominalQ=TRUE)"
   ]
  },
  {
   "cell_type": "code",
   "execution_count": null,
   "id": "2fd89280-804f-4868-af0b-8f51e4b59a96",
   "metadata": {
    "tags": []
   },
   "outputs": [],
   "source": [
    "options(repr.plot.width=20, repr.plot.height=12)\n",
    "error_plot_R1"
   ]
  },
  {
   "cell_type": "code",
   "execution_count": null,
   "id": "fc9701c8-5854-48b3-b0ee-5fce673e807d",
   "metadata": {
    "tags": []
   },
   "outputs": [],
   "source": [
    "options(repr.plot.width=20, repr.plot.height=12)\n",
    "error_plot_R2"
   ]
  },
  {
   "cell_type": "markdown",
   "id": "9da4b854-2a50-4d19-973d-39d09a2d38d6",
   "metadata": {},
   "source": [
    "\"El eje x muestra el nivel de calidad; el eje y la frecuencia de la transición. Los puntos muestran las frecuencias observadas, la línea negra el modelo de error inferido por DADA2 utilizando su ajuste loess y la línea roja las tasas esperadas dada la definición nominal del puntaje de calidad. Las puntuaciones de calidad de Illumina son bastante informativas sobre las tasas de error de sustitución, pero se observan desviaciones sistemáticas de las tasas esperadas\". Texto traducido de [(Callahan et al 2016)](https://www.nature.com/articles/nmeth.3869)."
   ]
  },
  {
   "cell_type": "markdown",
   "id": "4e9c8b9f-8d7f-4562-87e9-5d3cb7de60e1",
   "metadata": {
    "tags": []
   },
   "source": [
    "---\n",
    "### 7. Derreplicado\n",
    "---"
   ]
  },
  {
   "cell_type": "markdown",
   "id": "7200c6aa-4711-42e0-8fa6-349200bb4f0f",
   "metadata": {
    "tags": []
   },
   "source": [
    "Este paso, consiste simplemente en agrupar todas las secuencias que aparecen idénticas en nuestros datos, sin utilizar ningún modelado de errores.\n",
    "Como resultado, todas las secuencias iguales son agrupadas en una única secuencia, para la cual además es registrada su abundancia, como se muestra en la figura de abajo."
   ]
  },
  {
   "cell_type": "markdown",
   "id": "9ef4f2c7-8a6b-4ec6-be0f-7a0d236f24b7",
   "metadata": {
    "tags": []
   },
   "source": [
    "<img src=\"../figures/dada2_dereplicado.png\" width=\"500\" height=\"500\" />"
   ]
  },
  {
   "cell_type": "markdown",
   "id": "1d3fce31-f829-458c-83b9-361a845b2c58",
   "metadata": {},
   "source": [
    "Para esto simplemente corremos dos comandos utilizando la función  [derepFastq](https://www.rdocumentation.org/packages/dada2/versions/1.0.3/topics/derepFastq)."
   ]
  },
  {
   "cell_type": "code",
   "execution_count": null,
   "id": "bee4bc60-556c-4fc3-8d4b-db06ce5bfe1d",
   "metadata": {
    "tags": []
   },
   "outputs": [],
   "source": [
    "derepR1 <- derepFastq(filtR1)\n",
    "derepR2 <- derepFastq(filtR2)"
   ]
  },
  {
   "cell_type": "markdown",
   "id": "254db1e9-ec9b-4863-8b25-faebf656e439",
   "metadata": {},
   "source": [
    "---\n",
    "### 8. Identificación de ASVs\n",
    "---"
   ]
  },
  {
   "cell_type": "markdown",
   "id": "bd47c165-cda5-4b7a-9536-a6d70f44d5e7",
   "metadata": {
    "tags": []
   },
   "source": [
    "Está parte es, probablemente, la más fundamental en todo el flujo de trabajo: la reconstrucción de ASVs mediante el _Divisive partitioning algorithm_."
   ]
  },
  {
   "cell_type": "markdown",
   "id": "0977d215-2ef2-415e-8b91-311d0048b083",
   "metadata": {
    "tags": []
   },
   "source": [
    "<img src=\"../figures/dada2_iter.png\" width=\"700\" height=\"700\" />"
   ]
  },
  {
   "cell_type": "markdown",
   "id": "861453a4-4b51-43fc-8f1b-73ca68e725c5",
   "metadata": {},
   "source": [
    "Donde el p-valor A entre los _reads_ \"i\" y \"j\" se computa cómo:"
   ]
  },
  {
   "cell_type": "markdown",
   "id": "f000373b-b806-411e-8536-747eeaaf7dc6",
   "metadata": {
    "tags": []
   },
   "source": [
    "<img src=\"../figures/p_valorA_formula.png\" width=\"300\" height=\"300\" />"
   ]
  },
  {
   "cell_type": "markdown",
   "id": "c9f6c953-2e1d-45b6-ab41-9ac37e41c504",
   "metadata": {
    "tags": []
   },
   "source": [
    "Y \"nj\" y \"ai\" son las abundancias de las secuencias \"j\" e \"i\", respectivamente."
   ]
  },
  {
   "cell_type": "markdown",
   "id": "40360194-d973-4f75-a56c-ed0b330c1e0f",
   "metadata": {
    "tags": []
   },
   "source": [
    "Vayamos al grano."
   ]
  },
  {
   "cell_type": "code",
   "execution_count": null,
   "id": "2370dc58-617f-40d0-8eaa-f82113e04d99",
   "metadata": {
    "tags": []
   },
   "outputs": [],
   "source": [
    "dadaR1 <- dada(derepR1, err=errR1, multithread=4, pool = T)\n",
    "dadaR2 <- dada(derepR2, err=errR2, multithread=4, pool = T)"
   ]
  },
  {
   "cell_type": "markdown",
   "id": "e14711d5-1d2b-4483-a6e5-ae1cd72c0173",
   "metadata": {},
   "source": [
    "¿Qué utilidad tiene la opción `pool`?"
   ]
  },
  {
   "cell_type": "markdown",
   "id": "43910940-23a8-40d2-bcec-39325f759936",
   "metadata": {},
   "source": [
    "---\n",
    "### 9. Ensamblado de secuencias pares\n",
    "---"
   ]
  },
  {
   "cell_type": "markdown",
   "id": "9f1ffdc1-33d9-43a1-b8a7-f4122a5e06be",
   "metadata": {},
   "source": [
    "Esta tarea consiste en alinear los extremos de los _reads_ R1 y R2 para unir las secuencias en el caso de que exista una superposición mayor a `minOverlap`.  \n",
    "Dado que los ASVs ya fueron identificados para R1 y R2, el alineamiento debe de ser exacto (sin _mismatches_ o _gaps_). En este práctico estaremos utilizando un único valor de `minOverlap`; no obstante, si estuviéramos trabajando con datos que no conocemos, sería conveniente probar distintos valores de `minOverlap` y evaluar cómo se ve afectado el _merging_ en cada caso. Notar que para definir este parámetro, también debemos tener en cuenta cuánto hemos recortado los _reads_ en el control de calidad."
   ]
  },
  {
   "cell_type": "markdown",
   "id": "c8c0115f-c50c-4ed6-a1a1-cd154604e4f7",
   "metadata": {
    "tags": []
   },
   "source": [
    "En nuestro caso, usaremos un `minOverlap` de 12 bases. "
   ]
  },
  {
   "cell_type": "code",
   "execution_count": null,
   "id": "a3c36a32-f2ce-4473-b6f0-ae9d9ac0c38f",
   "metadata": {
    "tags": []
   },
   "outputs": [],
   "source": [
    "MIN_OVERLAP <- 12"
   ]
  },
  {
   "cell_type": "code",
   "execution_count": null,
   "id": "b2bd6208-485f-4b38-ae13-a846ff36ff21",
   "metadata": {
    "tags": []
   },
   "outputs": [],
   "source": [
    "merged <- mergePairs(dadaR1, derepR1, \n",
    "                      dadaR2, derepR2,\n",
    "                      minOverlap = MIN_OVERLAP)"
   ]
  },
  {
   "cell_type": "markdown",
   "id": "1aed884d-2036-439c-93a1-e64606385199",
   "metadata": {},
   "source": [
    "---\n",
    "### 10. Creación de la matriz de abundancias\n",
    "---"
   ]
  },
  {
   "cell_type": "markdown",
   "id": "c0a54a2a-4b73-4eba-a59d-91d637f55326",
   "metadata": {},
   "source": [
    "El objeto `merged` tiene toda la información que precisamos, pero no es un formato muy amigable. Por este motivo, y para realizar la eliminación de bimeras, vamos a convertir el objeto `merged` en una tabla."
   ]
  },
  {
   "cell_type": "code",
   "execution_count": null,
   "id": "067f2c1f-8601-44af-a12a-5fca968ba9ef",
   "metadata": {
    "tags": []
   },
   "outputs": [],
   "source": [
    "seqtab <- makeSequenceTable(merged)"
   ]
  },
  {
   "cell_type": "markdown",
   "id": "1c08a2cd-bb3e-4380-9971-634c5fb06499",
   "metadata": {},
   "source": [
    "Veamos qué dimensiones tiene la tabla de abundancias."
   ]
  },
  {
   "cell_type": "code",
   "execution_count": null,
   "id": "8969ef8b-6abb-4700-a475-f309424b4013",
   "metadata": {
    "tags": []
   },
   "outputs": [],
   "source": [
    "dim(seqtab2)"
   ]
  },
  {
   "cell_type": "markdown",
   "id": "0f26ce32-ba78-40d1-b4f8-af744a7f8bd0",
   "metadata": {
    "tags": []
   },
   "source": [
    "Esto es, 30 muestras (filas) por 1240 ASVs (columnas). Este es un número bajo de ASVs, pero debemos tener en cuenta que estamos trabajando con un set de datos de \"juguete\"."
   ]
  },
  {
   "cell_type": "markdown",
   "id": "048ccaa6-6bbe-4d8f-9974-ef574143b511",
   "metadata": {},
   "source": [
    "Veamos algunas filas y columnas de nuestra matriz."
   ]
  },
  {
   "cell_type": "code",
   "execution_count": null,
   "id": "765bfe21-a691-4eb7-bcec-93d9543b7be7",
   "metadata": {
    "tags": []
   },
   "outputs": [],
   "source": [
    "seqtab[1:3, 1:3]"
   ]
  },
  {
   "cell_type": "markdown",
   "id": "0184e455-8a4f-40a5-8511-5053cad021e6",
   "metadata": {
    "tags": []
   },
   "source": [
    "Se ve un poco raro, dado que los nombres de las columnas son las secuencias de cada ASV. No obstante, resultará muy conveniente tener estas secuencias en posteriores análisis."
   ]
  },
  {
   "cell_type": "markdown",
   "id": "e086deeb-804b-4b13-bb34-00734bf231d9",
   "metadata": {},
   "source": [
    "---\n",
    "### 11. Eliminación de bimeras\n",
    "---"
   ]
  },
  {
   "cell_type": "markdown",
   "id": "1a60056a-17ce-41f6-9f1a-7ed8add4bfbf",
   "metadata": {},
   "source": [
    "La última parte en el análisis de identificación de ASVs, consiste en eliminar las bimeras. Estas se forman durante la amplifcación por PCR como se explica [acá](https://drive5.com/usearch/manual8.1/chimera_formation.html)."
   ]
  },
  {
   "cell_type": "markdown",
   "id": "fd6466ef-4c51-402e-abbd-88fb00a7155b",
   "metadata": {},
   "source": [
    "Aunque podriamos utilizar otras herramientas, por ejemplo [vsearch](https://github.com/torognes/vsearch), resulta especialmente conveiente seguir trabjando en R con DADA2, por lo que utilizaremos la función [removeBimeraDenovo](https://rdrr.io/bioc/dada2/man/removeBimeraDenovo.html). Esto se debe no sólo al hecho de que es necesario realizar menos pasos en la manipulación de datos, sino también a que `removeBimeraDenovo`, al trabajar sobre ASVs, es particularmente sensible.  \n",
    "\"Los algoritmos comunes de identificación de quimeras fueron diseñados bajo el supuesto de que la sensibilidad en las variantes quiméricas cercanas no era muy importante porque las variantes cercanas probablemente se clusterizarán en una misma OTU de todos modos. Sin embargo, DADA2 viola esta suposición, ya que distingue variantes que difieren tan solo en un nucleótido.\" Texto traducido de [(Callahan et al 2016)](https://www.nature.com/articles/nmeth.3869)."
   ]
  },
  {
   "cell_type": "code",
   "execution_count": null,
   "id": "efe50b9a-650b-40b0-863e-36eee4a5ddfc",
   "metadata": {
    "tags": []
   },
   "outputs": [],
   "source": [
    "seqtab.nochim <- removeBimeraDenovo(seqtab, multithread = 4)"
   ]
  },
  {
   "cell_type": "markdown",
   "id": "ad81d8eb-e923-4c29-95b2-b620683cc87f",
   "metadata": {},
   "source": [
    "Veamos cuantos ASVs quedaron luego de la eliminación de bimeras."
   ]
  },
  {
   "cell_type": "code",
   "execution_count": null,
   "id": "a3fe85cc-21fa-4da1-ae3a-432656402283",
   "metadata": {},
   "outputs": [],
   "source": [
    "dim(seqtab.nochim)"
   ]
  },
  {
   "cell_type": "markdown",
   "id": "e3973445-d7bf-4d55-a22c-2e737a774f1c",
   "metadata": {
    "tags": []
   },
   "source": [
    "Con el siguiente comando podemos computar el porcentaje que fue eliminado:"
   ]
  },
  {
   "cell_type": "code",
   "execution_count": null,
   "id": "c2e3aa17-729a-478e-855b-178a74c0cc07",
   "metadata": {
    "tags": []
   },
   "outputs": [],
   "source": [
    "100 -(100*dim(seqtab.nochim)[2]/dim(seqtab)[2]) |> round(3)"
   ]
  },
  {
   "cell_type": "markdown",
   "id": "b5c08fca-68eb-4c89-a8c1-7921bae611b9",
   "metadata": {},
   "source": [
    "15.565% es un porcentaje bastante razonable. Comúnmente se observan valores más altos."
   ]
  },
  {
   "cell_type": "markdown",
   "id": "7611ce5d-36aa-49d9-9147-946470168268",
   "metadata": {},
   "source": [
    "Esta tabla es nuestro resultado final en la identificación de ASVs, por lo que vamos a guardarla en formato csv."
   ]
  },
  {
   "cell_type": "code",
   "execution_count": null,
   "id": "36e066ad-0c83-4907-a406-69335f0fecb1",
   "metadata": {
    "tags": []
   },
   "outputs": [],
   "source": [
    "OUTPUT_DIR <- \"./results\"\n",
    "dir.create(OUTPUT_DIR)\n",
    "write.csv(x = t(seqtab.nochim), file = file.path(OUTPUT_DIR, \"asv_abund.csv\"))"
   ]
  },
  {
   "cell_type": "markdown",
   "id": "0e784944-873c-46be-b971-cfed3daf27ce",
   "metadata": {},
   "source": [
    "---\n",
    "### 12. Rastreo de secuencias\n",
    "---"
   ]
  },
  {
   "cell_type": "markdown",
   "id": "b5f15e32-4fda-44b1-b4ba-62e893b47818",
   "metadata": {
    "tags": []
   },
   "source": [
    "---\n",
    "### Comienza sección <img src=\"../figures/uphill.png\" width=\"50\" height=\"50\" />\n",
    "---"
   ]
  },
  {
   "cell_type": "markdown",
   "id": "bcee167b-d123-448f-9562-111690a12f19",
   "metadata": {},
   "source": [
    "En esta tarea vamos a contar el número de secuencias en las distintas etapas del preprocesamiento, identificación de ASVs y eliminación de bimeras."
   ]
  },
  {
   "cell_type": "code",
   "execution_count": null,
   "id": "b51d9a30-137b-4fbf-8384-860b63e6b62e",
   "metadata": {
    "tags": []
   },
   "outputs": [],
   "source": [
    "track_n_seqs <- data.frame(samples = sample.names,\n",
    "                           raw = filterAndTrim_log[,1],\n",
    "                           filtered = filterAndTrim_log[,2],\n",
    "                           denoisedR1 = sapply(dadaR1, getUniques) %>% sapply(., sum),\n",
    "                           denoisedR2 = sapply(dadaR2, getUniques) %>% sapply(., sum), \n",
    "                           merged = sapply(mergers, getUniques) %>% sapply(., sum),\n",
    "                           nobim = rowSums(seqtab.nochim),\n",
    "                           stringsAsFactors = F)"
   ]
  },
  {
   "cell_type": "code",
   "execution_count": null,
   "id": "08cb2e1f-c894-4c95-986c-81289253174b",
   "metadata": {
    "tags": []
   },
   "outputs": [],
   "source": [
    "head(track_n_seqs) "
   ]
  },
  {
   "cell_type": "markdown",
   "id": "5421bd9e-44a3-4aa6-8a6b-3083e7846e21",
   "metadata": {
    "tags": []
   },
   "source": [
    "Pasamos a formato largo."
   ]
  },
  {
   "cell_type": "code",
   "execution_count": null,
   "id": "b8f57cd8-6620-4d70-ba26-4864e2f14ead",
   "metadata": {
    "tags": []
   },
   "outputs": [],
   "source": [
    "track_n_seqs_long <- track_n_seqs %>%\n",
    "                     pivot_longer(names_to = \"var\", \n",
    "                                  values_to = \"value\", \n",
    "                                  raw:nobim)"
   ]
  },
  {
   "cell_type": "markdown",
   "id": "7ab80ef5-cc56-486c-bcc8-4c326a466d42",
   "metadata": {},
   "source": [
    "Ordenamos los nombres de las variables de acuerdo al procesamiento de los datos."
   ]
  },
  {
   "cell_type": "code",
   "execution_count": null,
   "id": "0f8f69d6-a1df-4c65-a5dc-6e085e90ed3b",
   "metadata": {
    "tags": []
   },
   "outputs": [],
   "source": [
    "track_n_seqs_long$var <- factor(track_n_seqs_long$var, \n",
    "                                levels = c(\"raw\",\"filtered\", \"denoisedR1\", \n",
    "                                           \"denoisedR2\", \"merged\",\"nobim\"))"
   ]
  },
  {
   "cell_type": "markdown",
   "id": "7e31973e-07b2-4709-a517-632e67485494",
   "metadata": {},
   "source": [
    "Creamos la visualización."
   ]
  },
  {
   "cell_type": "code",
   "execution_count": null,
   "id": "f97abc0c-7275-4f67-b986-7dfec71f72e3",
   "metadata": {
    "tags": []
   },
   "outputs": [],
   "source": [
    "nseq_barplots <- ggplot(track_n_seqs_long, aes(x = var, y = value)) +\n",
    "                 facet_wrap(~ samples, ncol = 6, scales = \"free\") +\n",
    "                 geom_bar(stat = \"identity\", fill = \"gray50\", alpha = 0.7) +\n",
    "                 ylab(\"Number of seqs\") +\n",
    "                 theme_light() +\n",
    "                 theme(strip.background = element_blank(),\n",
    "                       strip.text = element_text(color = \"black\", face = \"bold\"),\n",
    "                       axis.text.x = element_text(angle = 45, hjust = 1),\n",
    "                       axis.title.x = element_blank())"
   ]
  },
  {
   "cell_type": "code",
   "execution_count": null,
   "id": "7b7a15f1-70c7-4699-96c5-354e14d8030f",
   "metadata": {
    "tags": []
   },
   "outputs": [],
   "source": [
    "options(repr.plot.width=20, repr.plot.height=12)\n",
    "nseq_barplots"
   ]
  },
  {
   "cell_type": "markdown",
   "id": "ee7a119e-31bb-4e03-9e97-71352ded4a1c",
   "metadata": {
    "tags": []
   },
   "source": [
    "---\n",
    "### Fin de sección <img src=\"../figures/uphill.png\" width=\"50\" height=\"50\" />\n",
    "---"
   ]
  },
  {
   "cell_type": "markdown",
   "id": "c2508444-56ea-4459-95c7-abe28409e19a",
   "metadata": {},
   "source": [
    "---\n",
    "### 13. Anotación taxonómica\n",
    "---"
   ]
  },
  {
   "cell_type": "markdown",
   "id": "a29d64ca-97b6-497e-af07-146639769e3e",
   "metadata": {},
   "source": [
    "Por último, estaremos realizando la anotación taxonómica de los ASVs. Nuevamente, existen varias herramientas que realizan esta tarea, cada una planteando sus argumentos a favor.\n",
    "En esta flujo de trabajo, con la finalidad de seguir trabajando en R, vamos a utilizar la función de DADA2 dedicada a la anotación taxonómica, la cual implementa el _Naive Bayes Classifier_: [assignTaxonomy](https://rdrr.io/bioc/dada2/man/assignTaxonomy.html)."
   ]
  },
  {
   "cell_type": "markdown",
   "id": "9b47fced-ed0e-4b6b-a2a7-a9b34bc99d32",
   "metadata": {},
   "source": [
    "Como recordás, este algoritmo consiste en una serie de modelos entrenados para cada género. En este caso estaremos utilizando la base de datos [Silva](https://www.arb-silva.de/) v138 (previamente formateada para su compatibilidad con `assignTaxonomy`)."
   ]
  },
  {
   "cell_type": "markdown",
   "id": "2315538e-d28c-4906-a1ae-e9d5a5d95819",
   "metadata": {
    "tags": []
   },
   "source": [
    "En los siguientes comandos vamos a crear un directorio `resources` en donde descargamos dicha base de datos (si es que no lo has creado ya en el práctico 1)."
   ]
  },
  {
   "cell_type": "code",
   "execution_count": null,
   "id": "6fbc6a8b-5491-4c60-b968-6d16c8a1fbed",
   "metadata": {
    "tags": []
   },
   "outputs": [],
   "source": [
    "OUTPUT_DIR <- \"./resources\"\n",
    "dir.create(OUTPUT_DIR)"
   ]
  },
  {
   "cell_type": "code",
   "execution_count": null,
   "id": "0de9f43b-1456-499b-88c1-d11c756dd06b",
   "metadata": {
    "tags": []
   },
   "outputs": [],
   "source": [
    "URL <- \"https://zenodo.org/records/4587955/files/silva_nr99_v138.1_train_set.fa.gz\"\n",
    "system2(\"wget\", args = c(paste(\"--directory-prefix\", OUTPUT_DIR, sep = \" \"), URL))"
   ]
  },
  {
   "cell_type": "markdown",
   "id": "1f75e770-a240-4254-a535-89d759fadacf",
   "metadata": {},
   "source": [
    "Vamos a guardar la ruta a estos datos una variable."
   ]
  },
  {
   "cell_type": "code",
   "execution_count": null,
   "id": "fef4d98e-acd4-4380-8919-e6cd7a35a0db",
   "metadata": {
    "tags": []
   },
   "outputs": [],
   "source": [
    "TRAIN_DB <- \"./resources/silva_nr99_v138.1_train_set.fa.gz\""
   ]
  },
  {
   "cell_type": "markdown",
   "id": "ae63f331-e935-4a75-af77-c08790886b58",
   "metadata": {},
   "source": [
    "Ya tenemos todo para correr la anotación taxonómica:"
   ]
  },
  {
   "cell_type": "code",
   "execution_count": null,
   "id": "a07ce6e7-42bb-4623-aa07-868796ab9ee2",
   "metadata": {
    "tags": []
   },
   "outputs": [],
   "source": [
    "annot_taxa <- assignTaxonomy(seqs = seqtab.nochim, \n",
    "                             refFasta = TRAIN_DB,\n",
    "                             outputBootstraps = T,\n",
    "                             multithread = 4)  "
   ]
  },
  {
   "cell_type": "markdown",
   "id": "5d3c6bcc-5f31-45d9-9e1d-c04f7d4048e4",
   "metadata": {},
   "source": [
    "Para tener mejor organizados los resultados, podemos cruzar la anotación taxonómica de los ASVs con la matriz de abundancias."
   ]
  },
  {
   "cell_type": "code",
   "execution_count": null,
   "id": "42da144d-108e-46ca-b25e-2f42f2bad7c5",
   "metadata": {
    "tags": []
   },
   "outputs": [],
   "source": [
    "seqtab_nochim_formatted <- seqtab.nochim %>%\n",
    "    t %>%\n",
    "    as.data.frame %>%\n",
    "    rownames_to_column(\"asv\")\n",
    "\n",
    "annot_taxa_formatted <- annot_taxa %>% \n",
    "    as.data.frame %>% \n",
    "    rownames_to_column(\"asv\")\n",
    "\n",
    "seqtab_nochim_taxa <- right_join(x = annot_taxa_formatted, \n",
    "                                 y = seqtab_nochim_formatted, \n",
    "                                  by = \"asv\")"
   ]
  },
  {
   "cell_type": "markdown",
   "id": "7842fae4-5ee1-4f7c-ba7b-8ab1d57135a1",
   "metadata": {
    "tags": []
   },
   "source": [
    "Con el comando `head(seqtab_nochim_taxa)` puedes inspeccionar la tabla y ver cómo quedaron organizados los resultados."
   ]
  },
  {
   "cell_type": "markdown",
   "id": "b0a8fec7-0b6c-45ce-a69d-7c556db88992",
   "metadata": {
    "tags": []
   },
   "source": [
    "Esta tabla es el resultado final todo el flujo de trabajo, por lo que vamos a guardarla como archivo csv."
   ]
  },
  {
   "cell_type": "code",
   "execution_count": null,
   "id": "a5ee228d-20ab-4781-bef8-705735ee9f67",
   "metadata": {
    "tags": []
   },
   "outputs": [],
   "source": [
    "OUTPUT_DIR <- \"./results\"\n",
    "write.csv(x = seqtab_nochim_taxa, file = file.path(OUTPUT_DIR, \"asv_abund_annot.csv\"))"
   ]
  },
  {
   "cell_type": "markdown",
   "id": "a1f165e9-2b3e-4be7-b826-de418b3b3e04",
   "metadata": {
    "tags": []
   },
   "source": [
    "Como último ejercicio te proponemos determinar el porcentaje de secuencias que fueron anotadas a nivel de filo y género, con un valor de _bootstrap_ mayor a 80%."
   ]
  }
 ],
 "metadata": {
  "kernelspec": {
   "display_name": "R",
   "language": "R",
   "name": "ir"
  },
  "language_info": {
   "codemirror_mode": "r",
   "file_extension": ".r",
   "mimetype": "text/x-r-source",
   "name": "R",
   "pygments_lexer": "r",
   "version": "4.2.2"
  }
 },
 "nbformat": 4,
 "nbformat_minor": 5
}
